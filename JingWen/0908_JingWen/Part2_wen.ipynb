{
 "cells": [
  {
   "cell_type": "code",
   "execution_count": 1,
   "metadata": {
    "executionInfo": {
     "elapsed": 428,
     "status": "ok",
     "timestamp": 1623236061470,
     "user": {
      "displayName": "黃侯弼",
      "photoUrl": "",
      "userId": "02394864078410571973"
     },
     "user_tz": -480
    },
    "id": "iVhpbtg0DuC5"
   },
   "outputs": [],
   "source": [
    "from os import listdir\n",
    "from os.path import isdir, join\n",
    "from tensorflow.keras import layers, models\n",
    "import numpy as np"
   ]
  },
  {
   "cell_type": "code",
   "execution_count": 2,
   "metadata": {
    "colab": {
     "base_uri": "https://localhost:8080/"
    },
    "executionInfo": {
     "elapsed": 5,
     "status": "ok",
     "timestamp": 1623236062585,
     "user": {
      "displayName": "黃侯弼",
      "photoUrl": "",
      "userId": "02394864078410571973"
     },
     "user_tz": -480
    },
    "id": "MZI1urklDuC6",
    "outputId": "9344224f-90ed-4d09-80e4-efd8c4bb7cac"
   },
   "outputs": [
    {
     "name": "stdout",
     "output_type": "stream",
     "text": [
      "['贅詞', '雜音']\n"
     ]
    }
   ],
   "source": [
    "# Create list of all targets (minus background noise)\n",
    "dataset_path = 'C:/Users/user/Desktop/recording1'\n",
    "all_targets = all_targets = [name for name in listdir(dataset_path) if isdir(join(dataset_path, name))]\n",
    "print(all_targets)"
   ]
  },
  {
   "cell_type": "code",
   "execution_count": 3,
   "metadata": {
    "executionInfo": {
     "elapsed": 301,
     "status": "ok",
     "timestamp": 1623236063859,
     "user": {
      "displayName": "黃侯弼",
      "photoUrl": "",
      "userId": "02394864078410571973"
     },
     "user_tz": -480
    },
    "id": "WgAcVkOeDuC6"
   },
   "outputs": [],
   "source": [
    "# Settings\n",
    "feature_sets_path = './'\n",
    "feature_sets_filename = 'appendEnergyTT_wen.npz'\n",
    "#model_filename = 'wake_word_stop_model.h5'\n",
    "#wake_word = '嗯'"
   ]
  },
  {
   "cell_type": "code",
   "execution_count": 4,
   "metadata": {
    "colab": {
     "base_uri": "https://localhost:8080/"
    },
    "executionInfo": {
     "elapsed": 458,
     "status": "ok",
     "timestamp": 1623236065288,
     "user": {
      "displayName": "黃侯弼",
      "photoUrl": "",
      "userId": "02394864078410571973"
     },
     "user_tz": -480
    },
    "id": "rJUTXuiVDuC7",
    "outputId": "4a7c5275-1bcb-4f85-dd65-18bb4e2630c9"
   },
   "outputs": [
    {
     "name": "stdout",
     "output_type": "stream",
     "text": [
      "['x_train', 'y_train', 'x_val', 'y_val', 'x_test', 'y_test']\n"
     ]
    }
   ],
   "source": [
    "# Load feature sets\n",
    "feature_sets = np.load(join(feature_sets_path, feature_sets_filename))\n",
    "print(feature_sets.files)"
   ]
  },
  {
   "cell_type": "code",
   "execution_count": 5,
   "metadata": {
    "colab": {
     "base_uri": "https://localhost:8080/"
    },
    "executionInfo": {
     "elapsed": 3,
     "status": "ok",
     "timestamp": 1623236066162,
     "user": {
      "displayName": "黃侯弼",
      "photoUrl": "",
      "userId": "02394864078410571973"
     },
     "user_tz": -480
    },
    "id": "0MTc8hMZDuC7",
    "outputId": "287b9ce7-b503-472c-dc22-1cf446a74c77"
   },
   "outputs": [
    {
     "name": "stdout",
     "output_type": "stream",
     "text": [
      "[0. 0. 0. 0. 0. 0. 1. 1. 1. 1. 1. 0. 0. 0. 0. 1. 1. 1. 1. 1. 0. 1. 1. 1.\n",
      " 1. 0. 1. 1. 0. 1. 1. 1. 1. 0. 1. 1. 1. 1. 1. 0. 1. 1. 0. 0. 1. 1. 0. 1.\n",
      " 0. 0. 1. 1. 0. 0. 1. 1. 0. 0. 0. 1. 0. 0. 1. 0. 0. 0. 0. 1. 1. 1. 0. 0.\n",
      " 0. 0. 0. 1. 0. 0. 0. 0. 1. 1. 1. 0. 0. 0. 1. 1. 0. 0. 0. 0. 0. 0. 1. 0.]\n",
      "[1. 1. 1. 0. 1. 0. 1. 0. 0. 1. 0. 0. 1. 0. 0. 1. 0. 1. 1. 1. 0. 0. 0. 0.\n",
      " 1. 1. 0. 0. 1. 1. 0. 1. 1. 1. 1. 0. 1. 0. 1. 0. 0. 0. 0. 0. 0. 0. 0. 0.\n",
      " 0. 0. 1. 1. 0. 0. 1. 1. 0. 0. 1. 1. 1. 0. 0. 0. 1. 0. 1. 1. 0. 1. 0. 1.\n",
      " 1. 0. 1. 0. 0. 0. 0. 1. 1. 1. 1. 1. 0. 1. 0. 0. 0. 1. 0. 0. 0. 1. 0. 1.\n",
      " 1. 0. 0. 1. 0. 0. 0. 1. 0. 1. 0. 0. 1. 0. 0. 1. 1. 0. 1. 1. 0. 1. 0. 0.\n",
      " 1. 0. 1. 1. 0. 1. 1. 0. 1. 1. 0. 1. 1. 0. 1. 0. 1. 0. 0. 1. 0. 0. 1. 1.\n",
      " 1. 0. 0. 1. 1. 0. 0. 1. 1. 0. 1. 1. 0. 0. 0. 1. 1. 1. 0. 0. 1. 0. 0. 1.\n",
      " 1. 1. 0. 1. 1. 0. 1. 0. 0. 1. 1. 1. 1. 1. 0. 1. 1. 1. 0. 0. 0. 0. 0. 1.\n",
      " 1. 1. 1. 1. 0. 1. 1. 0. 0. 1. 0. 0. 0. 1. 1. 0. 1. 1. 1. 0. 1. 1. 0. 0.\n",
      " 0. 0. 1. 1. 0. 0. 1. 1. 0. 1. 0. 0. 1. 1. 0. 1. 1. 1. 0. 1. 1. 1. 0. 1.\n",
      " 0. 0. 1. 1. 0. 0. 1. 1. 0. 1. 1. 0. 1. 1. 1. 0. 1. 1. 0. 1. 1. 0. 1. 0.\n",
      " 0. 1. 0. 0. 0. 1. 0. 1. 0. 0. 1. 0. 1. 1. 0. 0. 0. 1. 1. 0. 1. 0. 1. 0.\n",
      " 0. 1. 0. 1. 1. 1. 0. 0. 1. 1. 1. 0. 0. 0. 1. 0. 1. 1. 1. 0. 0. 1. 0. 0.\n",
      " 0. 1. 0. 1. 1. 1. 1. 0. 1. 0. 1. 1. 0. 1. 1. 0. 1. 1. 1. 1. 1. 0. 0. 0.\n",
      " 0. 0. 0. 0. 1. 0. 0. 0. 1. 0. 1. 0. 0. 1. 0. 1. 0. 0. 0. 1. 0. 0. 0. 1.\n",
      " 1. 1. 0. 0. 1. 1. 1. 1. 1. 1. 0. 1. 0. 0. 0. 0. 0. 1. 0. 0. 1. 0. 1. 1.\n",
      " 0. 0. 1. 1. 0. 0. 1. 0. 1. 1. 1. 1. 0. 1. 0. 0. 0. 1. 1. 0. 1. 0. 0. 0.\n",
      " 0. 0. 1. 1. 1. 1. 1. 0. 1. 1. 1. 0. 1. 0. 0. 0. 0. 1. 1. 0. 0. 0. 1. 0.\n",
      " 1. 0. 1. 0. 0. 1. 1. 0. 1. 0. 1. 0. 0. 1. 1. 1. 0. 1. 0. 0. 0. 1. 0. 0.\n",
      " 1. 1. 0. 1. 0. 1. 0. 1. 0. 1. 0. 1. 1. 0. 1. 1. 1. 0. 1. 1. 0. 0. 1. 0.\n",
      " 0. 0. 0. 1. 1. 1. 0. 0. 1. 1. 0. 1. 1. 0. 1. 0. 0. 1. 0. 1. 0. 0. 1. 0.\n",
      " 1. 1. 1. 0. 1. 0. 1. 1. 1. 0. 1. 1. 1. 0. 1. 1. 1. 1. 0. 0. 1. 0. 1. 0.\n",
      " 0. 0. 0. 0. 1. 1. 1. 1. 1. 1. 1. 1. 1. 1. 0. 0. 0. 0. 0. 1. 1. 0. 1. 1.\n",
      " 0. 0. 1. 0. 1. 1. 1. 1. 1. 0. 0. 0. 0. 0. 1. 0. 1. 0. 0. 1. 1. 0. 0. 1.\n",
      " 1. 1. 1. 0. 1. 0. 1. 1. 1. 0. 1. 1. 0. 1. 1. 0. 0. 0. 1. 1. 0. 1. 0. 0.\n",
      " 0. 0. 1. 0. 1. 1. 1. 0. 1. 1. 0. 1. 1. 1. 1. 1. 1. 1. 0. 1. 0. 1. 1. 1.\n",
      " 0. 0. 0. 0. 0. 1. 1. 1. 0. 0. 0. 1. 0. 0. 0. 1. 0. 1. 0. 1. 1. 0. 0. 1.\n",
      " 1. 1. 0. 1. 0. 0. 0. 0. 1. 0. 0. 1. 1. 1. 0. 0. 1. 1. 1. 0. 1. 0. 1. 0.\n",
      " 0. 1. 0. 1. 1. 1. 1. 1. 1. 0. 1. 0. 0. 0. 0. 0. 1. 1. 0. 0. 1. 1. 1. 1.\n",
      " 0. 1. 1. 0. 1. 1. 1. 0. 0. 1. 1. 0. 0. 0. 1. 1. 1. 0. 1. 0. 1. 1. 1. 0.\n",
      " 0. 0. 0. 1. 0. 1. 1. 1. 1. 0. 1. 0. 0. 0. 1. 1. 1. 1. 0. 0. 1. 0. 1. 1.\n",
      " 1. 0. 1. 1. 0. 1. 0. 1. 0. 0. 1. 1. 0. 0. 1. 0. 0. 0. 0. 0. 0. 0. 1. 0.]\n",
      "[0. 0. 1. 1. 0. 0. 1. 0. 0. 0. 0. 0. 0. 1. 0. 0. 0. 0. 0. 1. 0. 0. 0. 0.\n",
      " 0. 0. 1. 1. 1. 1. 0. 1. 0. 1. 1. 1. 1. 0. 1. 1. 0. 1. 0. 0. 1. 1. 0. 0.\n",
      " 1. 1. 0. 0. 1. 0. 0. 0. 1. 0. 0. 1. 0. 0. 1. 0. 0. 0. 0. 0. 0. 1. 1. 0.\n",
      " 0. 1. 1. 0. 1. 1. 0. 1. 1. 0. 0. 1. 1. 0. 0. 1. 0. 1. 1. 0. 0. 1. 0. 0.]\n"
     ]
    }
   ],
   "source": [
    "# Assign feature sets\n",
    "x_train = feature_sets['x_train']\n",
    "y_train = feature_sets['y_train']\n",
    "x_val = feature_sets['x_val']\n",
    "y_val = feature_sets['y_val']\n",
    "x_test = feature_sets['x_test']\n",
    "y_test = feature_sets['y_test']\n",
    "print(y_test)\n",
    "print(y_train)\n",
    "print(y_val)"
   ]
  },
  {
   "cell_type": "code",
   "execution_count": 6,
   "metadata": {
    "colab": {
     "base_uri": "https://localhost:8080/"
    },
    "executionInfo": {
     "elapsed": 262,
     "status": "ok",
     "timestamp": 1623236068434,
     "user": {
      "displayName": "黃侯弼",
      "photoUrl": "",
      "userId": "02394864078410571973"
     },
     "user_tz": -480
    },
    "id": "r2XzOXwdDuC8",
    "outputId": "6d00862e-4d37-415c-b854-22b4cdd10698"
   },
   "outputs": [
    {
     "name": "stdout",
     "output_type": "stream",
     "text": [
      "(768, 23, 16)\n",
      "(96, 23, 16)\n",
      "(96, 23, 16)\n"
     ]
    }
   ],
   "source": [
    "# Look at tensor dimensions\n",
    "print(x_train.shape)\n",
    "print(x_val.shape)\n",
    "print(x_test.shape)"
   ]
  },
  {
   "cell_type": "code",
   "execution_count": 7,
   "metadata": {
    "colab": {
     "base_uri": "https://localhost:8080/"
    },
    "executionInfo": {
     "elapsed": 439,
     "status": "ok",
     "timestamp": 1623236069774,
     "user": {
      "displayName": "黃侯弼",
      "photoUrl": "",
      "userId": "02394864078410571973"
     },
     "user_tz": -480
    },
    "id": "N-l9zl-GDuC9",
    "outputId": "fd2762fb-1345-41d2-8108-985fcd157a52"
   },
   "outputs": [
    {
     "name": "stdout",
     "output_type": "stream",
     "text": [
      "[0. 0. 1. 1. 0. 0. 1. 0. 0. 0. 0. 0. 0. 1. 0. 0. 0. 0. 0. 1. 0. 0. 0. 0.\n",
      " 0. 0. 1. 1. 1. 1. 0. 1. 0. 1. 1. 1. 1. 0. 1. 1. 0. 1. 0. 0. 1. 1. 0. 0.\n",
      " 1. 1. 0. 0. 1. 0. 0. 0. 1. 0. 0. 1. 0. 0. 1. 0. 0. 0. 0. 0. 0. 1. 1. 0.\n",
      " 0. 1. 1. 0. 1. 1. 0. 1. 1. 0. 0. 1. 1. 0. 0. 1. 0. 1. 1. 0. 0. 1. 0. 0.]\n"
     ]
    }
   ],
   "source": [
    "# Peek at labels\n",
    "print(y_val)"
   ]
  },
  {
   "cell_type": "code",
   "execution_count": 8,
   "metadata": {
    "colab": {
     "base_uri": "https://localhost:8080/"
    },
    "executionInfo": {
     "elapsed": 4,
     "status": "ok",
     "timestamp": 1623236070623,
     "user": {
      "displayName": "黃侯弼",
      "photoUrl": "",
      "userId": "02394864078410571973"
     },
     "user_tz": -480
    },
    "id": "nY3RGYbPDuC-",
    "outputId": "deded680-fc57-4da6-c054-a4648b5007eb"
   },
   "outputs": [
    {
     "name": "stdout",
     "output_type": "stream",
     "text": [
      "[0. 0. 0. 0. 0. 0. 1. 1. 1. 1. 1. 0. 0. 0. 0. 1. 1. 1. 1. 1. 0. 1. 1. 1.\n",
      " 1. 0. 1. 1. 0. 1. 1. 1. 1. 0. 1. 1. 1. 1. 1. 0. 1. 1. 0. 0. 1. 1. 0. 1.\n",
      " 0. 0. 1. 1. 0. 0. 1. 1. 0. 0. 0. 1. 0. 0. 1. 0. 0. 0. 0. 1. 1. 1. 0. 0.\n",
      " 0. 0. 0. 1. 0. 0. 0. 0. 1. 1. 1. 0. 0. 0. 1. 1. 0. 0. 0. 0. 0. 0. 1. 0.]\n"
     ]
    }
   ],
   "source": [
    "# Peek at labels after conversion\n",
    "print(y_test)"
   ]
  },
  {
   "cell_type": "code",
   "execution_count": 9,
   "metadata": {
    "colab": {
     "base_uri": "https://localhost:8080/"
    },
    "executionInfo": {
     "elapsed": 5,
     "status": "ok",
     "timestamp": 1623236071679,
     "user": {
      "displayName": "黃侯弼",
      "photoUrl": "",
      "userId": "02394864078410571973"
     },
     "user_tz": -480
    },
    "id": "8I1_x2yvDuC-",
    "outputId": "0d138400-6662-4175-8a1f-f640e3f2bf6d"
   },
   "outputs": [
    {
     "name": "stdout",
     "output_type": "stream",
     "text": [
      "(768, 23, 16)\n"
     ]
    }
   ],
   "source": [
    "# View the dimensions of our input data\n",
    "print(x_train.shape)"
   ]
  },
  {
   "cell_type": "code",
   "execution_count": 10,
   "metadata": {
    "colab": {
     "base_uri": "https://localhost:8080/"
    },
    "executionInfo": {
     "elapsed": 4,
     "status": "ok",
     "timestamp": 1623236072760,
     "user": {
      "displayName": "黃侯弼",
      "photoUrl": "",
      "userId": "02394864078410571973"
     },
     "user_tz": -480
    },
    "id": "i_zQsgz4DuC_",
    "outputId": "94a9c63d-7b06-4e8f-8c10-2aaab2aebe64",
    "scrolled": true
   },
   "outputs": [
    {
     "name": "stdout",
     "output_type": "stream",
     "text": [
      "(768, 23, 16, 1)\n",
      "(96, 23, 16, 1)\n",
      "(96, 23, 16, 1)\n"
     ]
    }
   ],
   "source": [
    "# CNN for TF expects (batch, height, width, channels)\n",
    "# So we reshape the input tensors with a \"color\" channel of 1\n",
    "x_train = x_train.reshape(x_train.shape[0], \n",
    "                          x_train.shape[1], \n",
    "                          x_train.shape[2], \n",
    "                          1)\n",
    "x_val = x_val.reshape(x_val.shape[0], \n",
    "                      x_val.shape[1], \n",
    "                      x_val.shape[2], \n",
    "                      1)\n",
    "x_test = x_test.reshape(x_test.shape[0], \n",
    "                        x_test.shape[1], \n",
    "                        x_test.shape[2], \n",
    "                        1)\n",
    "print(x_train.shape)\n",
    "print(x_val.shape)\n",
    "print(x_test.shape)"
   ]
  },
  {
   "cell_type": "code",
   "execution_count": 11,
   "metadata": {
    "colab": {
     "base_uri": "https://localhost:8080/"
    },
    "executionInfo": {
     "elapsed": 281,
     "status": "ok",
     "timestamp": 1623236074651,
     "user": {
      "displayName": "黃侯弼",
      "photoUrl": "",
      "userId": "02394864078410571973"
     },
     "user_tz": -480
    },
    "id": "Ge2MCNusDuC_",
    "outputId": "7c995061-d01d-4a96-a14f-fbee6804b4d4"
   },
   "outputs": [
    {
     "name": "stdout",
     "output_type": "stream",
     "text": [
      "(23, 16, 1)\n"
     ]
    }
   ],
   "source": [
    "# Input shape for CNN is size of MFCC of 1 sample\n",
    "sample_shape = x_test.shape[1:]\n",
    "print(sample_shape)"
   ]
  },
  {
   "cell_type": "code",
   "execution_count": 12,
   "metadata": {
    "colab": {
     "base_uri": "https://localhost:8080/"
    },
    "executionInfo": {
     "elapsed": 264,
     "status": "ok",
     "timestamp": 1623237350948,
     "user": {
      "displayName": "黃侯弼",
      "photoUrl": "",
      "userId": "02394864078410571973"
     },
     "user_tz": -480
    },
    "id": "2JqUOHp9DuDA",
    "outputId": "cc676686-8778-47c0-d5eb-183d137369d2"
   },
   "outputs": [
    {
     "name": "stdout",
     "output_type": "stream",
     "text": [
      "Model: \"sequential\"\n",
      "_________________________________________________________________\n",
      "Layer (type)                 Output Shape              Param #   \n",
      "=================================================================\n",
      "conv2d (Conv2D)              (None, 22, 15, 32)        160       \n",
      "_________________________________________________________________\n",
      "max_pooling2d (MaxPooling2D) (None, 11, 7, 32)         0         \n",
      "_________________________________________________________________\n",
      "conv2d_1 (Conv2D)            (None, 10, 6, 64)         8256      \n",
      "_________________________________________________________________\n",
      "max_pooling2d_1 (MaxPooling2 (None, 5, 3, 64)          0         \n",
      "_________________________________________________________________\n",
      "conv2d_2 (Conv2D)            (None, 4, 2, 128)         32896     \n",
      "_________________________________________________________________\n",
      "max_pooling2d_2 (MaxPooling2 (None, 2, 1, 128)         0         \n",
      "_________________________________________________________________\n",
      "dropout (Dropout)            (None, 2, 1, 128)         0         \n",
      "_________________________________________________________________\n",
      "flatten (Flatten)            (None, 256)               0         \n",
      "_________________________________________________________________\n",
      "dense (Dense)                (None, 64)                16448     \n",
      "_________________________________________________________________\n",
      "dropout_1 (Dropout)          (None, 64)                0         \n",
      "_________________________________________________________________\n",
      "dense_1 (Dense)              (None, 2)                 130       \n",
      "=================================================================\n",
      "Total params: 57,890\n",
      "Trainable params: 57,890\n",
      "Non-trainable params: 0\n",
      "_________________________________________________________________\n"
     ]
    }
   ],
   "source": [
    "model = models.Sequential()\n",
    "model.add(layers.Conv2D(32, (2, 2), activation='relu',input_shape=sample_shape))\n",
    "model.add(layers.MaxPooling2D(pool_size=(2, 2)))\n",
    "\n",
    "\n",
    "model.add(layers.Conv2D(64, (2, 2), activation='relu'))#64\n",
    "model.add(layers.MaxPooling2D(pool_size=(2, 2)))\n",
    "\n",
    "model.add(layers.Conv2D(128, (2, 2), activation='relu'))\n",
    "model.add(layers.MaxPooling2D(pool_size=(2, 2)))\n",
    "model.add(layers.Dropout(0.2))\n",
    "\n",
    "# Classifier\n",
    "model.add(layers.Flatten())\n",
    "model.add(layers.Dense(64, activation='relu'))#64\n",
    "model.add(layers.Dropout(0.2))\n",
    "model.add(layers.Dense(2, activation='softmax'))\n",
    "# Display model\n",
    "model.summary()\n"
   ]
  },
  {
   "cell_type": "code",
   "execution_count": 13,
   "metadata": {
    "colab": {
     "base_uri": "https://localhost:8080/"
    },
    "executionInfo": {
     "elapsed": 402,
     "status": "ok",
     "timestamp": 1623237353164,
     "user": {
      "displayName": "黃侯弼",
      "photoUrl": "",
      "userId": "02394864078410571973"
     },
     "user_tz": -480
    },
    "id": "sp5WfpkJDuDA",
    "outputId": "e7c65039-b132-4490-ce02-0897a4ca9bdc"
   },
   "outputs": [],
   "source": [
    "from tensorflow.keras import optimizers\n",
    "# Add training parameters to model\n",
    "model.compile(loss='sparse_categorical_crossentropy', \n",
    "              optimizer='adam',    #'adam'\n",
    "              metrics=['acc'])"
   ]
  },
  {
   "cell_type": "code",
   "execution_count": 14,
   "metadata": {
    "colab": {
     "base_uri": "https://localhost:8080/"
    },
    "executionInfo": {
     "elapsed": 6626,
     "status": "ok",
     "timestamp": 1623237360783,
     "user": {
      "displayName": "黃侯弼",
      "photoUrl": "",
      "userId": "02394864078410571973"
     },
     "user_tz": -480
    },
    "id": "s46KMbZbDuDB",
    "outputId": "ff0b8470-8926-4dd5-bd90-db3c765b1d90",
    "scrolled": true
   },
   "outputs": [
    {
     "name": "stdout",
     "output_type": "stream",
     "text": [
      "Epoch 1/60\n",
      "26/26 [==============================] - 2s 44ms/step - loss: 0.6742 - acc: 0.5578 - val_loss: 0.5280 - val_acc: 0.8021\n",
      "Epoch 2/60\n",
      "26/26 [==============================] - 0s 9ms/step - loss: 0.5253 - acc: 0.7461 - val_loss: 0.4238 - val_acc: 0.8646\n",
      "Epoch 3/60\n",
      "26/26 [==============================] - 0s 9ms/step - loss: 0.4372 - acc: 0.8146 - val_loss: 0.4521 - val_acc: 0.8125\n",
      "Epoch 4/60\n",
      "26/26 [==============================] - 0s 8ms/step - loss: 0.3218 - acc: 0.8694 - val_loss: 0.2960 - val_acc: 0.9375\n",
      "Epoch 5/60\n",
      "26/26 [==============================] - 0s 9ms/step - loss: 0.2774 - acc: 0.8954 - val_loss: 0.2794 - val_acc: 0.8854\n",
      "Epoch 6/60\n",
      "26/26 [==============================] - 0s 9ms/step - loss: 0.2385 - acc: 0.9003 - val_loss: 0.2182 - val_acc: 0.9375\n",
      "Epoch 7/60\n",
      "26/26 [==============================] - 0s 8ms/step - loss: 0.1760 - acc: 0.9444 - val_loss: 0.2082 - val_acc: 0.9271\n",
      "Epoch 8/60\n",
      "26/26 [==============================] - 0s 8ms/step - loss: 0.1165 - acc: 0.9658 - val_loss: 0.2533 - val_acc: 0.9271\n",
      "Epoch 9/60\n",
      "26/26 [==============================] - 0s 8ms/step - loss: 0.1062 - acc: 0.9676 - val_loss: 0.1536 - val_acc: 0.9271\n",
      "Epoch 10/60\n",
      "26/26 [==============================] - 0s 8ms/step - loss: 0.0932 - acc: 0.9666 - val_loss: 0.1772 - val_acc: 0.9167\n",
      "Epoch 11/60\n",
      "26/26 [==============================] - 0s 8ms/step - loss: 0.0703 - acc: 0.9735 - val_loss: 0.0866 - val_acc: 0.9688\n",
      "Epoch 12/60\n",
      "26/26 [==============================] - 0s 8ms/step - loss: 0.0659 - acc: 0.9826 - val_loss: 0.1075 - val_acc: 0.9479\n",
      "Epoch 13/60\n",
      "26/26 [==============================] - 0s 8ms/step - loss: 0.0475 - acc: 0.9806 - val_loss: 0.1732 - val_acc: 0.9479\n",
      "Epoch 14/60\n",
      "26/26 [==============================] - 0s 9ms/step - loss: 0.0465 - acc: 0.9873 - val_loss: 0.1069 - val_acc: 0.9688\n",
      "Epoch 15/60\n",
      "26/26 [==============================] - 0s 8ms/step - loss: 0.0411 - acc: 0.9880 - val_loss: 0.2351 - val_acc: 0.9167\n",
      "Epoch 16/60\n",
      "26/26 [==============================] - 0s 8ms/step - loss: 0.0561 - acc: 0.9777 - val_loss: 0.1051 - val_acc: 0.9583\n",
      "Epoch 17/60\n",
      "26/26 [==============================] - 0s 8ms/step - loss: 0.0420 - acc: 0.9877 - val_loss: 0.0853 - val_acc: 0.9688\n",
      "Epoch 18/60\n",
      "26/26 [==============================] - 0s 8ms/step - loss: 0.0300 - acc: 0.9893 - val_loss: 0.0909 - val_acc: 0.9583\n",
      "Epoch 19/60\n",
      "26/26 [==============================] - 0s 8ms/step - loss: 0.0240 - acc: 0.9935 - val_loss: 0.0621 - val_acc: 0.9896\n",
      "Epoch 20/60\n",
      "26/26 [==============================] - 0s 8ms/step - loss: 0.0266 - acc: 0.9890 - val_loss: 0.0555 - val_acc: 0.9896\n",
      "Epoch 21/60\n",
      "26/26 [==============================] - 0s 8ms/step - loss: 0.0154 - acc: 0.9983 - val_loss: 0.0759 - val_acc: 0.9792\n",
      "Epoch 22/60\n",
      "26/26 [==============================] - 0s 9ms/step - loss: 0.0100 - acc: 0.9995 - val_loss: 0.1452 - val_acc: 0.9375\n",
      "Epoch 23/60\n",
      "26/26 [==============================] - 0s 8ms/step - loss: 0.0065 - acc: 1.0000 - val_loss: 0.0936 - val_acc: 0.9688\n",
      "Epoch 24/60\n",
      "26/26 [==============================] - 0s 8ms/step - loss: 0.0161 - acc: 0.9937 - val_loss: 0.0671 - val_acc: 0.9896\n",
      "Epoch 25/60\n",
      "26/26 [==============================] - 0s 8ms/step - loss: 0.0377 - acc: 0.9944 - val_loss: 0.0784 - val_acc: 0.9792\n",
      "Epoch 26/60\n",
      "26/26 [==============================] - 0s 9ms/step - loss: 0.0138 - acc: 0.9964 - val_loss: 0.0974 - val_acc: 0.9688\n",
      "Epoch 27/60\n",
      "26/26 [==============================] - 0s 8ms/step - loss: 0.0073 - acc: 0.9964 - val_loss: 0.0578 - val_acc: 0.9688\n",
      "Epoch 28/60\n",
      "26/26 [==============================] - 0s 8ms/step - loss: 0.0087 - acc: 0.9969 - val_loss: 0.1211 - val_acc: 0.9688\n",
      "Epoch 29/60\n",
      "26/26 [==============================] - 0s 8ms/step - loss: 0.0112 - acc: 0.9988 - val_loss: 0.0771 - val_acc: 0.9688\n",
      "Epoch 30/60\n",
      "26/26 [==============================] - 0s 8ms/step - loss: 0.0283 - acc: 0.9887 - val_loss: 0.0545 - val_acc: 0.9896\n",
      "Epoch 31/60\n",
      "26/26 [==============================] - 0s 8ms/step - loss: 0.0088 - acc: 0.9973 - val_loss: 0.1118 - val_acc: 0.9688\n",
      "Epoch 32/60\n",
      "26/26 [==============================] - 0s 8ms/step - loss: 0.0115 - acc: 0.9981 - val_loss: 0.1332 - val_acc: 0.9479\n",
      "Epoch 33/60\n",
      "26/26 [==============================] - 0s 8ms/step - loss: 0.0138 - acc: 0.9950 - val_loss: 0.2266 - val_acc: 0.9271\n",
      "Epoch 34/60\n",
      "26/26 [==============================] - 0s 8ms/step - loss: 0.0074 - acc: 1.0000 - val_loss: 0.1012 - val_acc: 0.9792\n",
      "Epoch 35/60\n",
      "26/26 [==============================] - 0s 8ms/step - loss: 0.0025 - acc: 1.0000 - val_loss: 0.0951 - val_acc: 0.9792\n",
      "Epoch 36/60\n",
      "26/26 [==============================] - 0s 8ms/step - loss: 0.0032 - acc: 1.0000 - val_loss: 0.1473 - val_acc: 0.9792\n",
      "Epoch 37/60\n",
      "26/26 [==============================] - 0s 9ms/step - loss: 0.0030 - acc: 0.9991 - val_loss: 0.1369 - val_acc: 0.9583\n",
      "Epoch 38/60\n",
      "26/26 [==============================] - 0s 8ms/step - loss: 0.0057 - acc: 0.9970 - val_loss: 0.0848 - val_acc: 0.9583\n",
      "Epoch 39/60\n",
      "26/26 [==============================] - 0s 9ms/step - loss: 0.0035 - acc: 0.9992 - val_loss: 0.1769 - val_acc: 0.9688\n",
      "Epoch 40/60\n",
      "26/26 [==============================] - 0s 8ms/step - loss: 0.0049 - acc: 0.9994 - val_loss: 0.1013 - val_acc: 0.9479\n",
      "Epoch 41/60\n",
      "26/26 [==============================] - 0s 9ms/step - loss: 0.0363 - acc: 0.9846 - val_loss: 0.1123 - val_acc: 0.9688\n",
      "Epoch 42/60\n",
      "26/26 [==============================] - 0s 8ms/step - loss: 0.0265 - acc: 0.9940 - val_loss: 0.0599 - val_acc: 0.9896\n",
      "Epoch 43/60\n",
      "26/26 [==============================] - 0s 9ms/step - loss: 0.0084 - acc: 1.0000 - val_loss: 0.0801 - val_acc: 0.9688\n",
      "Epoch 44/60\n",
      "26/26 [==============================] - 0s 8ms/step - loss: 0.0416 - acc: 0.9948 - val_loss: 0.0971 - val_acc: 0.9792\n",
      "Epoch 45/60\n",
      "26/26 [==============================] - 0s 8ms/step - loss: 0.0029 - acc: 1.0000 - val_loss: 0.1100 - val_acc: 0.9792\n",
      "Epoch 46/60\n",
      "26/26 [==============================] - 0s 9ms/step - loss: 8.0733e-04 - acc: 1.0000 - val_loss: 0.1323 - val_acc: 0.9688\n",
      "Epoch 47/60\n",
      "26/26 [==============================] - 0s 8ms/step - loss: 0.0010 - acc: 1.0000 - val_loss: 0.0883 - val_acc: 0.9792\n",
      "Epoch 48/60\n",
      "26/26 [==============================] - 0s 8ms/step - loss: 0.0011 - acc: 1.0000 - val_loss: 0.1154 - val_acc: 0.9688\n",
      "Epoch 49/60\n",
      "26/26 [==============================] - 0s 9ms/step - loss: 0.0017 - acc: 0.9992 - val_loss: 0.0442 - val_acc: 0.9896\n",
      "Epoch 50/60\n",
      "26/26 [==============================] - 0s 10ms/step - loss: 0.0019 - acc: 1.0000 - val_loss: 0.1219 - val_acc: 0.9688\n",
      "Epoch 51/60\n",
      "26/26 [==============================] - 0s 10ms/step - loss: 4.0024e-04 - acc: 1.0000 - val_loss: 0.1138 - val_acc: 0.9792\n",
      "Epoch 52/60\n",
      "26/26 [==============================] - 0s 10ms/step - loss: 8.4861e-04 - acc: 1.0000 - val_loss: 0.1207 - val_acc: 0.9688\n",
      "Epoch 53/60\n",
      "26/26 [==============================] - 0s 10ms/step - loss: 0.0012 - acc: 1.0000 - val_loss: 0.1033 - val_acc: 0.9792\n",
      "Epoch 54/60\n",
      "26/26 [==============================] - 0s 9ms/step - loss: 0.0036 - acc: 1.0000 - val_loss: 0.0588 - val_acc: 0.9896\n",
      "Epoch 55/60\n",
      "26/26 [==============================] - 0s 9ms/step - loss: 0.0012 - acc: 1.0000 - val_loss: 0.1034 - val_acc: 0.9792\n",
      "Epoch 56/60\n",
      "26/26 [==============================] - 0s 9ms/step - loss: 6.2777e-04 - acc: 1.0000 - val_loss: 0.0927 - val_acc: 0.9792\n",
      "Epoch 57/60\n",
      "26/26 [==============================] - 0s 8ms/step - loss: 2.1649e-04 - acc: 1.0000 - val_loss: 0.0957 - val_acc: 0.9792\n",
      "Epoch 58/60\n",
      "26/26 [==============================] - 0s 8ms/step - loss: 3.4102e-04 - acc: 1.0000 - val_loss: 0.1180 - val_acc: 0.9688\n",
      "Epoch 59/60\n",
      "26/26 [==============================] - 0s 8ms/step - loss: 2.2484e-04 - acc: 1.0000 - val_loss: 0.1415 - val_acc: 0.9688\n",
      "Epoch 60/60\n",
      "26/26 [==============================] - 0s 8ms/step - loss: 0.0010 - acc: 1.0000 - val_loss: 0.1442 - val_acc: 0.9688\n"
     ]
    }
   ],
   "source": [
    "# Train\n",
    "history = model.fit(x_train, \n",
    "                    y_train, \n",
    "                    epochs=60,\n",
    "                    batch_size=30,\n",
    "                    validation_data=(x_val, y_val))"
   ]
  },
  {
   "cell_type": "code",
   "execution_count": 18,
   "metadata": {
    "colab": {
     "base_uri": "https://localhost:8080/",
     "height": 545
    },
    "executionInfo": {
     "elapsed": 1003,
     "status": "ok",
     "timestamp": 1623237367971,
     "user": {
      "displayName": "黃侯弼",
      "photoUrl": "",
      "userId": "02394864078410571973"
     },
     "user_tz": -480
    },
    "id": "UHFvFGu9DuDB",
    "outputId": "d91020e9-a37e-47d8-c204-00bf612c2908"
   },
   "outputs": [
    {
     "data": {
      "image/png": "[encoded data removed]",
      "text/plain": [
       "<Figure size 432x288 with 1 Axes>"
      ]
     },
     "metadata": {
      "needs_background": "light"
     },
     "output_type": "display_data"
    },
    {
     "data": {
      "image/png": "[encoded data removed]",
      "text/plain": [
       "<Figure size 432x288 with 1 Axes>"
      ]
     },
     "metadata": {
      "needs_background": "light"
     },
     "output_type": "display_data"
    }
   ],
   "source": [
    "# Plot results\n",
    "import matplotlib.pyplot as plt\n",
    "\n",
    "acc = history.history['acc']\n",
    "val_acc = history.history['val_acc']\n",
    "loss = history.history['loss']\n",
    "val_loss = history.history['val_loss']\n",
    "\n",
    "epochs = range(1, len(acc) + 1)\n",
    "\n",
    "plt.plot(epochs, acc, 'bo', label='Training acc')\n",
    "plt.plot(epochs, val_acc, 'b', label='Validation acc')\n",
    "plt.title('Training and validation accuracy')\n",
    "plt.legend()\n",
    "\n",
    "plt.figure()\n",
    "\n",
    "plt.plot(epochs, loss, 'bo', label='Training loss')\n",
    "plt.plot(epochs, val_loss, 'b', label='Validation loss')\n",
    "plt.title('Training and validation loss')\n",
    "plt.legend()\n",
    "\n",
    "plt.show()"
   ]
  },
  {
   "cell_type": "code",
   "execution_count": 19,
   "metadata": {
    "executionInfo": {
     "elapsed": 263,
     "status": "ok",
     "timestamp": 1623237370995,
     "user": {
      "displayName": "黃侯弼",
      "photoUrl": "",
      "userId": "02394864078410571973"
     },
     "user_tz": -480
    },
    "id": "mKcsAPK-DuDB"
   },
   "outputs": [],
   "source": [
    "# Save the model as a file\n",
    "models.save_model(model, './h5/appendEnergyTT_wen.h5')"
   ]
  },
  {
   "cell_type": "code",
   "execution_count": 20,
   "metadata": {
    "colab": {
     "base_uri": "https://localhost:8080/"
    },
    "executionInfo": {
     "elapsed": 774,
     "status": "ok",
     "timestamp": 1623237372852,
     "user": {
      "displayName": "黃侯弼",
      "photoUrl": "",
      "userId": "02394864078410571973"
     },
     "user_tz": -480
    },
    "id": "rOAEZ7PKDuDC",
    "outputId": "ec42e9de-9b6c-4269-b804-bd8df580acf4"
   },
   "outputs": [
    {
     "name": "stdout",
     "output_type": "stream",
     "text": [
      "Answer: 0.0  Prediction: [[9.9997663e-01 2.3389448e-05]]\n",
      "Answer: 0.0  Prediction: [[9.9998140e-01 1.8642446e-05]]\n",
      "Answer: 0.0  Prediction: [[0.9980862  0.00191379]]\n",
      "Answer: 0.0  Prediction: [[0.9767461  0.02325391]]\n",
      "Answer: 0.0  Prediction: [[1.000000e+00 8.691786e-11]]\n",
      "Answer: 0.0  Prediction: [[9.9997056e-01 2.9433751e-05]]\n",
      "Answer: 1.0  Prediction: [[1.33269165e-08 1.00000000e+00]]\n",
      "Answer: 1.0  Prediction: [[4.8909794e-08 1.0000000e+00]]\n",
      "Answer: 1.0  Prediction: [[2.4789067e-08 1.0000000e+00]]\n",
      "Answer: 1.0  Prediction: [[9.8491055e-06 9.9999011e-01]]\n"
     ]
    }
   ],
   "source": [
    "# TEST: Load model and run it against test set\n",
    "model = models.load_model('./h5/appendEnergyTT_wen.h5')\n",
    "for i in range(0, 10):\n",
    "    print('Answer:', y_test[i], ' Prediction:', model.predict(np.expand_dims(x_test[i], 0)))"
   ]
  },
  {
   "cell_type": "code",
   "execution_count": 21,
   "metadata": {
    "colab": {
     "base_uri": "https://localhost:8080/"
    },
    "executionInfo": {
     "elapsed": 257,
     "status": "ok",
     "timestamp": 1623237375540,
     "user": {
      "displayName": "黃侯弼",
      "photoUrl": "",
      "userId": "02394864078410571973"
     },
     "user_tz": -480
    },
    "id": "F2N7VEDnDuDC",
    "outputId": "76a7172d-b0aa-46a9-c7fb-45f582e96cb6",
    "scrolled": true
   },
   "outputs": [
    {
     "name": "stdout",
     "output_type": "stream",
     "text": [
      "3/3 [==============================] - 0s 2ms/step - loss: 0.0150 - acc: 0.9896\n"
     ]
    },
    {
     "data": {
      "text/plain": [
       "[0.01499494630843401, 0.9895833134651184]"
      ]
     },
     "execution_count": 21,
     "metadata": {},
     "output_type": "execute_result"
    }
   ],
   "source": [
    "# Evaluate model with test set\n",
    "model.evaluate(x=x_test, y=y_test)"
   ]
  },
  {
   "cell_type": "code",
   "execution_count": 22,
   "metadata": {},
   "outputs": [
    {
     "ename": "NameError",
     "evalue": "name 'x_trian' is not defined",
     "output_type": "error",
     "traceback": [
      "\u001b[1;31m---------------------------------------------------------------------------\u001b[0m",
      "\u001b[1;31mNameError\u001b[0m                                 Traceback (most recent call last)",
      "\u001b[1;32m<ipython-input-22-e66e694c3aeb>\u001b[0m in \u001b[0;36m<module>\u001b[1;34m\u001b[0m\n\u001b[1;32m----> 1\u001b[1;33m \u001b[0mmodel\u001b[0m\u001b[1;33m.\u001b[0m\u001b[0mevaluate\u001b[0m\u001b[1;33m(\u001b[0m\u001b[0mx\u001b[0m\u001b[1;33m=\u001b[0m\u001b[0mx_trian\u001b[0m\u001b[1;33m,\u001b[0m \u001b[0my\u001b[0m\u001b[1;33m=\u001b[0m\u001b[0my_trian\u001b[0m\u001b[1;33m)\u001b[0m\u001b[1;33m\u001b[0m\u001b[1;33m\u001b[0m\u001b[0m\n\u001b[0m",
      "\u001b[1;31mNameError\u001b[0m: name 'x_trian' is not defined"
     ]
    }
   ],
   "source": [
    "model.evaluate(x=x_trian, y=y_trian)"
   ]
  },
  {
   "cell_type": "code",
   "execution_count": null,
   "metadata": {},
   "outputs": [],
   "source": []
  }
 ],
 "metadata": {
  "accelerator": "GPU",
  "colab": {
   "collapsed_sections": [],
   "name": "Classifier.ipynb",
   "provenance": []
  },
  "kernelspec": {
   "display_name": "Python 3",
   "language": "python",
   "name": "python3"
  },
  "language_info": {
   "codemirror_mode": {
    "name": "ipython",
    "version": 3
   },
   "file_extension": ".py",
   "mimetype": "text/x-python",
   "name": "python",
   "nbconvert_exporter": "python",
   "pygments_lexer": "ipython3",
   "version": "3.8.8"
  }
 },
 "nbformat": 4,
 "nbformat_minor": 1
}
