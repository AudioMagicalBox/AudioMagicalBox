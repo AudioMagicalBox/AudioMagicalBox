{
 "cells": [
  {
   "cell_type": "code",
   "execution_count": 1,
   "metadata": {},
   "outputs": [],
   "source": [
    "from os import listdir\n",
    "from os.path import isdir, join\n",
    "from tensorflow.keras import layers, models\n",
    "import numpy as np"
   ]
  },
  {
   "cell_type": "code",
   "execution_count": 2,
   "metadata": {
    "collapsed": true
   },
   "outputs": [
    {
     "name": "stdout",
     "output_type": "stream",
     "text": [
      "['backward', 'bed', 'bird', 'cat', 'dog', 'down', 'eight', 'five', 'follow', 'forward', 'four', 'go', 'happy', 'house', 'learn', 'left', 'marvin', 'nine', 'no', 'off', 'on', 'one', 'right', 'seven', 'sheila', 'six', 'stop', 'SuperfluousWords', 'three', 'tree', 'two', 'up', 'visual', 'wow', 'yes', 'zero', '他', '你', '好', '我', '的']\n"
     ]
    }
   ],
   "source": [
    "# Create list of all targets (minus background noise)\n",
    "dataset_path = './recording3'\n",
    "all_targets = all_targets = [name for name in listdir(dataset_path) if isdir(join(dataset_path, name))]\n",
    "print(all_targets)"
   ]
  },
  {
   "cell_type": "code",
   "execution_count": 3,
   "metadata": {},
   "outputs": [],
   "source": [
    "# Settings\n",
    "feature_sets_path = './recording3ModelTrue/'\n",
    "feature_sets_filename = 'all_targets_mfcc_sets.npz'\n",
    "model_filename = './recording3ModelTrue/TEST.h5'\n",
    "wake_word = 'SuperfluousWords'"
   ]
  },
  {
   "cell_type": "code",
   "execution_count": 4,
   "metadata": {},
   "outputs": [
    {
     "name": "stdout",
     "output_type": "stream",
     "text": [
      "['x_train', 'y_train', 'x_val', 'y_val', 'x_test', 'y_test']\n"
     ]
    }
   ],
   "source": [
    "# Load feature sets\n",
    "feature_sets = np.load(join(feature_sets_path, feature_sets_filename))\n",
    "print(feature_sets.files)"
   ]
  },
  {
   "cell_type": "code",
   "execution_count": 5,
   "metadata": {},
   "outputs": [],
   "source": [
    "# Assign feature sets\n",
    "x_train = feature_sets['x_train']\n",
    "y_train = feature_sets['y_train']\n",
    "x_val = feature_sets['x_val']\n",
    "y_val = feature_sets['y_val']\n",
    "x_test = feature_sets['x_test']\n",
    "y_test = feature_sets['y_test']"
   ]
  },
  {
   "cell_type": "code",
   "execution_count": 6,
   "metadata": {},
   "outputs": [
    {
     "name": "stdout",
     "output_type": "stream",
     "text": [
      "(1558, 23, 16)\n",
      "(191, 23, 16)\n",
      "(196, 23, 16)\n"
     ]
    }
   ],
   "source": [
    "# Look at tensor dimensions\n",
    "print(x_train.shape)\n",
    "print(x_val.shape)\n",
    "print(x_test.shape)"
   ]
  },
  {
   "cell_type": "code",
   "execution_count": 7,
   "metadata": {},
   "outputs": [
    {
     "name": "stdout",
     "output_type": "stream",
     "text": [
      "[29. 21. 19. 30.  8. 22. 27. 28.  0. 23. 30. 25. 38. 34. 23. 27. 37. 27.\n",
      " 21.  4. 37. 17.  2. 39. 39.  2. 22.  3. 16. 22. 27. 20. 37.  3. 37. 12.\n",
      " 27. 14. 27. 30. 10.  9. 36. 27.  5. 22.  6. 27. 27. 18. 23. 31. 15. 21.\n",
      " 31.  2. 27. 15.  0. 26. 27.  2. 27. 18.  6. 38.  5. 20. 35. 17. 27. 13.\n",
      " 27. 13. 20. 36. 17. 30. 27. 17. 11. 27. 27. 11.  7. 33. 23. 15. 27. 15.\n",
      " 29. 28. 27. 27. 27. 27.  6. 26. 27. 35. 12. 32. 18. 10. 28. 27. 35. 27.\n",
      " 13.  6. 27. 27. 17. 27. 15. 29. 13.  3.  8. 30. 27. 16. 25. 37. 32.  8.\n",
      "  9. 27. 37.  7. 27. 23. 27. 27. 27. 33. 35. 27. 23. 24. 21. 27. 27. 24.\n",
      " 23. 11. 31. 39.  2. 22.  1. 40. 27.  1. 27.  7. 25.  3. 27. 22.  6. 23.\n",
      " 18. 34. 27. 27. 27. 36. 25. 38.  0. 19. 27. 27. 27.  1. 36. 32. 40. 27.\n",
      " 15. 35. 27.  0. 22.  5.  3.  9. 27. 27. 15.]\n"
     ]
    }
   ],
   "source": [
    "# Peek at labels\n",
    "print(y_val)"
   ]
  },
  {
   "cell_type": "code",
   "execution_count": 8,
   "metadata": {},
   "outputs": [],
   "source": [
    "# Convert ground truth arrays to one wake word (1) and 'other' (0)\n",
    "wake_word_index = all_targets.index(wake_word)\n",
    "y_train = np.equal(y_train, wake_word_index).astype('float64')\n",
    "y_val = np.equal(y_val, wake_word_index).astype('float64')\n",
    "y_test = np.equal(y_test, wake_word_index).astype('float64')"
   ]
  },
  {
   "cell_type": "code",
   "execution_count": 9,
   "metadata": {},
   "outputs": [
    {
     "name": "stdout",
     "output_type": "stream",
     "text": [
      "[0. 0. 0. 0. 0. 0. 1. 0. 0. 0. 0. 0. 0. 0. 0. 1. 0. 1. 0. 0. 0. 0. 0. 0.\n",
      " 0. 0. 0. 0. 0. 0. 1. 0. 0. 0. 0. 0. 1. 0. 1. 0. 0. 0. 0. 1. 0. 0. 0. 1.\n",
      " 1. 0. 0. 0. 0. 0. 0. 0. 1. 0. 0. 0. 1. 0. 1. 0. 0. 0. 0. 0. 0. 0. 1. 0.\n",
      " 1. 0. 0. 0. 0. 0. 1. 0. 0. 1. 1. 0. 0. 0. 0. 0. 1. 0. 0. 0. 1. 1. 1. 1.\n",
      " 0. 0. 1. 0. 0. 0. 0. 0. 0. 1. 0. 1. 0. 0. 1. 1. 0. 1. 0. 0. 0. 0. 0. 0.\n",
      " 1. 0. 0. 0. 0. 0. 0. 1. 0. 0. 1. 0. 1. 1. 1. 0. 0. 1. 0. 0. 0. 1. 1. 0.\n",
      " 0. 0. 0. 0. 0. 0. 0. 0. 1. 0. 1. 0. 0. 0. 1. 0. 0. 0. 0. 0. 1. 1. 1. 0.\n",
      " 0. 0. 0. 0. 1. 1. 1. 0. 0. 0. 0. 1. 0. 0. 1. 0. 0. 0. 0. 0. 1. 1. 0.]\n",
      "0.2617801047120419\n"
     ]
    }
   ],
   "source": [
    "# Peek at labels after conversion\n",
    "total = 0\n",
    "print(y_val)\n",
    "for i in y_val:\n",
    "    if i == 1:\n",
    "        total = total + 1\n",
    "print(total / len(y_val))"
   ]
  },
  {
   "cell_type": "code",
   "execution_count": 10,
   "metadata": {},
   "outputs": [
    {
     "name": "stdout",
     "output_type": "stream",
     "text": [
      "0.24197689345314505\n",
      "0.2617801047120419\n",
      "0.7382198952879582\n"
     ]
    }
   ],
   "source": [
    "# What percentage of 'stop' appear in validation labels\n",
    "print(sum(y_train) / len(y_train))\n",
    "print(sum(y_val) / len(y_val))\n",
    "print(1 - sum(y_val) / len(y_val))"
   ]
  },
  {
   "cell_type": "code",
   "execution_count": 11,
   "metadata": {},
   "outputs": [
    {
     "name": "stdout",
     "output_type": "stream",
     "text": [
      "(1558, 23, 16)\n"
     ]
    }
   ],
   "source": [
    "# View the dimensions of our input data\n",
    "print(x_train.shape)"
   ]
  },
  {
   "cell_type": "code",
   "execution_count": 12,
   "metadata": {},
   "outputs": [
    {
     "name": "stdout",
     "output_type": "stream",
     "text": [
      "(1558, 23, 16, 1)\n",
      "(191, 23, 16, 1)\n",
      "(196, 23, 16, 1)\n"
     ]
    }
   ],
   "source": [
    "# CNN for TF expects (batch, height, width, channels)\n",
    "# So we reshape the input tensors with a \"color\" channel of 1\n",
    "x_train = x_train.reshape(x_train.shape[0], \n",
    "                          x_train.shape[1], \n",
    "                          x_train.shape[2], \n",
    "                          1)\n",
    "x_val = x_val.reshape(x_val.shape[0], \n",
    "                      x_val.shape[1], \n",
    "                      x_val.shape[2], \n",
    "                      1)\n",
    "x_test = x_test.reshape(x_test.shape[0], \n",
    "                        x_test.shape[1], \n",
    "                        x_test.shape[2], \n",
    "                        1)\n",
    "print(x_train.shape)\n",
    "print(x_val.shape)\n",
    "print(x_test.shape)"
   ]
  },
  {
   "cell_type": "code",
   "execution_count": 13,
   "metadata": {},
   "outputs": [
    {
     "name": "stdout",
     "output_type": "stream",
     "text": [
      "(23, 16, 1)\n"
     ]
    }
   ],
   "source": [
    "# Input shape for CNN is size of MFCC of 1 sample\n",
    "sample_shape = x_test.shape[1:]\n",
    "print(sample_shape)"
   ]
  },
  {
   "cell_type": "code",
   "execution_count": 14,
   "metadata": {},
   "outputs": [
    {
     "name": "stdout",
     "output_type": "stream",
     "text": [
      "Model: \"sequential\"\n",
      "_________________________________________________________________\n",
      "Layer (type)                 Output Shape              Param #   \n",
      "=================================================================\n",
      "conv2d (Conv2D)              (None, 22, 15, 32)        160       \n",
      "_________________________________________________________________\n",
      "max_pooling2d (MaxPooling2D) (None, 11, 7, 32)         0         \n",
      "_________________________________________________________________\n",
      "conv2d_1 (Conv2D)            (None, 10, 6, 64)         8256      \n",
      "_________________________________________________________________\n",
      "max_pooling2d_1 (MaxPooling2 (None, 5, 3, 64)          0         \n",
      "_________________________________________________________________\n",
      "conv2d_2 (Conv2D)            (None, 4, 2, 128)         32896     \n",
      "_________________________________________________________________\n",
      "max_pooling2d_2 (MaxPooling2 (None, 2, 1, 128)         0         \n",
      "_________________________________________________________________\n",
      "dropout (Dropout)            (None, 2, 1, 128)         0         \n",
      "_________________________________________________________________\n",
      "flatten (Flatten)            (None, 256)               0         \n",
      "_________________________________________________________________\n",
      "dense (Dense)                (None, 64)                16448     \n",
      "_________________________________________________________________\n",
      "dropout_1 (Dropout)          (None, 64)                0         \n",
      "_________________________________________________________________\n",
      "dense_1 (Dense)              (None, 1)                 65        \n",
      "=================================================================\n",
      "Total params: 57,825\n",
      "Trainable params: 57,825\n",
      "Non-trainable params: 0\n",
      "_________________________________________________________________\n"
     ]
    }
   ],
   "source": [
    "model = models.Sequential()\n",
    "model.add(layers.Conv2D(32, (2, 2), activation='relu',input_shape=sample_shape))\n",
    "model.add(layers.MaxPooling2D(pool_size=(2, 2)))\n",
    "\n",
    "model.add(layers.Conv2D(64, (2, 2), activation='relu'))\n",
    "model.add(layers.MaxPooling2D(pool_size=(2, 2)))\n",
    "\n",
    "model.add(layers.Conv2D(128, (2, 2), activation='relu'))\n",
    "model.add(layers.MaxPooling2D(pool_size=(2, 2)))\n",
    "model.add(layers.Dropout(0.05))\n",
    "\n",
    "# Classifier\n",
    "model.add(layers.Flatten())\n",
    "model.add(layers.Dense(64, activation='relu'))\n",
    "model.add(layers.Dropout(0.05))\n",
    "model.add(layers.Dense(1, activation='sigmoid'))\n",
    "# Display model\n",
    "model.summary()\n"
   ]
  },
  {
   "cell_type": "code",
   "execution_count": 15,
   "metadata": {},
   "outputs": [],
   "source": [
    "# Add training parameters to model\n",
    "model.compile(loss='binary_crossentropy', \n",
    "              optimizer='rmsprop', \n",
    "              metrics=['acc'])"
   ]
  },
  {
   "cell_type": "code",
   "execution_count": 16,
   "metadata": {},
   "outputs": [
    {
     "name": "stdout",
     "output_type": "stream",
     "text": [
      "Epoch 1/20\n",
      "32/32 [==============================] - 8s 24ms/step - loss: 0.5186 - acc: 0.7625 - val_loss: 0.5663 - val_acc: 0.7435\n",
      "Epoch 2/20\n",
      "32/32 [==============================] - 0s 12ms/step - loss: 0.4282 - acc: 0.8126 - val_loss: 0.5252 - val_acc: 0.7749\n",
      "Epoch 3/20\n",
      "32/32 [==============================] - 0s 12ms/step - loss: 0.3578 - acc: 0.8472 - val_loss: 0.5984 - val_acc: 0.7749\n",
      "Epoch 4/20\n",
      "32/32 [==============================] - 0s 11ms/step - loss: 0.3348 - acc: 0.8697 - val_loss: 0.3743 - val_acc: 0.8482\n",
      "Epoch 5/20\n",
      "32/32 [==============================] - 0s 11ms/step - loss: 0.3099 - acc: 0.8761 - val_loss: 0.3467 - val_acc: 0.8586\n",
      "Epoch 6/20\n",
      "32/32 [==============================] - 0s 12ms/step - loss: 0.2474 - acc: 0.9037 - val_loss: 0.2997 - val_acc: 0.8691\n",
      "Epoch 7/20\n",
      "32/32 [==============================] - 0s 11ms/step - loss: 0.2227 - acc: 0.9108 - val_loss: 0.4984 - val_acc: 0.8377\n",
      "Epoch 8/20\n",
      "32/32 [==============================] - 0s 11ms/step - loss: 0.2023 - acc: 0.9198 - val_loss: 0.3311 - val_acc: 0.8743\n",
      "Epoch 9/20\n",
      "32/32 [==============================] - 0s 12ms/step - loss: 0.1726 - acc: 0.9300 - val_loss: 0.2108 - val_acc: 0.9058\n",
      "Epoch 10/20\n",
      "32/32 [==============================] - 0s 12ms/step - loss: 0.1485 - acc: 0.9454 - val_loss: 0.2370 - val_acc: 0.8953\n",
      "Epoch 11/20\n",
      "32/32 [==============================] - 0s 11ms/step - loss: 0.1315 - acc: 0.9506 - val_loss: 0.2534 - val_acc: 0.8953\n",
      "Epoch 12/20\n",
      "32/32 [==============================] - 0s 12ms/step - loss: 0.1184 - acc: 0.9564 - val_loss: 0.2059 - val_acc: 0.9110\n",
      "Epoch 13/20\n",
      "32/32 [==============================] - 0s 11ms/step - loss: 0.1009 - acc: 0.9628 - val_loss: 0.2127 - val_acc: 0.9162\n",
      "Epoch 14/20\n",
      "32/32 [==============================] - 0s 12ms/step - loss: 0.0868 - acc: 0.9679 - val_loss: 0.2815 - val_acc: 0.9058\n",
      "Epoch 15/20\n",
      "32/32 [==============================] - 0s 11ms/step - loss: 0.0827 - acc: 0.9666 - val_loss: 0.2175 - val_acc: 0.9215\n",
      "Epoch 16/20\n",
      "32/32 [==============================] - 0s 11ms/step - loss: 0.0807 - acc: 0.9750 - val_loss: 0.2953 - val_acc: 0.9005\n",
      "Epoch 17/20\n",
      "32/32 [==============================] - 0s 11ms/step - loss: 0.0669 - acc: 0.9807 - val_loss: 0.2337 - val_acc: 0.9215\n",
      "Epoch 18/20\n",
      "32/32 [==============================] - 0s 12ms/step - loss: 0.0409 - acc: 0.9840 - val_loss: 0.3097 - val_acc: 0.9005\n",
      "Epoch 19/20\n",
      "32/32 [==============================] - 0s 12ms/step - loss: 0.0456 - acc: 0.9827 - val_loss: 0.2207 - val_acc: 0.9372\n",
      "Epoch 20/20\n",
      "32/32 [==============================] - 0s 11ms/step - loss: 0.0382 - acc: 0.9897 - val_loss: 0.2139 - val_acc: 0.9372\n"
     ]
    }
   ],
   "source": [
    "# Train\n",
    "history = model.fit(x_train, \n",
    "                    y_train, \n",
    "                    epochs=20, \n",
    "                    batch_size=100, \n",
    "                    validation_data=(x_val, y_val))"
   ]
  },
  {
   "cell_type": "code",
   "execution_count": 17,
   "metadata": {},
   "outputs": [
    {
     "data": {
      "image/png": "[encoded data removed]",
      "text/plain": [
       "<Figure size 432x288 with 1 Axes>"
      ]
     },
     "metadata": {
      "needs_background": "light"
     },
     "output_type": "display_data"
    },
    {
     "data": {
      "image/png": "[encoded data removed]",
      "text/plain": [
       "<Figure size 432x288 with 1 Axes>"
      ]
     },
     "metadata": {
      "needs_background": "light"
     },
     "output_type": "display_data"
    }
   ],
   "source": [
    "# Plot results\n",
    "import matplotlib.pyplot as plt\n",
    "\n",
    "acc = history.history['acc']\n",
    "val_acc = history.history['val_acc']\n",
    "loss = history.history['loss']\n",
    "val_loss = history.history['val_loss']\n",
    "\n",
    "epochs = range(1, len(acc) + 1)\n",
    "\n",
    "plt.plot(epochs, acc, 'bo', label='Training acc')\n",
    "plt.plot(epochs, val_acc, 'b', label='Validation acc')\n",
    "plt.title('Training and validation accuracy')\n",
    "plt.legend()\n",
    "\n",
    "plt.figure()\n",
    "\n",
    "plt.plot(epochs, loss, 'bo', label='Training loss')\n",
    "plt.plot(epochs, val_loss, 'b', label='Validation loss')\n",
    "plt.title('Training and validation loss')\n",
    "plt.legend()\n",
    "\n",
    "plt.show()"
   ]
  },
  {
   "cell_type": "code",
   "execution_count": 18,
   "metadata": {},
   "outputs": [],
   "source": [
    "# Save the model as a file\n",
    "models.save_model(model, model_filename)"
   ]
  },
  {
   "cell_type": "code",
   "execution_count": 19,
   "metadata": {},
   "outputs": [
    {
     "name": "stdout",
     "output_type": "stream",
     "text": [
      "0\n",
      "3\n",
      "8\n",
      "16\n",
      "23\n",
      "29\n",
      "30\n",
      "31\n",
      "37\n",
      "42\n",
      "46\n",
      "57\n",
      "58\n",
      "61\n",
      "68\n",
      "69\n",
      "72\n",
      "73\n",
      "74\n",
      "84\n",
      "88\n",
      "91\n",
      "96\n",
      "97\n",
      "100\n",
      "103\n",
      "108\n",
      "114\n",
      "115\n",
      "121\n",
      "122\n",
      "123\n",
      "128\n",
      "135\n",
      "137\n",
      "140\n",
      "141\n",
      "144\n",
      "154\n",
      "158\n",
      "159\n",
      "160\n",
      "162\n",
      "163\n",
      "172\n",
      "173\n",
      "175\n",
      "176\n",
      "177\n",
      "179\n",
      "183\n",
      "188\n",
      "194\n"
     ]
    }
   ],
   "source": [
    "# See which are 'stop'\n",
    "for idx, y in enumerate(y_test):\n",
    "    if y == 1:\n",
    "        print(idx)"
   ]
  },
  {
   "cell_type": "code",
   "execution_count": 20,
   "metadata": {
    "scrolled": true
   },
   "outputs": [
    {
     "name": "stdout",
     "output_type": "stream",
     "text": [
      "Answer: 1.0  Prediction: [[0.9757461]]\n",
      "Answer: 0.0  Prediction: [[0.00875952]]\n",
      "Answer: 0.0  Prediction: [[0.20513918]]\n",
      "Answer: 1.0  Prediction: [[0.9993362]]\n",
      "Answer: 0.0  Prediction: [[0.6928968]]\n",
      "Answer: 0.0  Prediction: [[4.1458014e-05]]\n",
      "Answer: 0.0  Prediction: [[4.7969465e-06]]\n",
      "Answer: 0.0  Prediction: [[0.06196257]]\n",
      "Answer: 1.0  Prediction: [[0.9999864]]\n",
      "Answer: 0.0  Prediction: [[0.00017925]]\n",
      "Answer: 0.0  Prediction: [[1.2251783e-06]]\n",
      "Answer: 0.0  Prediction: [[0.10988265]]\n",
      "Answer: 0.0  Prediction: [[5.4584903e-05]]\n",
      "Answer: 0.0  Prediction: [[0.5758214]]\n",
      "Answer: 0.0  Prediction: [[0.5240858]]\n",
      "Answer: 0.0  Prediction: [[0.00237305]]\n",
      "Answer: 1.0  Prediction: [[0.99455416]]\n",
      "Answer: 0.0  Prediction: [[0.01441507]]\n",
      "Answer: 0.0  Prediction: [[1.2262677e-06]]\n",
      "Answer: 0.0  Prediction: [[3.4050852e-05]]\n",
      "Answer: 0.0  Prediction: [[2.0385629e-07]]\n",
      "Answer: 0.0  Prediction: [[0.07773568]]\n",
      "Answer: 0.0  Prediction: [[0.00089942]]\n",
      "Answer: 1.0  Prediction: [[0.9995517]]\n",
      "Answer: 0.0  Prediction: [[0.00033102]]\n",
      "Answer: 0.0  Prediction: [[0.00838317]]\n",
      "Answer: 0.0  Prediction: [[0.00017644]]\n",
      "Answer: 0.0  Prediction: [[0.00360515]]\n",
      "Answer: 0.0  Prediction: [[0.0482872]]\n",
      "Answer: 1.0  Prediction: [[0.9999428]]\n",
      "Answer: 1.0  Prediction: [[0.7299906]]\n",
      "Answer: 1.0  Prediction: [[0.9890354]]\n",
      "Answer: 0.0  Prediction: [[0.05717046]]\n",
      "Answer: 0.0  Prediction: [[0.12394556]]\n",
      "Answer: 0.0  Prediction: [[0.0092911]]\n",
      "Answer: 0.0  Prediction: [[0.8136884]]\n",
      "Answer: 0.0  Prediction: [[1.3618248e-07]]\n",
      "Answer: 1.0  Prediction: [[0.3693148]]\n",
      "Answer: 0.0  Prediction: [[0.01277685]]\n",
      "Answer: 0.0  Prediction: [[8.934567e-08]]\n",
      "Answer: 0.0  Prediction: [[0.17117864]]\n",
      "Answer: 0.0  Prediction: [[0.00679377]]\n",
      "Answer: 1.0  Prediction: [[0.99941254]]\n",
      "Answer: 0.0  Prediction: [[5.112521e-07]]\n",
      "Answer: 0.0  Prediction: [[1.1761908e-05]]\n",
      "Answer: 0.0  Prediction: [[1.9960616e-10]]\n",
      "Answer: 1.0  Prediction: [[0.9133308]]\n",
      "Answer: 0.0  Prediction: [[0.03002566]]\n",
      "Answer: 0.0  Prediction: [[0.00089859]]\n",
      "Answer: 0.0  Prediction: [[2.8244986e-06]]\n"
     ]
    }
   ],
   "source": [
    "# TEST: Load model and run it against test set\n",
    "model = models.load_model(model_filename)\n",
    "for i in range(0, 50):\n",
    "    print('Answer:', y_test[i], ' Prediction:', model.predict(np.expand_dims(x_test[i], 0)))"
   ]
  },
  {
   "cell_type": "code",
   "execution_count": 21,
   "metadata": {},
   "outputs": [
    {
     "name": "stdout",
     "output_type": "stream",
     "text": [
      "7/7 [==============================] - 0s 14ms/step - loss: 0.2706 - acc: 0.8929\n"
     ]
    },
    {
     "data": {
      "text/plain": [
       "[0.2705719470977783, 0.8928571343421936]"
      ]
     },
     "execution_count": 21,
     "metadata": {},
     "output_type": "execute_result"
    }
   ],
   "source": [
    "# Evaluate model with test set\n",
    "model.evaluate(x=x_test, y=y_test)"
   ]
  },
  {
   "cell_type": "code",
   "execution_count": null,
   "metadata": {},
   "outputs": [],
   "source": []
  }
 ],
 "metadata": {
  "kernelspec": {
   "display_name": "Python 3",
   "language": "python",
   "name": "python3"
  },
  "language_info": {
   "codemirror_mode": {
    "name": "ipython",
    "version": 3
   },
   "file_extension": ".py",
   "mimetype": "text/x-python",
   "name": "python",
   "nbconvert_exporter": "python",
   "pygments_lexer": "ipython3",
   "version": "3.8.8"
  }
 },
 "nbformat": 4,
 "nbformat_minor": 2
}
