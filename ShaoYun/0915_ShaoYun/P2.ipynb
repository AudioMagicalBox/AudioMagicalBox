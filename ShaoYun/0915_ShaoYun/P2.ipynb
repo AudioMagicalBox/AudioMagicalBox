{
 "cells": [
  {
   "cell_type": "code",
   "execution_count": 1,
   "metadata": {
    "executionInfo": {
     "elapsed": 428,
     "status": "ok",
     "timestamp": 1623236061470,
     "user": {
      "displayName": "黃侯弼",
      "photoUrl": "",
      "userId": "02394864078410571973"
     },
     "user_tz": -480
    },
    "id": "iVhpbtg0DuC5"
   },
   "outputs": [],
   "source": [
    "from os import listdir\n",
    "from os.path import isdir, join\n",
    "from tensorflow.keras import layers, models\n",
    "import numpy as np"
   ]
  },
  {
   "cell_type": "code",
   "execution_count": 2,
   "metadata": {
    "colab": {
     "base_uri": "https://localhost:8080/"
    },
    "executionInfo": {
     "elapsed": 5,
     "status": "ok",
     "timestamp": 1623236062585,
     "user": {
      "displayName": "黃侯弼",
      "photoUrl": "",
      "userId": "02394864078410571973"
     },
     "user_tz": -480
    },
    "id": "MZI1urklDuC6",
    "outputId": "9344224f-90ed-4d09-80e4-efd8c4bb7cac"
   },
   "outputs": [
    {
     "name": "stdout",
     "output_type": "stream",
     "text": [
      "['雜音', '贅詞']\n"
     ]
    }
   ],
   "source": [
    "# Create list of all targets (minus background noise)\n",
    "dataset_path = '/Users/Willie/TwoItem'\n",
    "all_targets = all_targets = [name for name in listdir(dataset_path) if isdir(join(dataset_path, name))]\n",
    "print(all_targets)"
   ]
  },
  {
   "cell_type": "code",
   "execution_count": 3,
   "metadata": {
    "executionInfo": {
     "elapsed": 301,
     "status": "ok",
     "timestamp": 1623236063859,
     "user": {
      "displayName": "黃侯弼",
      "photoUrl": "",
      "userId": "02394864078410571973"
     },
     "user_tz": -480
    },
    "id": "WgAcVkOeDuC6"
   },
   "outputs": [],
   "source": [
    "# Settings\n",
    "feature_sets_path = './'\n",
    "feature_sets_filename = '/Users/Willie/TwoItem.npz'\n",
    "#model_filename = 'wake_word_stop_model.h5'\n",
    "#wake_word = '嗯'"
   ]
  },
  {
   "cell_type": "code",
   "execution_count": 4,
   "metadata": {
    "colab": {
     "base_uri": "https://localhost:8080/"
    },
    "executionInfo": {
     "elapsed": 458,
     "status": "ok",
     "timestamp": 1623236065288,
     "user": {
      "displayName": "黃侯弼",
      "photoUrl": "",
      "userId": "02394864078410571973"
     },
     "user_tz": -480
    },
    "id": "rJUTXuiVDuC7",
    "outputId": "4a7c5275-1bcb-4f85-dd65-18bb4e2630c9"
   },
   "outputs": [
    {
     "name": "stdout",
     "output_type": "stream",
     "text": [
      "['x_train', 'y_train', 'x_val', 'y_val', 'x_test', 'y_test']\n"
     ]
    }
   ],
   "source": [
    "# Load feature sets\n",
    "feature_sets = np.load(join(feature_sets_path, feature_sets_filename))\n",
    "print(feature_sets.files)"
   ]
  },
  {
   "cell_type": "code",
   "execution_count": 5,
   "metadata": {
    "colab": {
     "base_uri": "https://localhost:8080/"
    },
    "executionInfo": {
     "elapsed": 3,
     "status": "ok",
     "timestamp": 1623236066162,
     "user": {
      "displayName": "黃侯弼",
      "photoUrl": "",
      "userId": "02394864078410571973"
     },
     "user_tz": -480
    },
    "id": "0MTc8hMZDuC7",
    "outputId": "287b9ce7-b503-472c-dc22-1cf446a74c77"
   },
   "outputs": [
    {
     "name": "stdout",
     "output_type": "stream",
     "text": [
      "[1. 0. 0. 0. 1. 0. 0. 0. 1. 0. 1. 1. 0. 1. 0. 0. 0. 1. 1. 0.]\n",
      "[0. 0. 1. 1. 1. 1. 1. 1. 1. 0. 0. 0. 1. 1. 0. 0. 1. 1. 1. 0. 0. 0. 1. 0.\n",
      " 0. 1. 0. 0. 0. 1. 1. 0. 1. 1. 0. 1. 1. 1. 0. 0. 0. 0. 1. 0. 0. 0. 0. 1.\n",
      " 0. 0. 0. 1. 1. 1. 0. 0. 1. 1. 0. 0. 1. 0. 0. 0. 1. 1. 1. 1. 1. 1. 1. 1.\n",
      " 0. 0. 0. 0. 1. 1. 0. 0. 0. 0. 0. 0. 1. 1. 1. 0. 1. 1. 0. 1. 0. 1. 1. 0.\n",
      " 0. 1. 0. 0. 1. 0. 0. 0. 0. 1. 0. 0. 0. 1. 0. 0. 1. 1. 1. 1. 1. 1. 1. 1.\n",
      " 0. 1. 0. 1. 0. 1. 0. 0. 1. 1. 1. 0. 1. 0. 0. 0. 0. 1. 0. 0. 1. 1. 0. 0.\n",
      " 0. 1. 1. 1. 0. 1. 1. 1. 0. 0. 0. 1. 1. 1. 1. 0.]\n",
      "[1. 1. 0. 1. 0. 1. 1. 1. 1. 1. 1. 0. 0. 1. 1. 1. 1. 0. 0. 0.]\n"
     ]
    }
   ],
   "source": [
    "# Assign feature sets\n",
    "x_train = feature_sets['x_train']\n",
    "y_train = feature_sets['y_train']\n",
    "x_val = feature_sets['x_val']\n",
    "y_val = feature_sets['y_val']\n",
    "x_test = feature_sets['x_test']\n",
    "y_test = feature_sets['y_test']\n",
    "print(y_test)\n",
    "print(y_train)\n",
    "print(y_val)"
   ]
  },
  {
   "cell_type": "code",
   "execution_count": 6,
   "metadata": {
    "colab": {
     "base_uri": "https://localhost:8080/"
    },
    "executionInfo": {
     "elapsed": 262,
     "status": "ok",
     "timestamp": 1623236068434,
     "user": {
      "displayName": "黃侯弼",
      "photoUrl": "",
      "userId": "02394864078410571973"
     },
     "user_tz": -480
    },
    "id": "r2XzOXwdDuC8",
    "outputId": "6d00862e-4d37-415c-b854-22b4cdd10698"
   },
   "outputs": [
    {
     "name": "stdout",
     "output_type": "stream",
     "text": [
      "(160, 23, 16)\n",
      "(20, 23, 16)\n",
      "(20, 23, 16)\n"
     ]
    }
   ],
   "source": [
    "# Look at tensor dimensions\n",
    "print(x_train.shape)\n",
    "print(x_val.shape)\n",
    "print(x_test.shape)"
   ]
  },
  {
   "cell_type": "code",
   "execution_count": 7,
   "metadata": {
    "colab": {
     "base_uri": "https://localhost:8080/"
    },
    "executionInfo": {
     "elapsed": 439,
     "status": "ok",
     "timestamp": 1623236069774,
     "user": {
      "displayName": "黃侯弼",
      "photoUrl": "",
      "userId": "02394864078410571973"
     },
     "user_tz": -480
    },
    "id": "N-l9zl-GDuC9",
    "outputId": "fd2762fb-1345-41d2-8108-985fcd157a52"
   },
   "outputs": [
    {
     "name": "stdout",
     "output_type": "stream",
     "text": [
      "[1. 1. 0. 1. 0. 1. 1. 1. 1. 1. 1. 0. 0. 1. 1. 1. 1. 0. 0. 0.]\n"
     ]
    }
   ],
   "source": [
    "# Peek at labels\n",
    "print(y_val)"
   ]
  },
  {
   "cell_type": "code",
   "execution_count": 8,
   "metadata": {
    "colab": {
     "base_uri": "https://localhost:8080/"
    },
    "executionInfo": {
     "elapsed": 4,
     "status": "ok",
     "timestamp": 1623236070623,
     "user": {
      "displayName": "黃侯弼",
      "photoUrl": "",
      "userId": "02394864078410571973"
     },
     "user_tz": -480
    },
    "id": "nY3RGYbPDuC-",
    "outputId": "deded680-fc57-4da6-c054-a4648b5007eb"
   },
   "outputs": [
    {
     "name": "stdout",
     "output_type": "stream",
     "text": [
      "[1. 0. 0. 0. 1. 0. 0. 0. 1. 0. 1. 1. 0. 1. 0. 0. 0. 1. 1. 0.]\n"
     ]
    }
   ],
   "source": [
    "# Peek at labels after conversion\n",
    "print(y_test)"
   ]
  },
  {
   "cell_type": "code",
   "execution_count": 9,
   "metadata": {
    "colab": {
     "base_uri": "https://localhost:8080/"
    },
    "executionInfo": {
     "elapsed": 5,
     "status": "ok",
     "timestamp": 1623236071679,
     "user": {
      "displayName": "黃侯弼",
      "photoUrl": "",
      "userId": "02394864078410571973"
     },
     "user_tz": -480
    },
    "id": "8I1_x2yvDuC-",
    "outputId": "0d138400-6662-4175-8a1f-f640e3f2bf6d"
   },
   "outputs": [
    {
     "name": "stdout",
     "output_type": "stream",
     "text": [
      "(160, 23, 16)\n"
     ]
    }
   ],
   "source": [
    "# View the dimensions of our input data\n",
    "print(x_train.shape)"
   ]
  },
  {
   "cell_type": "code",
   "execution_count": 10,
   "metadata": {
    "colab": {
     "base_uri": "https://localhost:8080/"
    },
    "executionInfo": {
     "elapsed": 4,
     "status": "ok",
     "timestamp": 1623236072760,
     "user": {
      "displayName": "黃侯弼",
      "photoUrl": "",
      "userId": "02394864078410571973"
     },
     "user_tz": -480
    },
    "id": "i_zQsgz4DuC_",
    "outputId": "94a9c63d-7b06-4e8f-8c10-2aaab2aebe64",
    "scrolled": true
   },
   "outputs": [
    {
     "name": "stdout",
     "output_type": "stream",
     "text": [
      "(160, 23, 16, 1)\n",
      "(20, 23, 16, 1)\n",
      "(20, 23, 16, 1)\n"
     ]
    }
   ],
   "source": [
    "# CNN for TF expects (batch, height, width, channels)\n",
    "# So we reshape the input tensors with a \"color\" channel of 1\n",
    "x_train = x_train.reshape(x_train.shape[0], \n",
    "                          x_train.shape[1], \n",
    "                          x_train.shape[2], \n",
    "                          1)\n",
    "x_val = x_val.reshape(x_val.shape[0], \n",
    "                      x_val.shape[1], \n",
    "                      x_val.shape[2], \n",
    "                      1)\n",
    "x_test = x_test.reshape(x_test.shape[0], \n",
    "                        x_test.shape[1], \n",
    "                        x_test.shape[2], \n",
    "                        1)\n",
    "print(x_train.shape)\n",
    "print(x_val.shape)\n",
    "print(x_test.shape)"
   ]
  },
  {
   "cell_type": "code",
   "execution_count": 11,
   "metadata": {
    "colab": {
     "base_uri": "https://localhost:8080/"
    },
    "executionInfo": {
     "elapsed": 281,
     "status": "ok",
     "timestamp": 1623236074651,
     "user": {
      "displayName": "黃侯弼",
      "photoUrl": "",
      "userId": "02394864078410571973"
     },
     "user_tz": -480
    },
    "id": "Ge2MCNusDuC_",
    "outputId": "7c995061-d01d-4a96-a14f-fbee6804b4d4"
   },
   "outputs": [
    {
     "name": "stdout",
     "output_type": "stream",
     "text": [
      "(23, 16, 1)\n"
     ]
    }
   ],
   "source": [
    "# Input shape for CNN is size of MFCC of 1 sample\n",
    "sample_shape = x_test.shape[1:]\n",
    "print(sample_shape)"
   ]
  },
  {
   "cell_type": "code",
   "execution_count": 12,
   "metadata": {
    "colab": {
     "base_uri": "https://localhost:8080/"
    },
    "executionInfo": {
     "elapsed": 264,
     "status": "ok",
     "timestamp": 1623237350948,
     "user": {
      "displayName": "黃侯弼",
      "photoUrl": "",
      "userId": "02394864078410571973"
     },
     "user_tz": -480
    },
    "id": "2JqUOHp9DuDA",
    "outputId": "cc676686-8778-47c0-d5eb-183d137369d2"
   },
   "outputs": [
    {
     "name": "stdout",
     "output_type": "stream",
     "text": [
      "Model: \"sequential\"\n",
      "_________________________________________________________________\n",
      "Layer (type)                 Output Shape              Param #   \n",
      "=================================================================\n",
      "conv2d (Conv2D)              (None, 22, 15, 16)        80        \n",
      "_________________________________________________________________\n",
      "max_pooling2d (MaxPooling2D) (None, 11, 7, 16)         0         \n",
      "_________________________________________________________________\n",
      "conv2d_1 (Conv2D)            (None, 10, 6, 32)         2080      \n",
      "_________________________________________________________________\n",
      "max_pooling2d_1 (MaxPooling2 (None, 5, 3, 32)          0         \n",
      "_________________________________________________________________\n",
      "dropout (Dropout)            (None, 5, 3, 32)          0         \n",
      "_________________________________________________________________\n",
      "flatten (Flatten)            (None, 480)               0         \n",
      "_________________________________________________________________\n",
      "dense (Dense)                (None, 16)                7696      \n",
      "_________________________________________________________________\n",
      "dropout_1 (Dropout)          (None, 16)                0         \n",
      "_________________________________________________________________\n",
      "dense_1 (Dense)              (None, 2)                 34        \n",
      "=================================================================\n",
      "Total params: 9,890\n",
      "Trainable params: 9,890\n",
      "Non-trainable params: 0\n",
      "_________________________________________________________________\n"
     ]
    }
   ],
   "source": [
    "model = models.Sequential()\n",
    "model.add(layers.Conv2D(16, (2, 2), activation='relu',input_shape=sample_shape))\n",
    "model.add(layers.MaxPooling2D(pool_size=(2, 2)))\n",
    "\n",
    "\n",
    "model.add(layers.Conv2D(32, (2, 2), activation='relu'))#64\n",
    "model.add(layers.MaxPooling2D(pool_size=(2, 2)))\n",
    "\n",
    "#model.add(layers.Conv2D(128, (2, 2), activation='relu'))\n",
    "#model.add(layers.MaxPooling2D(pool_size=(2, 2)))\n",
    "model.add(layers.Dropout(0.2))\n",
    "\n",
    "# Classifier\n",
    "model.add(layers.Flatten())\n",
    "model.add(layers.Dense(16, activation='relu'))#64\n",
    "model.add(layers.Dropout(0.2))\n",
    "#model.add(layers.Dense(2, activation='sigmoid'))\n",
    "model.add(layers.Dense(2, activation='softmax'))\n",
    "# Display model\n",
    "model.summary()"
   ]
  },
  {
   "cell_type": "code",
   "execution_count": 13,
   "metadata": {
    "colab": {
     "base_uri": "https://localhost:8080/"
    },
    "executionInfo": {
     "elapsed": 402,
     "status": "ok",
     "timestamp": 1623237353164,
     "user": {
      "displayName": "黃侯弼",
      "photoUrl": "",
      "userId": "02394864078410571973"
     },
     "user_tz": -480
    },
    "id": "sp5WfpkJDuDA",
    "outputId": "e7c65039-b132-4490-ce02-0897a4ca9bdc"
   },
   "outputs": [],
   "source": [
    "from tensorflow.keras import optimizers\n",
    "# Add training parameters to model\n",
    "model.compile(loss='sparse_categorical_crossentropy', \n",
    "              optimizer='adam',    #'adam'\n",
    "              metrics=['acc'])"
   ]
  },
  {
   "cell_type": "code",
   "execution_count": 14,
   "metadata": {
    "colab": {
     "base_uri": "https://localhost:8080/"
    },
    "executionInfo": {
     "elapsed": 6626,
     "status": "ok",
     "timestamp": 1623237360783,
     "user": {
      "displayName": "黃侯弼",
      "photoUrl": "",
      "userId": "02394864078410571973"
     },
     "user_tz": -480
    },
    "id": "s46KMbZbDuDB",
    "outputId": "ff0b8470-8926-4dd5-bd90-db3c765b1d90",
    "scrolled": true
   },
   "outputs": [
    {
     "name": "stdout",
     "output_type": "stream",
     "text": [
      "Epoch 1/20\n",
      "10/10 [==============================] - 2s 52ms/step - loss: 1.1185 - acc: 0.4187 - val_loss: 0.5095 - val_acc: 0.7500\n",
      "Epoch 2/20\n",
      "10/10 [==============================] - 0s 13ms/step - loss: 0.6708 - acc: 0.5813 - val_loss: 0.3565 - val_acc: 0.9500\n",
      "Epoch 3/20\n",
      "10/10 [==============================] - 0s 12ms/step - loss: 0.4664 - acc: 0.7437 - val_loss: 0.2681 - val_acc: 1.0000\n",
      "Epoch 4/20\n",
      "10/10 [==============================] - 0s 13ms/step - loss: 0.3613 - acc: 0.8813 - val_loss: 0.2181 - val_acc: 0.9500\n",
      "Epoch 5/20\n",
      "10/10 [==============================] - 0s 14ms/step - loss: 0.3079 - acc: 0.9250 - val_loss: 0.1239 - val_acc: 1.0000\n",
      "Epoch 6/20\n",
      "10/10 [==============================] - 0s 13ms/step - loss: 0.2410 - acc: 0.9375 - val_loss: 0.0741 - val_acc: 1.0000\n",
      "Epoch 7/20\n",
      "10/10 [==============================] - 0s 13ms/step - loss: 0.1358 - acc: 0.9688 - val_loss: 0.0498 - val_acc: 1.0000\n",
      "Epoch 8/20\n",
      "10/10 [==============================] - 0s 26ms/step - loss: 0.1093 - acc: 0.9812 - val_loss: 0.0313 - val_acc: 1.0000\n",
      "Epoch 9/20\n",
      "10/10 [==============================] - 0s 15ms/step - loss: 0.1452 - acc: 0.9375 - val_loss: 0.0231 - val_acc: 1.0000\n",
      "Epoch 10/20\n",
      "10/10 [==============================] - 0s 13ms/step - loss: 0.1046 - acc: 0.9750 - val_loss: 0.0136 - val_acc: 1.0000\n",
      "Epoch 11/20\n",
      "10/10 [==============================] - 0s 19ms/step - loss: 0.0679 - acc: 0.9812 - val_loss: 0.0091 - val_acc: 1.0000\n",
      "Epoch 12/20\n",
      "10/10 [==============================] - 0s 13ms/step - loss: 0.0664 - acc: 0.9875 - val_loss: 0.0061 - val_acc: 1.0000\n",
      "Epoch 13/20\n",
      "10/10 [==============================] - 0s 11ms/step - loss: 0.0331 - acc: 0.9937 - val_loss: 0.0036 - val_acc: 1.0000\n",
      "Epoch 14/20\n",
      "10/10 [==============================] - 0s 10ms/step - loss: 0.0339 - acc: 1.0000 - val_loss: 0.0023 - val_acc: 1.0000\n",
      "Epoch 15/20\n",
      "10/10 [==============================] - 0s 13ms/step - loss: 0.0245 - acc: 0.9937 - val_loss: 0.0016 - val_acc: 1.0000\n",
      "Epoch 16/20\n",
      "10/10 [==============================] - 0s 11ms/step - loss: 0.0195 - acc: 0.9937 - val_loss: 0.0012 - val_acc: 1.0000\n",
      "Epoch 17/20\n",
      "10/10 [==============================] - 0s 12ms/step - loss: 0.0134 - acc: 1.0000 - val_loss: 9.5944e-04 - val_acc: 1.0000\n",
      "Epoch 18/20\n",
      "10/10 [==============================] - 0s 14ms/step - loss: 0.0242 - acc: 0.9937 - val_loss: 0.0014 - val_acc: 1.0000\n",
      "Epoch 19/20\n",
      "10/10 [==============================] - 0s 25ms/step - loss: 0.0104 - acc: 1.0000 - val_loss: 9.8471e-04 - val_acc: 1.0000\n",
      "Epoch 20/20\n",
      "10/10 [==============================] - 0s 11ms/step - loss: 0.0107 - acc: 1.0000 - val_loss: 6.4000e-04 - val_acc: 1.0000\n"
     ]
    }
   ],
   "source": [
    "# Train\n",
    "history = model.fit(x_train, \n",
    "                    y_train, \n",
    "                    epochs=20,\n",
    "                    batch_size=16,\n",
    "                    validation_data=(x_val, y_val))"
   ]
  },
  {
   "cell_type": "code",
   "execution_count": 15,
   "metadata": {
    "colab": {
     "base_uri": "https://localhost:8080/",
     "height": 545
    },
    "executionInfo": {
     "elapsed": 1003,
     "status": "ok",
     "timestamp": 1623237367971,
     "user": {
      "displayName": "黃侯弼",
      "photoUrl": "",
      "userId": "02394864078410571973"
     },
     "user_tz": -480
    },
    "id": "UHFvFGu9DuDB",
    "outputId": "d91020e9-a37e-47d8-c204-00bf612c2908"
   },
   "outputs": [
    {
     "data": {
      "image/png": "[encoded data removed]",
      "text/plain": [
       "<Figure size 432x288 with 1 Axes>"
      ]
     },
     "metadata": {
      "needs_background": "light"
     },
     "output_type": "display_data"
    },
    {
     "data": {
      "image/png": "[encoded data removed]",
      "text/plain": [
       "<Figure size 432x288 with 1 Axes>"
      ]
     },
     "metadata": {
      "needs_background": "light"
     },
     "output_type": "display_data"
    }
   ],
   "source": [
    "# Plot results\n",
    "import matplotlib.pyplot as plt\n",
    "\n",
    "acc = history.history['acc']\n",
    "val_acc = history.history['val_acc']\n",
    "loss = history.history['loss']\n",
    "val_loss = history.history['val_loss']\n",
    "\n",
    "epochs = range(1, len(acc) + 1)\n",
    "\n",
    "plt.plot(epochs, acc, 'bo', label='Training acc')\n",
    "plt.plot(epochs, val_acc, 'b', label='Validation acc')\n",
    "plt.title('Training and validation accuracy')\n",
    "plt.legend()\n",
    "\n",
    "plt.figure()\n",
    "\n",
    "plt.plot(epochs, loss, 'bo', label='Training loss')\n",
    "plt.plot(epochs, val_loss, 'b', label='Validation loss')\n",
    "plt.title('Training and validation loss')\n",
    "plt.legend()\n",
    "\n",
    "plt.show()"
   ]
  },
  {
   "cell_type": "code",
   "execution_count": 16,
   "metadata": {
    "executionInfo": {
     "elapsed": 263,
     "status": "ok",
     "timestamp": 1623237370995,
     "user": {
      "displayName": "黃侯弼",
      "photoUrl": "",
      "userId": "02394864078410571973"
     },
     "user_tz": -480
    },
    "id": "mKcsAPK-DuDB"
   },
   "outputs": [],
   "source": [
    "# Save the model as a file\n",
    "#Test1.h5\n",
    "models.save_model(model, '/Users/Willie/TwoItem.h5')"
   ]
  },
  {
   "cell_type": "code",
   "execution_count": 17,
   "metadata": {
    "colab": {
     "base_uri": "https://localhost:8080/"
    },
    "executionInfo": {
     "elapsed": 774,
     "status": "ok",
     "timestamp": 1623237372852,
     "user": {
      "displayName": "黃侯弼",
      "photoUrl": "",
      "userId": "02394864078410571973"
     },
     "user_tz": -480
    },
    "id": "rOAEZ7PKDuDC",
    "outputId": "ec42e9de-9b6c-4269-b804-bd8df580acf4",
    "scrolled": true
   },
   "outputs": [
    {
     "name": "stdout",
     "output_type": "stream",
     "text": [
      "Answer: 1.0  Prediction: [[3.3953216e-05 9.9996603e-01]]\n",
      "Answer: 0.0  Prediction: [[9.9984741e-01 1.5262114e-04]]\n",
      "Answer: 0.0  Prediction: [[0.9945802  0.00541971]]\n",
      "Answer: 0.0  Prediction: [[9.9962294e-01 3.7709149e-04]]\n",
      "Answer: 1.0  Prediction: [[0.00650571 0.99349433]]\n",
      "Answer: 0.0  Prediction: [[0.880187   0.11981305]]\n",
      "Answer: 0.0  Prediction: [[0.9961921  0.00380788]]\n",
      "Answer: 0.0  Prediction: [[0.9959558  0.00404418]]\n",
      "Answer: 1.0  Prediction: [[0.00256302 0.997437  ]]\n",
      "Answer: 0.0  Prediction: [[9.990073e-01 9.927427e-04]]\n"
     ]
    }
   ],
   "source": [
    "# TEST: Load model and run it against test set\n",
    "model = models.load_model('/Users/Willie/TwoItem.h5')\n",
    "for i in range(0, 10):\n",
    "    print('Answer:', y_test[i], ' Prediction:', model.predict(np.expand_dims(x_test[i], 0)))"
   ]
  },
  {
   "cell_type": "code",
   "execution_count": 18,
   "metadata": {
    "colab": {
     "base_uri": "https://localhost:8080/"
    },
    "executionInfo": {
     "elapsed": 257,
     "status": "ok",
     "timestamp": 1623237375540,
     "user": {
      "displayName": "黃侯弼",
      "photoUrl": "",
      "userId": "02394864078410571973"
     },
     "user_tz": -480
    },
    "id": "F2N7VEDnDuDC",
    "outputId": "76a7172d-b0aa-46a9-c7fb-45f582e96cb6",
    "scrolled": true
   },
   "outputs": [
    {
     "name": "stdout",
     "output_type": "stream",
     "text": [
      "1/1 [==============================] - 0s 272ms/step - loss: 0.0092 - acc: 1.0000\n"
     ]
    },
    {
     "data": {
      "text/plain": [
       "[0.009231907315552235, 1.0]"
      ]
     },
     "execution_count": 18,
     "metadata": {},
     "output_type": "execute_result"
    }
   ],
   "source": [
    "# Evaluate model with test set\n",
    "model.evaluate(x=x_test, y=y_test)"
   ]
  },
  {
   "cell_type": "code",
   "execution_count": 19,
   "metadata": {},
   "outputs": [
    {
     "name": "stdout",
     "output_type": "stream",
     "text": [
      "5/5 [==============================] - 0s 8ms/step - loss: 0.0015 - acc: 1.0000\n"
     ]
    },
    {
     "data": {
      "text/plain": [
       "[0.0015447651967406273, 1.0]"
      ]
     },
     "execution_count": 19,
     "metadata": {},
     "output_type": "execute_result"
    }
   ],
   "source": [
    "model.evaluate(x=x_train, y=y_train)"
   ]
  },
  {
   "cell_type": "code",
   "execution_count": 20,
   "metadata": {},
   "outputs": [
    {
     "name": "stdout",
     "output_type": "stream",
     "text": [
      "1/1 [==============================] - 0s 24ms/step - loss: 6.4000e-04 - acc: 1.0000\n"
     ]
    },
    {
     "data": {
      "text/plain": [
       "[0.0006399957928806543, 1.0]"
      ]
     },
     "execution_count": 20,
     "metadata": {},
     "output_type": "execute_result"
    }
   ],
   "source": [
    "model.evaluate(x=x_val, y=y_val)"
   ]
  },
  {
   "cell_type": "code",
   "execution_count": 21,
   "metadata": {},
   "outputs": [
    {
     "data": {
      "text/plain": [
       "1.25"
      ]
     },
     "execution_count": 21,
     "metadata": {},
     "output_type": "execute_result"
    }
   ],
   "source": [
    "40/20\n",
    "20/16"
   ]
  },
  {
   "cell_type": "code",
   "execution_count": null,
   "metadata": {},
   "outputs": [],
   "source": []
  }
 ],
 "metadata": {
  "accelerator": "GPU",
  "colab": {
   "collapsed_sections": [],
   "name": "Classifier.ipynb",
   "provenance": []
  },
  "kernelspec": {
   "display_name": "Python 3",
   "language": "python",
   "name": "python3"
  },
  "language_info": {
   "codemirror_mode": {
    "name": "ipython",
    "version": 3
   },
   "file_extension": ".py",
   "mimetype": "text/x-python",
   "name": "python",
   "nbconvert_exporter": "python",
   "pygments_lexer": "ipython3",
   "version": "3.8.5"
  }
 },
 "nbformat": 4,
 "nbformat_minor": 1
}
