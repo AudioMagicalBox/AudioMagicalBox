{
 "cells": [
  {
   "cell_type": "code",
   "execution_count": 1,
   "metadata": {
    "executionInfo": {
     "elapsed": 428,
     "status": "ok",
     "timestamp": 1623236061470,
     "user": {
      "displayName": "黃侯弼",
      "photoUrl": "",
      "userId": "02394864078410571973"
     },
     "user_tz": -480
    },
    "id": "iVhpbtg0DuC5"
   },
   "outputs": [],
   "source": [
    "from os import listdir\n",
    "from os.path import isdir, join\n",
    "from tensorflow.keras import layers, models\n",
    "import numpy as np"
   ]
  },
  {
   "cell_type": "code",
   "execution_count": 2,
   "metadata": {
    "colab": {
     "base_uri": "https://localhost:8080/"
    },
    "executionInfo": {
     "elapsed": 5,
     "status": "ok",
     "timestamp": 1623236062585,
     "user": {
      "displayName": "黃侯弼",
      "photoUrl": "",
      "userId": "02394864078410571973"
     },
     "user_tz": -480
    },
    "id": "MZI1urklDuC6",
    "outputId": "9344224f-90ed-4d09-80e4-efd8c4bb7cac"
   },
   "outputs": [
    {
     "name": "stdout",
     "output_type": "stream",
     "text": [
      "['backgroundNoise', 'ㄏㄧㄡ', 'ㄟ', '他', '你', '吼', '啦', '嗯', '好', '我', '的', '的一個', '的這個', '的那個', '著', '那', '那那個', '阿']\n"
     ]
    }
   ],
   "source": [
    "# Create list of all targets (minus background noise)\n",
    "dataset_path = 'C:/Users/user/Desktop/recordingSpecAugment2'\n",
    "all_targets = all_targets = [name for name in listdir(dataset_path) if isdir(join(dataset_path, name))]\n",
    "print(all_targets)"
   ]
  },
  {
   "cell_type": "code",
   "execution_count": 3,
   "metadata": {
    "executionInfo": {
     "elapsed": 301,
     "status": "ok",
     "timestamp": 1623236063859,
     "user": {
      "displayName": "黃侯弼",
      "photoUrl": "",
      "userId": "02394864078410571973"
     },
     "user_tz": -480
    },
    "id": "WgAcVkOeDuC6"
   },
   "outputs": [],
   "source": [
    "# Settings\n",
    "feature_sets_path = './'\n",
    "feature_sets_filename = './npz/recordingSpecAugment2_wen.npz'\n",
    "model_filename = 'recordingSpecAugmen2t_wen.h5'\n"
   ]
  },
  {
   "cell_type": "code",
   "execution_count": 4,
   "metadata": {
    "colab": {
     "base_uri": "https://localhost:8080/"
    },
    "executionInfo": {
     "elapsed": 458,
     "status": "ok",
     "timestamp": 1623236065288,
     "user": {
      "displayName": "黃侯弼",
      "photoUrl": "",
      "userId": "02394864078410571973"
     },
     "user_tz": -480
    },
    "id": "rJUTXuiVDuC7",
    "outputId": "4a7c5275-1bcb-4f85-dd65-18bb4e2630c9"
   },
   "outputs": [
    {
     "name": "stdout",
     "output_type": "stream",
     "text": [
      "['x_train', 'y_train', 'x_val', 'y_val', 'x_test', 'y_test']\n"
     ]
    }
   ],
   "source": [
    "# Load feature sets\n",
    "feature_sets = np.load(join(feature_sets_path, feature_sets_filename))\n",
    "print(feature_sets.files)"
   ]
  },
  {
   "cell_type": "code",
   "execution_count": 5,
   "metadata": {
    "colab": {
     "base_uri": "https://localhost:8080/"
    },
    "executionInfo": {
     "elapsed": 3,
     "status": "ok",
     "timestamp": 1623236066162,
     "user": {
      "displayName": "黃侯弼",
      "photoUrl": "",
      "userId": "02394864078410571973"
     },
     "user_tz": -480
    },
    "id": "0MTc8hMZDuC7",
    "outputId": "287b9ce7-b503-472c-dc22-1cf446a74c77"
   },
   "outputs": [
    {
     "name": "stdout",
     "output_type": "stream",
     "text": [
      "[ 5.  3. 10. ... 11. 14.  7.]\n",
      "[ 7. 15. 12. ...  2. 15.  1.]\n",
      "[ 0.  5.  8. ... 13. 15.  8.]\n"
     ]
    }
   ],
   "source": [
    "# Assign feature sets\n",
    "x_train = feature_sets['x_train']\n",
    "y_train = feature_sets['y_train']\n",
    "x_val = feature_sets['x_val']\n",
    "y_val = feature_sets['y_val']\n",
    "x_test = feature_sets['x_test']\n",
    "y_test = feature_sets['y_test']\n",
    "print(y_test)\n",
    "print(y_train)\n",
    "print(y_val)"
   ]
  },
  {
   "cell_type": "code",
   "execution_count": 6,
   "metadata": {
    "colab": {
     "base_uri": "https://localhost:8080/"
    },
    "executionInfo": {
     "elapsed": 262,
     "status": "ok",
     "timestamp": 1623236068434,
     "user": {
      "displayName": "黃侯弼",
      "photoUrl": "",
      "userId": "02394864078410571973"
     },
     "user_tz": -480
    },
    "id": "r2XzOXwdDuC8",
    "outputId": "6d00862e-4d37-415c-b854-22b4cdd10698"
   },
   "outputs": [
    {
     "name": "stdout",
     "output_type": "stream",
     "text": [
      "(8868, 13, 49)\n",
      "(2956, 13, 49)\n",
      "(2956, 13, 49)\n"
     ]
    }
   ],
   "source": [
    "# Look at tensor dimensions\n",
    "print(x_train.shape)\n",
    "print(x_val.shape)\n",
    "print(x_test.shape)"
   ]
  },
  {
   "cell_type": "code",
   "execution_count": 7,
   "metadata": {
    "colab": {
     "base_uri": "https://localhost:8080/"
    },
    "executionInfo": {
     "elapsed": 439,
     "status": "ok",
     "timestamp": 1623236069774,
     "user": {
      "displayName": "黃侯弼",
      "photoUrl": "",
      "userId": "02394864078410571973"
     },
     "user_tz": -480
    },
    "id": "N-l9zl-GDuC9",
    "outputId": "fd2762fb-1345-41d2-8108-985fcd157a52"
   },
   "outputs": [
    {
     "name": "stdout",
     "output_type": "stream",
     "text": [
      "[ 0.  5.  8. ... 13. 15.  8.]\n"
     ]
    }
   ],
   "source": [
    "# Peek at labels\n",
    "print(y_val)"
   ]
  },
  {
   "cell_type": "code",
   "execution_count": 8,
   "metadata": {
    "colab": {
     "base_uri": "https://localhost:8080/"
    },
    "executionInfo": {
     "elapsed": 4,
     "status": "ok",
     "timestamp": 1623236070623,
     "user": {
      "displayName": "黃侯弼",
      "photoUrl": "",
      "userId": "02394864078410571973"
     },
     "user_tz": -480
    },
    "id": "nY3RGYbPDuC-",
    "outputId": "deded680-fc57-4da6-c054-a4648b5007eb"
   },
   "outputs": [
    {
     "name": "stdout",
     "output_type": "stream",
     "text": [
      "[ 5.  3. 10. ... 11. 14.  7.]\n"
     ]
    }
   ],
   "source": [
    "# Peek at labels after conversion\n",
    "print(y_test)"
   ]
  },
  {
   "cell_type": "code",
   "execution_count": 9,
   "metadata": {
    "colab": {
     "base_uri": "https://localhost:8080/"
    },
    "executionInfo": {
     "elapsed": 5,
     "status": "ok",
     "timestamp": 1623236071679,
     "user": {
      "displayName": "黃侯弼",
      "photoUrl": "",
      "userId": "02394864078410571973"
     },
     "user_tz": -480
    },
    "id": "8I1_x2yvDuC-",
    "outputId": "0d138400-6662-4175-8a1f-f640e3f2bf6d"
   },
   "outputs": [
    {
     "name": "stdout",
     "output_type": "stream",
     "text": [
      "(8868, 13, 49)\n"
     ]
    }
   ],
   "source": [
    "# View the dimensions of our input data\n",
    "print(x_train.shape)"
   ]
  },
  {
   "cell_type": "code",
   "execution_count": 10,
   "metadata": {
    "colab": {
     "base_uri": "https://localhost:8080/"
    },
    "executionInfo": {
     "elapsed": 4,
     "status": "ok",
     "timestamp": 1623236072760,
     "user": {
      "displayName": "黃侯弼",
      "photoUrl": "",
      "userId": "02394864078410571973"
     },
     "user_tz": -480
    },
    "id": "i_zQsgz4DuC_",
    "outputId": "94a9c63d-7b06-4e8f-8c10-2aaab2aebe64",
    "scrolled": true
   },
   "outputs": [
    {
     "name": "stdout",
     "output_type": "stream",
     "text": [
      "(8868, 13, 49, 1)\n",
      "(2956, 13, 49, 1)\n",
      "(2956, 13, 49, 1)\n"
     ]
    }
   ],
   "source": [
    "# CNN for TF expects (batch, height, width, channels)\n",
    "# So we reshape the input tensors with a \"color\" channel of 1\n",
    "x_train = x_train.reshape(x_train.shape[0], \n",
    "                          x_train.shape[1], \n",
    "                          x_train.shape[2], \n",
    "                          1)\n",
    "x_val = x_val.reshape(x_val.shape[0], \n",
    "                      x_val.shape[1], \n",
    "                      x_val.shape[2], \n",
    "                      1)\n",
    "x_test = x_test.reshape(x_test.shape[0], \n",
    "                        x_test.shape[1], \n",
    "                        x_test.shape[2], \n",
    "                        1)\n",
    "print(x_train.shape)\n",
    "print(x_val.shape)\n",
    "print(x_test.shape)"
   ]
  },
  {
   "cell_type": "code",
   "execution_count": 11,
   "metadata": {
    "colab": {
     "base_uri": "https://localhost:8080/"
    },
    "executionInfo": {
     "elapsed": 281,
     "status": "ok",
     "timestamp": 1623236074651,
     "user": {
      "displayName": "黃侯弼",
      "photoUrl": "",
      "userId": "02394864078410571973"
     },
     "user_tz": -480
    },
    "id": "Ge2MCNusDuC_",
    "outputId": "7c995061-d01d-4a96-a14f-fbee6804b4d4"
   },
   "outputs": [
    {
     "name": "stdout",
     "output_type": "stream",
     "text": [
      "(13, 49, 1)\n"
     ]
    }
   ],
   "source": [
    "# Input shape for CNN is size of MFCC of 1 sample\n",
    "sample_shape = x_test.shape[1:]\n",
    "print(sample_shape)"
   ]
  },
  {
   "cell_type": "code",
   "execution_count": 12,
   "metadata": {
    "colab": {
     "base_uri": "https://localhost:8080/"
    },
    "executionInfo": {
     "elapsed": 264,
     "status": "ok",
     "timestamp": 1623237350948,
     "user": {
      "displayName": "黃侯弼",
      "photoUrl": "",
      "userId": "02394864078410571973"
     },
     "user_tz": -480
    },
    "id": "2JqUOHp9DuDA",
    "outputId": "cc676686-8778-47c0-d5eb-183d137369d2"
   },
   "outputs": [
    {
     "name": "stdout",
     "output_type": "stream",
     "text": [
      "Model: \"sequential\"\n",
      "_________________________________________________________________\n",
      "Layer (type)                 Output Shape              Param #   \n",
      "=================================================================\n",
      "conv2d (Conv2D)              (None, 12, 48, 32)        160       \n",
      "_________________________________________________________________\n",
      "max_pooling2d (MaxPooling2D) (None, 6, 24, 32)         0         \n",
      "_________________________________________________________________\n",
      "conv2d_1 (Conv2D)            (None, 5, 23, 64)         8256      \n",
      "_________________________________________________________________\n",
      "max_pooling2d_1 (MaxPooling2 (None, 2, 11, 64)         0         \n",
      "_________________________________________________________________\n",
      "conv2d_2 (Conv2D)            (None, 1, 10, 128)        32896     \n",
      "_________________________________________________________________\n",
      "max_pooling2d_2 (MaxPooling2 (None, 1, 10, 128)        0         \n",
      "_________________________________________________________________\n",
      "dropout (Dropout)            (None, 1, 10, 128)        0         \n",
      "_________________________________________________________________\n",
      "flatten (Flatten)            (None, 1280)              0         \n",
      "_________________________________________________________________\n",
      "dense (Dense)                (None, 64)                81984     \n",
      "_________________________________________________________________\n",
      "dropout_1 (Dropout)          (None, 64)                0         \n",
      "_________________________________________________________________\n",
      "dense_1 (Dense)              (None, 18)                1170      \n",
      "=================================================================\n",
      "Total params: 124,466\n",
      "Trainable params: 124,466\n",
      "Non-trainable params: 0\n",
      "_________________________________________________________________\n"
     ]
    }
   ],
   "source": [
    "model = models.Sequential()\n",
    "model.add(layers.Conv2D(32, (2, 2), activation='relu',input_shape=sample_shape))\n",
    "model.add(layers.MaxPooling2D(pool_size=(2, 2)))\n",
    "\n",
    "\n",
    "model.add(layers.Conv2D(64, (2, 2), activation='relu'))#64\n",
    "model.add(layers.MaxPooling2D(pool_size=(2, 2)))\n",
    "\n",
    "\n",
    "\n",
    "model.add(layers.Conv2D(128, (2, 2), activation='relu'))\n",
    "model.add(layers.MaxPooling2D(pool_size=(1, 1)))\n",
    "model.add(layers.Dropout(0.4))\n",
    "\n",
    "# Classifier\n",
    "model.add(layers.Flatten())\n",
    "model.add(layers.Dense(64, activation='relu'))#64\n",
    "model.add(layers.Dropout(0.6))\n",
    "model.add(layers.Dense(18, activation='softmax'))\n",
    "# Display model\n",
    "model.summary()"
   ]
  },
  {
   "cell_type": "code",
   "execution_count": 13,
   "metadata": {
    "colab": {
     "base_uri": "https://localhost:8080/"
    },
    "executionInfo": {
     "elapsed": 402,
     "status": "ok",
     "timestamp": 1623237353164,
     "user": {
      "displayName": "黃侯弼",
      "photoUrl": "",
      "userId": "02394864078410571973"
     },
     "user_tz": -480
    },
    "id": "sp5WfpkJDuDA",
    "outputId": "e7c65039-b132-4490-ce02-0897a4ca9bdc"
   },
   "outputs": [],
   "source": [
    "from tensorflow.keras import optimizers\n",
    "# Add training parameters to model\n",
    "model.compile(loss='sparse_categorical_crossentropy', \n",
    "              optimizer='adam',    #'adam'\n",
    "              metrics=['acc'])"
   ]
  },
  {
   "cell_type": "code",
   "execution_count": 14,
   "metadata": {
    "colab": {
     "base_uri": "https://localhost:8080/"
    },
    "executionInfo": {
     "elapsed": 6626,
     "status": "ok",
     "timestamp": 1623237360783,
     "user": {
      "displayName": "黃侯弼",
      "photoUrl": "",
      "userId": "02394864078410571973"
     },
     "user_tz": -480
    },
    "id": "s46KMbZbDuDB",
    "outputId": "ff0b8470-8926-4dd5-bd90-db3c765b1d90",
    "scrolled": true
   },
   "outputs": [
    {
     "name": "stdout",
     "output_type": "stream",
     "text": [
      "Epoch 1/150\n",
      "127/127 [==============================] - 5s 36ms/step - loss: 3.7954 - acc: 0.0602 - val_loss: 2.7951 - val_acc: 0.1573\n",
      "Epoch 2/150\n",
      "127/127 [==============================] - 3s 27ms/step - loss: 2.7717 - acc: 0.1203 - val_loss: 2.5009 - val_acc: 0.2270\n",
      "Epoch 3/150\n",
      "127/127 [==============================] - 4s 30ms/step - loss: 2.5786 - acc: 0.1679 - val_loss: 2.2608 - val_acc: 0.3616\n",
      "Epoch 4/150\n",
      "127/127 [==============================] - 4s 28ms/step - loss: 2.3370 - acc: 0.2468 - val_loss: 1.7292 - val_acc: 0.4767\n",
      "Epoch 5/150\n",
      "127/127 [==============================] - 4s 28ms/step - loss: 2.0220 - acc: 0.3465 - val_loss: 1.4125 - val_acc: 0.5809\n",
      "Epoch 6/150\n",
      "127/127 [==============================] - 4s 28ms/step - loss: 1.8115 - acc: 0.4079 - val_loss: 1.3612 - val_acc: 0.5940\n",
      "Epoch 7/150\n",
      "127/127 [==============================] - 4s 28ms/step - loss: 1.6590 - acc: 0.4568 - val_loss: 1.2259 - val_acc: 0.6258\n",
      "Epoch 8/150\n",
      "127/127 [==============================] - 4s 29ms/step - loss: 1.5628 - acc: 0.4748 - val_loss: 1.1557 - val_acc: 0.6414\n",
      "Epoch 9/150\n",
      "127/127 [==============================] - 4s 28ms/step - loss: 1.4698 - acc: 0.5096 - val_loss: 1.0731 - val_acc: 0.6861\n",
      "Epoch 10/150\n",
      "127/127 [==============================] - 4s 29ms/step - loss: 1.3819 - acc: 0.5406 - val_loss: 1.0231 - val_acc: 0.6735\n",
      "Epoch 11/150\n",
      "127/127 [==============================] - 4s 28ms/step - loss: 1.3278 - acc: 0.5561 - val_loss: 0.9609 - val_acc: 0.6891\n",
      "Epoch 12/150\n",
      "127/127 [==============================] - 4s 30ms/step - loss: 1.2653 - acc: 0.5744 - val_loss: 0.9283 - val_acc: 0.7050\n",
      "Epoch 13/150\n",
      "127/127 [==============================] - 4s 28ms/step - loss: 1.2119 - acc: 0.5875 - val_loss: 0.9026 - val_acc: 0.7114\n",
      "Epoch 14/150\n",
      "127/127 [==============================] - 4s 28ms/step - loss: 1.1729 - acc: 0.6055 - val_loss: 0.8930 - val_acc: 0.7168\n",
      "Epoch 15/150\n",
      "127/127 [==============================] - 4s 28ms/step - loss: 1.1267 - acc: 0.6146 - val_loss: 0.8387 - val_acc: 0.7368\n",
      "Epoch 16/150\n",
      "127/127 [==============================] - 4s 28ms/step - loss: 1.1080 - acc: 0.6319 - val_loss: 0.8261 - val_acc: 0.7368\n",
      "Epoch 17/150\n",
      "127/127 [==============================] - 4s 29ms/step - loss: 1.0556 - acc: 0.6421 - val_loss: 0.8229 - val_acc: 0.7456\n",
      "Epoch 18/150\n",
      "127/127 [==============================] - 4s 28ms/step - loss: 1.0234 - acc: 0.6481 - val_loss: 0.7886 - val_acc: 0.7510\n",
      "Epoch 19/150\n",
      "127/127 [==============================] - 4s 28ms/step - loss: 1.0024 - acc: 0.6561 - val_loss: 0.7941 - val_acc: 0.7446\n",
      "Epoch 20/150\n",
      "127/127 [==============================] - 4s 28ms/step - loss: 1.0086 - acc: 0.6532 - val_loss: 0.7379 - val_acc: 0.7717\n",
      "Epoch 21/150\n",
      "127/127 [==============================] - 4s 30ms/step - loss: 0.9766 - acc: 0.6677 - val_loss: 0.7482 - val_acc: 0.7629\n",
      "Epoch 22/150\n",
      "127/127 [==============================] - 4s 28ms/step - loss: 0.9379 - acc: 0.6750 - val_loss: 0.7219 - val_acc: 0.7710\n",
      "Epoch 23/150\n",
      "127/127 [==============================] - 4s 28ms/step - loss: 0.9184 - acc: 0.6943 - val_loss: 0.7166 - val_acc: 0.7842\n",
      "Epoch 24/150\n",
      "127/127 [==============================] - 4s 28ms/step - loss: 0.9273 - acc: 0.6841 - val_loss: 0.6919 - val_acc: 0.7784\n",
      "Epoch 25/150\n",
      "127/127 [==============================] - 4s 28ms/step - loss: 0.8850 - acc: 0.6885 - val_loss: 0.6888 - val_acc: 0.7838\n",
      "Epoch 26/150\n",
      "127/127 [==============================] - 4s 30ms/step - loss: 0.8454 - acc: 0.7060 - val_loss: 0.6619 - val_acc: 0.7943\n",
      "Epoch 27/150\n",
      "127/127 [==============================] - 4s 28ms/step - loss: 0.8433 - acc: 0.7119 - val_loss: 0.6930 - val_acc: 0.7865\n",
      "Epoch 28/150\n",
      "127/127 [==============================] - 4s 28ms/step - loss: 0.8179 - acc: 0.7167 - val_loss: 0.6686 - val_acc: 0.7913\n",
      "Epoch 29/150\n",
      "127/127 [==============================] - 4s 28ms/step - loss: 0.8504 - acc: 0.7193 - val_loss: 0.6861 - val_acc: 0.7923\n",
      "Epoch 30/150\n",
      "127/127 [==============================] - 4s 30ms/step - loss: 0.8202 - acc: 0.7141 - val_loss: 0.6804 - val_acc: 0.7879\n",
      "Epoch 31/150\n",
      "127/127 [==============================] - 4s 30ms/step - loss: 0.8050 - acc: 0.7165 - val_loss: 0.6488 - val_acc: 0.7987\n",
      "Epoch 32/150\n",
      "127/127 [==============================] - 3s 27ms/step - loss: 0.7664 - acc: 0.7427 - val_loss: 0.6433 - val_acc: 0.8041\n",
      "Epoch 33/150\n",
      "127/127 [==============================] - 3s 25ms/step - loss: 0.7779 - acc: 0.7315 - val_loss: 0.6545 - val_acc: 0.7957\n",
      "Epoch 34/150\n",
      "127/127 [==============================] - 3s 27ms/step - loss: 0.7809 - acc: 0.7315 - val_loss: 0.6555 - val_acc: 0.7903\n",
      "Epoch 35/150\n",
      "127/127 [==============================] - 3s 25ms/step - loss: 0.7545 - acc: 0.7423 - val_loss: 0.6210 - val_acc: 0.8089\n",
      "Epoch 36/150\n",
      "127/127 [==============================] - 3s 25ms/step - loss: 0.7283 - acc: 0.7547 - val_loss: 0.6068 - val_acc: 0.8150\n",
      "Epoch 37/150\n",
      "127/127 [==============================] - 3s 26ms/step - loss: 0.7024 - acc: 0.7559 - val_loss: 0.6039 - val_acc: 0.8190\n",
      "Epoch 38/150\n",
      "127/127 [==============================] - 3s 24ms/step - loss: 0.7083 - acc: 0.7553 - val_loss: 0.6118 - val_acc: 0.8041\n",
      "Epoch 39/150\n",
      "127/127 [==============================] - 3s 25ms/step - loss: 0.7027 - acc: 0.7617 - val_loss: 0.6316 - val_acc: 0.8078\n",
      "Epoch 40/150\n",
      "127/127 [==============================] - 3s 25ms/step - loss: 0.6935 - acc: 0.7550 - val_loss: 0.5925 - val_acc: 0.8237\n",
      "Epoch 41/150\n",
      "127/127 [==============================] - 3s 25ms/step - loss: 0.7062 - acc: 0.7581 - val_loss: 0.5931 - val_acc: 0.8221\n",
      "Epoch 42/150\n",
      "127/127 [==============================] - 3s 24ms/step - loss: 0.6616 - acc: 0.7663 - val_loss: 0.5909 - val_acc: 0.8200\n",
      "Epoch 43/150\n",
      "127/127 [==============================] - 3s 24ms/step - loss: 0.6619 - acc: 0.7719 - val_loss: 0.6239 - val_acc: 0.8183\n",
      "Epoch 44/150\n",
      "127/127 [==============================] - 3s 25ms/step - loss: 0.6545 - acc: 0.7735 - val_loss: 0.5865 - val_acc: 0.8261\n",
      "Epoch 45/150\n",
      "127/127 [==============================] - 3s 26ms/step - loss: 0.6368 - acc: 0.7861 - val_loss: 0.6091 - val_acc: 0.8180\n",
      "Epoch 46/150\n",
      "127/127 [==============================] - 3s 25ms/step - loss: 0.6334 - acc: 0.7856 - val_loss: 0.5921 - val_acc: 0.8285\n",
      "Epoch 47/150\n",
      "127/127 [==============================] - 3s 24ms/step - loss: 0.6503 - acc: 0.7830 - val_loss: 0.5907 - val_acc: 0.8217\n",
      "Epoch 48/150\n",
      "127/127 [==============================] - 3s 25ms/step - loss: 0.6297 - acc: 0.7854 - val_loss: 0.5913 - val_acc: 0.8285\n",
      "Epoch 49/150\n",
      "127/127 [==============================] - 3s 26ms/step - loss: 0.6084 - acc: 0.7870 - val_loss: 0.5927 - val_acc: 0.8309\n",
      "Epoch 50/150\n",
      "127/127 [==============================] - 3s 26ms/step - loss: 0.6247 - acc: 0.7835 - val_loss: 0.6102 - val_acc: 0.8197\n",
      "Epoch 51/150\n",
      "127/127 [==============================] - 3s 24ms/step - loss: 0.6274 - acc: 0.7779 - val_loss: 0.5661 - val_acc: 0.8322\n",
      "Epoch 52/150\n",
      "127/127 [==============================] - 3s 24ms/step - loss: 0.6205 - acc: 0.7856 - val_loss: 0.5731 - val_acc: 0.8315\n",
      "Epoch 53/150\n",
      "127/127 [==============================] - 3s 24ms/step - loss: 0.5652 - acc: 0.7995 - val_loss: 0.5821 - val_acc: 0.8315\n",
      "Epoch 54/150\n",
      "127/127 [==============================] - 3s 25ms/step - loss: 0.6010 - acc: 0.7875 - val_loss: 0.5621 - val_acc: 0.8288\n",
      "Epoch 55/150\n",
      "127/127 [==============================] - 3s 26ms/step - loss: 0.5726 - acc: 0.8051 - val_loss: 0.5652 - val_acc: 0.8339\n",
      "Epoch 56/150\n",
      "127/127 [==============================] - 3s 24ms/step - loss: 0.5743 - acc: 0.8062 - val_loss: 0.6209 - val_acc: 0.8190\n",
      "Epoch 57/150\n",
      "127/127 [==============================] - 3s 24ms/step - loss: 0.5951 - acc: 0.8005 - val_loss: 0.5462 - val_acc: 0.8386\n",
      "Epoch 58/150\n",
      "127/127 [==============================] - 3s 24ms/step - loss: 0.5734 - acc: 0.8036 - val_loss: 0.5391 - val_acc: 0.8373\n",
      "Epoch 59/150\n",
      "127/127 [==============================] - 3s 24ms/step - loss: 0.5537 - acc: 0.8059 - val_loss: 0.5300 - val_acc: 0.8407\n",
      "Epoch 60/150\n",
      "127/127 [==============================] - 3s 26ms/step - loss: 0.5390 - acc: 0.8083 - val_loss: 0.5512 - val_acc: 0.8339\n",
      "Epoch 61/150\n",
      "127/127 [==============================] - 3s 24ms/step - loss: 0.5539 - acc: 0.8112 - val_loss: 0.5516 - val_acc: 0.8380\n"
     ]
    },
    {
     "name": "stdout",
     "output_type": "stream",
     "text": [
      "Epoch 62/150\n",
      "127/127 [==============================] - 3s 24ms/step - loss: 0.5470 - acc: 0.8063 - val_loss: 0.5534 - val_acc: 0.8386\n",
      "Epoch 63/150\n",
      "127/127 [==============================] - 3s 25ms/step - loss: 0.5488 - acc: 0.8120 - val_loss: 0.5450 - val_acc: 0.8376\n",
      "Epoch 64/150\n",
      "127/127 [==============================] - 3s 24ms/step - loss: 0.5434 - acc: 0.8177 - val_loss: 0.5766 - val_acc: 0.8312\n",
      "Epoch 65/150\n",
      "127/127 [==============================] - 3s 26ms/step - loss: 0.5537 - acc: 0.8048 - val_loss: 0.5609 - val_acc: 0.8312\n",
      "Epoch 66/150\n",
      "127/127 [==============================] - 3s 24ms/step - loss: 0.5289 - acc: 0.8164 - val_loss: 0.5397 - val_acc: 0.8413\n",
      "Epoch 67/150\n",
      "127/127 [==============================] - 3s 24ms/step - loss: 0.5120 - acc: 0.8148 - val_loss: 0.5431 - val_acc: 0.8417\n",
      "Epoch 68/150\n",
      "127/127 [==============================] - 3s 24ms/step - loss: 0.5231 - acc: 0.8107 - val_loss: 0.5319 - val_acc: 0.8515\n",
      "Epoch 69/150\n",
      "127/127 [==============================] - 3s 24ms/step - loss: 0.5249 - acc: 0.8094 - val_loss: 0.5361 - val_acc: 0.8447\n",
      "Epoch 70/150\n",
      "127/127 [==============================] - 3s 26ms/step - loss: 0.5191 - acc: 0.8152 - val_loss: 0.5576 - val_acc: 0.8386\n",
      "Epoch 71/150\n",
      "127/127 [==============================] - 3s 24ms/step - loss: 0.5146 - acc: 0.8160 - val_loss: 0.5820 - val_acc: 0.8383\n",
      "Epoch 72/150\n",
      "127/127 [==============================] - 4s 32ms/step - loss: 0.5237 - acc: 0.8193 - val_loss: 0.5459 - val_acc: 0.8457\n",
      "Epoch 73/150\n",
      "127/127 [==============================] - 4s 28ms/step - loss: 0.5088 - acc: 0.8260 - val_loss: 0.5620 - val_acc: 0.8420\n",
      "Epoch 74/150\n",
      "127/127 [==============================] - 4s 33ms/step - loss: 0.5235 - acc: 0.8225 - val_loss: 0.5434 - val_acc: 0.8403\n",
      "Epoch 75/150\n",
      "127/127 [==============================] - 4s 32ms/step - loss: 0.4796 - acc: 0.8294 - val_loss: 0.5345 - val_acc: 0.8461\n",
      "Epoch 76/150\n",
      "127/127 [==============================] - 4s 28ms/step - loss: 0.4857 - acc: 0.8273 - val_loss: 0.5507 - val_acc: 0.8464\n",
      "Epoch 77/150\n",
      "127/127 [==============================] - 4s 28ms/step - loss: 0.4372 - acc: 0.8444 - val_loss: 0.5288 - val_acc: 0.8468\n",
      "Epoch 78/150\n",
      "127/127 [==============================] - 4s 28ms/step - loss: 0.4744 - acc: 0.8400 - val_loss: 0.5389 - val_acc: 0.8403\n",
      "Epoch 79/150\n",
      "127/127 [==============================] - 4s 29ms/step - loss: 0.4992 - acc: 0.8256 - val_loss: 0.5695 - val_acc: 0.8312\n",
      "Epoch 80/150\n",
      "127/127 [==============================] - 4s 29ms/step - loss: 0.5148 - acc: 0.8205 - val_loss: 0.5804 - val_acc: 0.8363\n",
      "Epoch 81/150\n",
      "127/127 [==============================] - 4s 28ms/step - loss: 0.5153 - acc: 0.8200 - val_loss: 0.5583 - val_acc: 0.8471\n",
      "Epoch 82/150\n",
      "127/127 [==============================] - 4s 28ms/step - loss: 0.5036 - acc: 0.8282 - val_loss: 0.5353 - val_acc: 0.8515\n",
      "Epoch 83/150\n",
      "127/127 [==============================] - 4s 29ms/step - loss: 0.4906 - acc: 0.8288 - val_loss: 0.5375 - val_acc: 0.8420\n",
      "Epoch 84/150\n",
      "127/127 [==============================] - 4s 28ms/step - loss: 0.4714 - acc: 0.8345 - val_loss: 0.5495 - val_acc: 0.8471\n",
      "Epoch 85/150\n",
      "127/127 [==============================] - 4s 28ms/step - loss: 0.4865 - acc: 0.8296 - val_loss: 0.5794 - val_acc: 0.8373\n",
      "Epoch 86/150\n",
      "127/127 [==============================] - 3s 27ms/step - loss: 0.5013 - acc: 0.8273 - val_loss: 0.5350 - val_acc: 0.8495\n",
      "Epoch 87/150\n",
      "127/127 [==============================] - 4s 28ms/step - loss: 0.4358 - acc: 0.8465 - val_loss: 0.5225 - val_acc: 0.8468\n",
      "Epoch 88/150\n",
      "127/127 [==============================] - 4s 29ms/step - loss: 0.4398 - acc: 0.8493 - val_loss: 0.5490 - val_acc: 0.8562\n",
      "Epoch 89/150\n",
      "127/127 [==============================] - 4s 28ms/step - loss: 0.4554 - acc: 0.8491 - val_loss: 0.5628 - val_acc: 0.8413\n",
      "Epoch 90/150\n",
      "127/127 [==============================] - 4s 28ms/step - loss: 0.4553 - acc: 0.8404 - val_loss: 0.5432 - val_acc: 0.8461\n",
      "Epoch 91/150\n",
      "127/127 [==============================] - 4s 28ms/step - loss: 0.4446 - acc: 0.8441 - val_loss: 0.5418 - val_acc: 0.8498\n",
      "Epoch 92/150\n",
      "127/127 [==============================] - 4s 30ms/step - loss: 0.4498 - acc: 0.8463 - val_loss: 0.5629 - val_acc: 0.8525\n",
      "Epoch 93/150\n",
      "127/127 [==============================] - 4s 28ms/step - loss: 0.4436 - acc: 0.8461 - val_loss: 0.5701 - val_acc: 0.8464\n",
      "Epoch 94/150\n",
      "127/127 [==============================] - 4s 28ms/step - loss: 0.4433 - acc: 0.8416 - val_loss: 0.5370 - val_acc: 0.8491\n",
      "Epoch 95/150\n",
      "127/127 [==============================] - 4s 28ms/step - loss: 0.4480 - acc: 0.8380 - val_loss: 0.5288 - val_acc: 0.8505\n",
      "Epoch 96/150\n",
      "127/127 [==============================] - 4s 28ms/step - loss: 0.4356 - acc: 0.8420 - val_loss: 0.5969 - val_acc: 0.8440\n",
      "Epoch 97/150\n",
      "127/127 [==============================] - 4s 29ms/step - loss: 0.4368 - acc: 0.8457 - val_loss: 0.5145 - val_acc: 0.8484\n",
      "Epoch 98/150\n",
      "127/127 [==============================] - 3s 28ms/step - loss: 0.4261 - acc: 0.8491 - val_loss: 0.5382 - val_acc: 0.8457\n",
      "Epoch 99/150\n",
      "127/127 [==============================] - 4s 28ms/step - loss: 0.4302 - acc: 0.8527 - val_loss: 0.6050 - val_acc: 0.8451\n",
      "Epoch 100/150\n",
      "127/127 [==============================] - 4s 28ms/step - loss: 0.4228 - acc: 0.8492 - val_loss: 0.5458 - val_acc: 0.8528\n",
      "Epoch 101/150\n",
      "127/127 [==============================] - 4s 29ms/step - loss: 0.4351 - acc: 0.8496 - val_loss: 0.5706 - val_acc: 0.8545\n",
      "Epoch 102/150\n",
      "127/127 [==============================] - 4s 28ms/step - loss: 0.4215 - acc: 0.8520 - val_loss: 0.5276 - val_acc: 0.8630\n",
      "Epoch 103/150\n",
      "127/127 [==============================] - 4s 28ms/step - loss: 0.4074 - acc: 0.8605 - val_loss: 0.5577 - val_acc: 0.8532\n",
      "Epoch 104/150\n",
      "127/127 [==============================] - 4s 28ms/step - loss: 0.4171 - acc: 0.8555 - val_loss: 0.5612 - val_acc: 0.8549\n",
      "Epoch 105/150\n",
      "127/127 [==============================] - 4s 29ms/step - loss: 0.4240 - acc: 0.8518 - val_loss: 0.5711 - val_acc: 0.8396\n",
      "Epoch 106/150\n",
      "127/127 [==============================] - 4s 29ms/step - loss: 0.4447 - acc: 0.8482 - val_loss: 0.5388 - val_acc: 0.8528\n",
      "Epoch 107/150\n",
      "127/127 [==============================] - 4s 28ms/step - loss: 0.4056 - acc: 0.8542 - val_loss: 0.5662 - val_acc: 0.8542\n",
      "Epoch 108/150\n",
      "127/127 [==============================] - 4s 28ms/step - loss: 0.3985 - acc: 0.8669 - val_loss: 0.5684 - val_acc: 0.8505\n",
      "Epoch 109/150\n",
      "127/127 [==============================] - 4s 28ms/step - loss: 0.4062 - acc: 0.8599 - val_loss: 0.5603 - val_acc: 0.8512\n",
      "Epoch 110/150\n",
      "127/127 [==============================] - 4s 29ms/step - loss: 0.3978 - acc: 0.8638 - val_loss: 0.5637 - val_acc: 0.8474\n",
      "Epoch 111/150\n",
      "127/127 [==============================] - 4s 28ms/step - loss: 0.4181 - acc: 0.8500 - val_loss: 0.5427 - val_acc: 0.8532\n",
      "Epoch 112/150\n",
      "127/127 [==============================] - 3s 27ms/step - loss: 0.3884 - acc: 0.8662 - val_loss: 0.5923 - val_acc: 0.8427\n",
      "Epoch 113/150\n",
      "127/127 [==============================] - 4s 28ms/step - loss: 0.4073 - acc: 0.8586 - val_loss: 0.5519 - val_acc: 0.8505\n",
      "Epoch 114/150\n",
      "127/127 [==============================] - 4s 30ms/step - loss: 0.4111 - acc: 0.8555 - val_loss: 0.5635 - val_acc: 0.8515\n",
      "Epoch 115/150\n",
      "127/127 [==============================] - 4s 30ms/step - loss: 0.3851 - acc: 0.8643 - val_loss: 0.5392 - val_acc: 0.8562\n",
      "Epoch 116/150\n",
      "127/127 [==============================] - 4s 30ms/step - loss: 0.3971 - acc: 0.8607 - val_loss: 0.5446 - val_acc: 0.8579\n",
      "Epoch 117/150\n",
      "127/127 [==============================] - 4s 28ms/step - loss: 0.3768 - acc: 0.8697 - val_loss: 0.5907 - val_acc: 0.8424\n",
      "Epoch 118/150\n",
      "127/127 [==============================] - 3s 27ms/step - loss: 0.3981 - acc: 0.8625 - val_loss: 0.5559 - val_acc: 0.8562\n",
      "Epoch 119/150\n",
      "127/127 [==============================] - 4s 31ms/step - loss: 0.4078 - acc: 0.8621 - val_loss: 0.5408 - val_acc: 0.8528\n",
      "Epoch 120/150\n",
      "127/127 [==============================] - 4s 33ms/step - loss: 0.3857 - acc: 0.8687 - val_loss: 0.5579 - val_acc: 0.8545\n",
      "Epoch 121/150\n",
      "127/127 [==============================] - 4s 34ms/step - loss: 0.4102 - acc: 0.8532 - val_loss: 0.5988 - val_acc: 0.8457\n",
      "Epoch 122/150\n"
     ]
    },
    {
     "name": "stdout",
     "output_type": "stream",
     "text": [
      "127/127 [==============================] - 4s 28ms/step - loss: 0.3720 - acc: 0.8619 - val_loss: 0.5988 - val_acc: 0.8471\n",
      "Epoch 123/150\n",
      "127/127 [==============================] - 4s 31ms/step - loss: 0.4092 - acc: 0.8566 - val_loss: 0.5614 - val_acc: 0.8498\n",
      "Epoch 124/150\n",
      "127/127 [==============================] - 5s 42ms/step - loss: 0.3718 - acc: 0.8711 - val_loss: 0.5674 - val_acc: 0.8583\n",
      "Epoch 125/150\n",
      "127/127 [==============================] - 5s 38ms/step - loss: 0.4029 - acc: 0.8577 - val_loss: 0.5224 - val_acc: 0.8596\n",
      "Epoch 126/150\n",
      "127/127 [==============================] - 4s 32ms/step - loss: 0.3633 - acc: 0.8725 - val_loss: 0.6653 - val_acc: 0.8400\n",
      "Epoch 127/150\n",
      "127/127 [==============================] - 3s 27ms/step - loss: 0.4310 - acc: 0.8569 - val_loss: 0.5288 - val_acc: 0.8640\n",
      "Epoch 128/150\n",
      "127/127 [==============================] - 3s 26ms/step - loss: 0.3564 - acc: 0.8723 - val_loss: 0.5515 - val_acc: 0.8586\n",
      "Epoch 129/150\n",
      "127/127 [==============================] - 4s 33ms/step - loss: 0.3781 - acc: 0.8695 - val_loss: 0.5386 - val_acc: 0.8620\n",
      "Epoch 130/150\n",
      "127/127 [==============================] - 4s 30ms/step - loss: 0.3453 - acc: 0.8736 - val_loss: 0.5714 - val_acc: 0.8528\n",
      "Epoch 131/150\n",
      "127/127 [==============================] - 4s 30ms/step - loss: 0.4015 - acc: 0.8674 - val_loss: 0.5579 - val_acc: 0.8610\n",
      "Epoch 132/150\n",
      "127/127 [==============================] - 4s 29ms/step - loss: 0.3728 - acc: 0.8721 - val_loss: 0.5664 - val_acc: 0.8501\n",
      "Epoch 133/150\n",
      "127/127 [==============================] - 4s 29ms/step - loss: 0.3467 - acc: 0.8717 - val_loss: 0.5777 - val_acc: 0.8430\n",
      "Epoch 134/150\n",
      "127/127 [==============================] - 4s 29ms/step - loss: 0.3835 - acc: 0.8742 - val_loss: 0.5470 - val_acc: 0.8599\n",
      "Epoch 135/150\n",
      "127/127 [==============================] - 4s 31ms/step - loss: 0.3586 - acc: 0.8760 - val_loss: 0.5822 - val_acc: 0.8535\n",
      "Epoch 136/150\n",
      "127/127 [==============================] - 4s 29ms/step - loss: 0.3481 - acc: 0.8769 - val_loss: 0.5693 - val_acc: 0.8596\n",
      "Epoch 137/150\n",
      "127/127 [==============================] - 4s 30ms/step - loss: 0.3487 - acc: 0.8877 - val_loss: 0.5687 - val_acc: 0.8569\n",
      "Epoch 138/150\n",
      "127/127 [==============================] - 4s 29ms/step - loss: 0.3518 - acc: 0.8780 - val_loss: 0.5552 - val_acc: 0.8613\n",
      "Epoch 139/150\n",
      "127/127 [==============================] - 4s 32ms/step - loss: 0.3666 - acc: 0.8762 - val_loss: 0.5870 - val_acc: 0.8535\n",
      "Epoch 140/150\n",
      "127/127 [==============================] - 4s 30ms/step - loss: 0.3701 - acc: 0.8784 - val_loss: 0.5908 - val_acc: 0.8576\n",
      "Epoch 141/150\n",
      "127/127 [==============================] - 4s 29ms/step - loss: 0.3405 - acc: 0.8843 - val_loss: 0.5480 - val_acc: 0.8488\n",
      "Epoch 142/150\n",
      "127/127 [==============================] - 4s 29ms/step - loss: 0.3607 - acc: 0.8760 - val_loss: 0.5456 - val_acc: 0.8539\n",
      "Epoch 143/150\n",
      "127/127 [==============================] - 4s 30ms/step - loss: 0.3529 - acc: 0.8762 - val_loss: 0.5926 - val_acc: 0.8535\n",
      "Epoch 144/150\n",
      "127/127 [==============================] - 4s 30ms/step - loss: 0.3711 - acc: 0.8702 - val_loss: 0.5624 - val_acc: 0.8522\n",
      "Epoch 145/150\n",
      "127/127 [==============================] - 4s 29ms/step - loss: 0.3317 - acc: 0.8811 - val_loss: 0.5641 - val_acc: 0.8579\n",
      "Epoch 146/150\n",
      "127/127 [==============================] - 4s 31ms/step - loss: 0.3423 - acc: 0.8786 - val_loss: 0.6070 - val_acc: 0.8528\n",
      "Epoch 147/150\n",
      "127/127 [==============================] - 4s 32ms/step - loss: 0.3560 - acc: 0.8760 - val_loss: 0.5708 - val_acc: 0.8508\n",
      "Epoch 148/150\n",
      "127/127 [==============================] - 4s 34ms/step - loss: 0.3467 - acc: 0.8772 - val_loss: 0.5656 - val_acc: 0.8613\n",
      "Epoch 149/150\n",
      "127/127 [==============================] - 4s 30ms/step - loss: 0.3318 - acc: 0.8765 - val_loss: 0.5889 - val_acc: 0.8569\n",
      "Epoch 150/150\n",
      "127/127 [==============================] - 4s 32ms/step - loss: 0.3491 - acc: 0.8740 - val_loss: 0.5641 - val_acc: 0.8610\n"
     ]
    }
   ],
   "source": [
    "# Train\n",
    "history = model.fit(x_train, \n",
    "                    y_train, \n",
    "                    epochs=150,\n",
    "                    batch_size=70,\n",
    "                    validation_data=(x_val, y_val))"
   ]
  },
  {
   "cell_type": "code",
   "execution_count": 15,
   "metadata": {
    "colab": {
     "base_uri": "https://localhost:8080/",
     "height": 545
    },
    "executionInfo": {
     "elapsed": 1003,
     "status": "ok",
     "timestamp": 1623237367971,
     "user": {
      "displayName": "黃侯弼",
      "photoUrl": "",
      "userId": "02394864078410571973"
     },
     "user_tz": -480
    },
    "id": "UHFvFGu9DuDB",
    "outputId": "d91020e9-a37e-47d8-c204-00bf612c2908"
   },
   "outputs": [
    {
     "data": {
      "image/png": "[encoded data removed]",
      "text/plain": [
       "<Figure size 432x288 with 1 Axes>"
      ]
     },
     "metadata": {
      "needs_background": "light"
     },
     "output_type": "display_data"
    },
    {
     "data": {
      "image/png": "[encoded data removed]",
      "text/plain": [
       "<Figure size 432x288 with 1 Axes>"
      ]
     },
     "metadata": {
      "needs_background": "light"
     },
     "output_type": "display_data"
    }
   ],
   "source": [
    "# Plot results\n",
    "import matplotlib.pyplot as plt\n",
    "\n",
    "acc = history.history['acc']\n",
    "val_acc = history.history['val_acc']\n",
    "loss = history.history['loss']\n",
    "val_loss = history.history['val_loss']\n",
    "\n",
    "epochs = range(1, len(acc) + 1)\n",
    "\n",
    "plt.plot(epochs, acc, 'bo', label='Training acc')\n",
    "plt.plot(epochs, val_acc, 'b', label='Validation acc')\n",
    "plt.title('Training and validation accuracy')\n",
    "plt.legend()\n",
    "\n",
    "plt.figure()\n",
    "\n",
    "plt.plot(epochs, loss, 'bo', label='Training loss')\n",
    "plt.plot(epochs, val_loss, 'b', label='Validation loss')\n",
    "plt.title('Training and validation loss')\n",
    "plt.legend()\n",
    "\n",
    "plt.show()"
   ]
  },
  {
   "cell_type": "code",
   "execution_count": 16,
   "metadata": {
    "executionInfo": {
     "elapsed": 263,
     "status": "ok",
     "timestamp": 1623237370995,
     "user": {
      "displayName": "黃侯弼",
      "photoUrl": "",
      "userId": "02394864078410571973"
     },
     "user_tz": -480
    },
    "id": "mKcsAPK-DuDB"
   },
   "outputs": [],
   "source": [
    "# Save the model as a file\n",
    "models.save_model(model, './h5/recordingSpecAugment2_wen.h5')"
   ]
  },
  {
   "cell_type": "code",
   "execution_count": 17,
   "metadata": {
    "colab": {
     "base_uri": "https://localhost:8080/"
    },
    "executionInfo": {
     "elapsed": 774,
     "status": "ok",
     "timestamp": 1623237372852,
     "user": {
      "displayName": "黃侯弼",
      "photoUrl": "",
      "userId": "02394864078410571973"
     },
     "user_tz": -480
    },
    "id": "rOAEZ7PKDuDC",
    "outputId": "ec42e9de-9b6c-4269-b804-bd8df580acf4"
   },
   "outputs": [
    {
     "name": "stdout",
     "output_type": "stream",
     "text": [
      "Answer: 5.0  Prediction: [[2.6139362e-14 1.8039373e-06 1.7922116e-06 1.2727895e-10 7.1041086e-08\n",
      "  1.0523875e-01 9.8881203e-10 3.1616299e-08 3.6400189e-07 8.9475715e-01\n",
      "  3.2165190e-08 1.0997433e-15 8.8115031e-17 1.1314275e-17 2.2130964e-08\n",
      "  3.0471569e-12 4.2916860e-15 6.8197066e-11]]\n",
      "Answer: 3.0  Prediction: [[8.5158519e-23 1.0320919e-26 2.0535189e-15 1.0000000e+00 1.0355456e-28\n",
      "  3.1584283e-14 1.1305932e-21 3.9734622e-13 4.0867179e-10 8.5061312e-26\n",
      "  7.7141534e-22 7.3201540e-37 2.2773693e-30 8.6036529e-31 4.4138712e-16\n",
      "  1.9299216e-13 4.0476363e-21 4.8339213e-09]]\n",
      "Answer: 10.0  Prediction: [[4.8707642e-11 7.4087441e-01 4.4605845e-06 5.3559386e-08 2.3607024e-07\n",
      "  5.6177686e-04 3.6348088e-06 1.0668207e-07 2.7991771e-07 2.0837192e-04\n",
      "  2.4516638e-01 3.2469394e-10 1.1627249e-09 6.0968780e-10 1.3180147e-02\n",
      "  2.1355784e-07 3.9950951e-08 1.9257533e-09]]\n",
      "Answer: 15.0  Prediction: [[0.00069216 0.075871   0.02602919 0.10037452 0.00132971 0.00684523\n",
      "  0.01534966 0.00867451 0.00087519 0.02449253 0.01305017 0.00861906\n",
      "  0.01880114 0.01764959 0.07786847 0.5644122  0.03695043 0.00211523]]\n",
      "Answer: 17.0  Prediction: [[4.2598677e-10 1.6436236e-09 7.6939832e-09 8.4616512e-02 2.3054190e-14\n",
      "  1.0567419e-06 6.1122217e-04 1.9299775e-06 2.4982126e-04 1.8927844e-09\n",
      "  6.1739611e-06 6.2618476e-13 4.5505197e-11 1.8072412e-09 6.6876515e-07\n",
      "  1.0575032e-04 6.6630875e-08 9.1440678e-01]]\n",
      "Answer: 13.0  Prediction: [[2.5684501e-16 3.1679063e-20 6.8847470e-20 2.6943427e-16 1.1138522e-28\n",
      "  4.3065012e-23 4.7844908e-18 4.7258179e-15 6.8838490e-29 9.7892677e-20\n",
      "  2.4495346e-15 1.7643195e-08 1.5403735e-06 9.9360150e-01 2.2232675e-15\n",
      "  3.3572842e-09 6.3969735e-03 4.0873600e-22]]\n",
      "Answer: 14.0  Prediction: [[2.2078555e-15 1.3885375e-09 5.0288580e-12 2.1799682e-13 1.6800773e-15\n",
      "  3.9852115e-11 8.7585934e-15 1.1416352e-13 8.6709424e-12 2.6838754e-15\n",
      "  6.3246409e-03 4.5386424e-18 2.1652669e-08 3.5683786e-18 9.9367529e-01\n",
      "  2.4543534e-17 2.0734228e-16 4.6965205e-20]]\n",
      "Answer: 2.0  Prediction: [[3.5140424e-10 2.3481150e-06 9.9937183e-01 8.8458346e-10 5.9590844e-04\n",
      "  5.1931335e-07 5.6995547e-15 2.4858115e-05 5.6030618e-08 3.5739386e-06\n",
      "  4.6893418e-09 3.5641818e-07 5.4079745e-08 7.5263407e-11 5.4501743e-07\n",
      "  7.2751803e-13 6.7226796e-10 1.1076326e-12]]\n",
      "Answer: 15.0  Prediction: [[1.5834535e-10 8.8911432e-01 1.1086548e-01 1.1278545e-07 5.6290346e-06\n",
      "  1.0857177e-06 1.7054440e-09 2.6724757e-07 8.8799554e-09 7.9335149e-07\n",
      "  2.3267917e-06 1.6387432e-07 1.9195316e-09 3.7262544e-09 9.6011690e-06\n",
      "  5.7487945e-08 3.3484870e-08 8.0317749e-12]]\n",
      "Answer: 17.0  Prediction: [[2.09433049e-09 4.18344526e-11 2.51894949e-10 6.45453870e-01\n",
      "  1.08401945e-17 1.61009179e-08 8.83341592e-04 3.51520981e-07\n",
      "  3.76458433e-06 7.85496460e-11 3.44456232e-08 5.30838936e-15\n",
      "  7.36995100e-12 2.63786970e-09 1.21506616e-07 7.98028894e-03\n",
      "  1.39998576e-07 3.45678061e-01]]\n"
     ]
    }
   ],
   "source": [
    "# TEST: Load model and run it against test set\n",
    "model = models.load_model('./h5/recordingSpecAugment2_wen.h5')\n",
    "for i in range(0, 10):\n",
    "    print('Answer:', y_test[i], ' Prediction:', model.predict(np.expand_dims(x_test[i], 0)))"
   ]
  },
  {
   "cell_type": "code",
   "execution_count": 18,
   "metadata": {
    "colab": {
     "base_uri": "https://localhost:8080/"
    },
    "executionInfo": {
     "elapsed": 257,
     "status": "ok",
     "timestamp": 1623237375540,
     "user": {
      "displayName": "黃侯弼",
      "photoUrl": "",
      "userId": "02394864078410571973"
     },
     "user_tz": -480
    },
    "id": "F2N7VEDnDuDC",
    "outputId": "76a7172d-b0aa-46a9-c7fb-45f582e96cb6",
    "scrolled": true
   },
   "outputs": [
    {
     "name": "stdout",
     "output_type": "stream",
     "text": [
      "93/93 [==============================] - 1s 4ms/step - loss: 0.5707 - acc: 0.8484\n"
     ]
    },
    {
     "data": {
      "text/plain": [
       "[0.5707055926322937, 0.848443865776062]"
      ]
     },
     "execution_count": 18,
     "metadata": {},
     "output_type": "execute_result"
    }
   ],
   "source": [
    "# Evaluate model with test set\n",
    "model.evaluate(x=x_test, y=y_test)"
   ]
  },
  {
   "cell_type": "code",
   "execution_count": 19,
   "metadata": {},
   "outputs": [
    {
     "name": "stdout",
     "output_type": "stream",
     "text": [
      "278/278 [==============================] - 1s 4ms/step - loss: 0.0671 - acc: 0.9865\n"
     ]
    },
    {
     "data": {
      "text/plain": [
       "[0.06707866489887238, 0.9864681959152222]"
      ]
     },
     "execution_count": 19,
     "metadata": {},
     "output_type": "execute_result"
    }
   ],
   "source": [
    "model.evaluate(x=x_train, y=y_train)"
   ]
  },
  {
   "cell_type": "code",
   "execution_count": 20,
   "metadata": {},
   "outputs": [
    {
     "name": "stdout",
     "output_type": "stream",
     "text": [
      "93/93 [==============================] - 0s 5ms/step - loss: 0.5641 - acc: 0.8610\n"
     ]
    },
    {
     "data": {
      "text/plain": [
       "[0.5641364455223083, 0.8609607815742493]"
      ]
     },
     "execution_count": 20,
     "metadata": {},
     "output_type": "execute_result"
    }
   ],
   "source": [
    "model.evaluate(x=x_val, y=y_val)"
   ]
  },
  {
   "cell_type": "markdown",
   "metadata": {},
   "source": []
  }
 ],
 "metadata": {
  "accelerator": "GPU",
  "colab": {
   "collapsed_sections": [],
   "name": "Classifier.ipynb",
   "provenance": []
  },
  "kernelspec": {
   "display_name": "Python 3",
   "language": "python",
   "name": "python3"
  },
  "language_info": {
   "codemirror_mode": {
    "name": "ipython",
    "version": 3
   },
   "file_extension": ".py",
   "mimetype": "text/x-python",
   "name": "python",
   "nbconvert_exporter": "python",
   "pygments_lexer": "ipython3",
   "version": "3.8.5"
  }
 },
 "nbformat": 4,
 "nbformat_minor": 1
}
