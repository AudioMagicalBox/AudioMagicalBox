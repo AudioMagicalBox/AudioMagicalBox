{
 "cells": [
  {
   "cell_type": "code",
   "execution_count": 1,
   "metadata": {},
   "outputs": [],
   "source": [
    "from os import listdir\n",
    "from os.path import isdir, join\n",
    "from tensorflow.keras import layers, models\n",
    "import numpy as np"
   ]
  },
  {
   "cell_type": "code",
   "execution_count": 2,
   "metadata": {},
   "outputs": [
    {
     "name": "stdout",
     "output_type": "stream",
     "text": [
      "['right', 'eight', 'cat', 'tree', 'backward', 'learn', 'bed', 'happy', 'go', 'dog', 'no', 'wow', 'follow', 'nine', 'left', 'stop', 'three', 'sheila', 'one', 'bird', 'zero', 'seven', 'up', 'visual', 'marvin', 'two', 'house', 'down', 'six', 'yes', 'on', 'five', 'forward', 'off', 'four']\n"
     ]
    }
   ],
   "source": [
    "# Create list of all targets (minus background noise)\n",
    "dataset_path = '/Users/Willie/data-speech_commands_v0.02'\n",
    "all_targets = all_targets = [name for name in listdir(dataset_path) if isdir(join(dataset_path, name))]\n",
    "all_targets.remove('_background_noise_')\n",
    "print(all_targets)"
   ]
  },
  {
   "cell_type": "code",
   "execution_count": 3,
   "metadata": {},
   "outputs": [],
   "source": [
    "# Settings\n",
    "feature_sets_path = ''\n",
    "feature_sets_filename = 'Part1_Demo.npz'\n",
    "model_filename = 'Demo.h5'\n",
    "wake_word = 'stop'"
   ]
  },
  {
   "cell_type": "code",
   "execution_count": 4,
   "metadata": {},
   "outputs": [
    {
     "name": "stdout",
     "output_type": "stream",
     "text": [
      "['x_train', 'y_train', 'x_val', 'y_val', 'x_test', 'y_test']\n"
     ]
    }
   ],
   "source": [
    "# Load feature sets\n",
    "feature_sets = np.load(join(feature_sets_path, feature_sets_filename))\n",
    "print(feature_sets.files)"
   ]
  },
  {
   "cell_type": "code",
   "execution_count": 5,
   "metadata": {},
   "outputs": [],
   "source": [
    "# Assign feature sets\n",
    "x_train = feature_sets['x_train']\n",
    "y_train = feature_sets['y_train']\n",
    "x_val = feature_sets['x_val']\n",
    "y_val = feature_sets['y_val']\n",
    "x_test = feature_sets['x_test']\n",
    "y_test = feature_sets['y_test']"
   ]
  },
  {
   "cell_type": "code",
   "execution_count": 6,
   "metadata": {},
   "outputs": [
    {
     "name": "stdout",
     "output_type": "stream",
     "text": [
      "(77438, 16, 16)\n",
      "(9690, 16, 16)\n",
      "(9728, 16, 16)\n"
     ]
    }
   ],
   "source": [
    "# Look at tensor dimensions\n",
    "print(x_train.shape)\n",
    "print(x_val.shape)\n",
    "print(x_test.shape)"
   ]
  },
  {
   "cell_type": "code",
   "execution_count": 7,
   "metadata": {},
   "outputs": [
    {
     "name": "stdout",
     "output_type": "stream",
     "text": [
      "[11. 28.  1. ... 13. 27.  1.]\n"
     ]
    }
   ],
   "source": [
    "# Peek at labels\n",
    "print(y_val)"
   ]
  },
  {
   "cell_type": "code",
   "execution_count": 8,
   "metadata": {},
   "outputs": [],
   "source": [
    "# Convert ground truth arrays to one wake word (1) and 'other' (0)\n",
    "wake_word_index = all_targets.index(wake_word)\n",
    "y_train = np.equal(y_train, wake_word_index).astype('float64')\n",
    "y_val = np.equal(y_val, wake_word_index).astype('float64')\n",
    "y_test = np.equal(y_test, wake_word_index).astype('float64')"
   ]
  },
  {
   "cell_type": "code",
   "execution_count": 9,
   "metadata": {},
   "outputs": [
    {
     "name": "stdout",
     "output_type": "stream",
     "text": [
      "[0. 0. 0. ... 0. 0. 0.]\n"
     ]
    }
   ],
   "source": [
    "# Peek at labels after conversion\n",
    "print(y_val)"
   ]
  },
  {
   "cell_type": "code",
   "execution_count": 10,
   "metadata": {},
   "outputs": [
    {
     "name": "stdout",
     "output_type": "stream",
     "text": [
      "0.0369453044375645\n",
      "0.9630546955624355\n"
     ]
    }
   ],
   "source": [
    "# What percentage of 'stop' appear in validation labels\n",
    "print(sum(y_val) / len(y_val))\n",
    "print(1 - sum(y_val) / len(y_val))"
   ]
  },
  {
   "cell_type": "code",
   "execution_count": 11,
   "metadata": {},
   "outputs": [
    {
     "name": "stdout",
     "output_type": "stream",
     "text": [
      "(77438, 16, 16)\n"
     ]
    }
   ],
   "source": [
    "# View the dimensions of our input data\n",
    "print(x_train.shape)"
   ]
  },
  {
   "cell_type": "code",
   "execution_count": 12,
   "metadata": {},
   "outputs": [
    {
     "name": "stdout",
     "output_type": "stream",
     "text": [
      "(77438, 16, 16, 1)\n",
      "(9690, 16, 16, 1)\n",
      "(9728, 16, 16, 1)\n"
     ]
    }
   ],
   "source": [
    "# CNN for TF expects (batch, height, width, channels)\n",
    "# So we reshape the input tensors with a \"color\" channel of 1\n",
    "x_train = x_train.reshape(x_train.shape[0], \n",
    "                          x_train.shape[1], \n",
    "                          x_train.shape[2], \n",
    "                          1)\n",
    "x_val = x_val.reshape(x_val.shape[0], \n",
    "                      x_val.shape[1], \n",
    "                      x_val.shape[2], \n",
    "                      1)\n",
    "x_test = x_test.reshape(x_test.shape[0], \n",
    "                        x_test.shape[1], \n",
    "                        x_test.shape[2], \n",
    "                        1)\n",
    "print(x_train.shape)\n",
    "print(x_val.shape)\n",
    "print(x_test.shape)"
   ]
  },
  {
   "cell_type": "code",
   "execution_count": 13,
   "metadata": {},
   "outputs": [
    {
     "name": "stdout",
     "output_type": "stream",
     "text": [
      "(16, 16, 1)\n"
     ]
    }
   ],
   "source": [
    "# Input shape for CNN is size of MFCC of 1 sample\n",
    "sample_shape = x_test.shape[1:]\n",
    "print(sample_shape)"
   ]
  },
  {
   "cell_type": "code",
   "execution_count": 14,
   "metadata": {},
   "outputs": [],
   "source": [
    "# Build model\n",
    "# Based on: https://www.geeksforgeeks.org/python-image-classification-using-keras/\n",
    "model = models.Sequential()\n",
    "model.add(layers.Conv2D(32, \n",
    "                        (2, 2), \n",
    "                        activation='relu',\n",
    "                        input_shape=sample_shape))\n",
    "model.add(layers.MaxPooling2D(pool_size=(2, 2)))\n",
    "\n",
    "model.add(layers.Conv2D(32, (2, 2), activation='relu'))\n",
    "model.add(layers.MaxPooling2D(pool_size=(2, 2)))\n",
    "\n",
    "model.add(layers.Conv2D(64, (2, 2), activation='relu'))\n",
    "model.add(layers.MaxPooling2D(pool_size=(2, 2)))\n",
    "\n",
    "# Classifier\n",
    "model.add(layers.Flatten())\n",
    "model.add(layers.Dense(64, activation='relu'))\n",
    "model.add(layers.Dropout(0.5))\n",
    "model.add(layers.Dense(1, activation='sigmoid'))"
   ]
  },
  {
   "cell_type": "code",
   "execution_count": 15,
   "metadata": {},
   "outputs": [
    {
     "name": "stdout",
     "output_type": "stream",
     "text": [
      "Model: \"sequential\"\n",
      "_________________________________________________________________\n",
      "Layer (type)                 Output Shape              Param #   \n",
      "=================================================================\n",
      "conv2d (Conv2D)              (None, 15, 15, 32)        160       \n",
      "_________________________________________________________________\n",
      "max_pooling2d (MaxPooling2D) (None, 7, 7, 32)          0         \n",
      "_________________________________________________________________\n",
      "conv2d_1 (Conv2D)            (None, 6, 6, 32)          4128      \n",
      "_________________________________________________________________\n",
      "max_pooling2d_1 (MaxPooling2 (None, 3, 3, 32)          0         \n",
      "_________________________________________________________________\n",
      "conv2d_2 (Conv2D)            (None, 2, 2, 64)          8256      \n",
      "_________________________________________________________________\n",
      "max_pooling2d_2 (MaxPooling2 (None, 1, 1, 64)          0         \n",
      "_________________________________________________________________\n",
      "flatten (Flatten)            (None, 64)                0         \n",
      "_________________________________________________________________\n",
      "dense (Dense)                (None, 64)                4160      \n",
      "_________________________________________________________________\n",
      "dropout (Dropout)            (None, 64)                0         \n",
      "_________________________________________________________________\n",
      "dense_1 (Dense)              (None, 1)                 65        \n",
      "=================================================================\n",
      "Total params: 16,769\n",
      "Trainable params: 16,769\n",
      "Non-trainable params: 0\n",
      "_________________________________________________________________\n"
     ]
    }
   ],
   "source": [
    "# Display model\n",
    "model.summary()"
   ]
  },
  {
   "cell_type": "code",
   "execution_count": 16,
   "metadata": {},
   "outputs": [],
   "source": [
    "# Add training parameters to model\n",
    "model.compile(loss='binary_crossentropy', \n",
    "              optimizer='rmsprop', \n",
    "              metrics=['acc'])"
   ]
  },
  {
   "cell_type": "code",
   "execution_count": 17,
   "metadata": {
    "scrolled": true
   },
   "outputs": [
    {
     "name": "stdout",
     "output_type": "stream",
     "text": [
      "Epoch 1/30\n",
      "775/775 [==============================] - 17s 21ms/step - loss: 0.1158 - acc: 0.9664 - val_loss: 0.1413 - val_acc: 0.9504\n",
      "Epoch 2/30\n",
      "775/775 [==============================] - 15s 19ms/step - loss: 0.0762 - acc: 0.9760 - val_loss: 0.0569 - val_acc: 0.9832\n",
      "Epoch 3/30\n",
      "775/775 [==============================] - 14s 19ms/step - loss: 0.0654 - acc: 0.9792 - val_loss: 0.0574 - val_acc: 0.9819\n",
      "Epoch 4/30\n",
      "775/775 [==============================] - 26s 34ms/step - loss: 0.0607 - acc: 0.9818 - val_loss: 0.0678 - val_acc: 0.9801\n",
      "Epoch 5/30\n",
      "775/775 [==============================] - 33s 42ms/step - loss: 0.0589 - acc: 0.9826 - val_loss: 0.0700 - val_acc: 0.9822\n",
      "Epoch 6/30\n",
      "775/775 [==============================] - 22s 28ms/step - loss: 0.0582 - acc: 0.9832 - val_loss: 0.0822 - val_acc: 0.9750\n",
      "Epoch 7/30\n",
      "775/775 [==============================] - 30s 39ms/step - loss: 0.0585 - acc: 0.9828 - val_loss: 0.0674 - val_acc: 0.9764\n",
      "Epoch 8/30\n",
      "775/775 [==============================] - 21s 27ms/step - loss: 0.0573 - acc: 0.9831 - val_loss: 0.0575 - val_acc: 0.9850\n",
      "Epoch 9/30\n",
      "775/775 [==============================] - 27s 35ms/step - loss: 0.0598 - acc: 0.9834 - val_loss: 0.0584 - val_acc: 0.9838\n",
      "Epoch 10/30\n",
      "775/775 [==============================] - 24s 30ms/step - loss: 0.0611 - acc: 0.9832 - val_loss: 0.0633 - val_acc: 0.9865\n",
      "Epoch 11/30\n",
      "775/775 [==============================] - 29s 38ms/step - loss: 0.0600 - acc: 0.9836 - val_loss: 0.0514 - val_acc: 0.9872\n",
      "Epoch 12/30\n",
      "775/775 [==============================] - 22s 28ms/step - loss: 0.0591 - acc: 0.9835 - val_loss: 0.0485 - val_acc: 0.9870\n",
      "Epoch 13/30\n",
      "775/775 [==============================] - 17s 22ms/step - loss: 0.0576 - acc: 0.9833 - val_loss: 0.0549 - val_acc: 0.9843\n",
      "Epoch 14/30\n",
      "775/775 [==============================] - 17s 22ms/step - loss: 0.0597 - acc: 0.9835 - val_loss: 0.0531 - val_acc: 0.9874\n",
      "Epoch 15/30\n",
      "775/775 [==============================] - 17s 22ms/step - loss: 0.0585 - acc: 0.9837 - val_loss: 0.1341 - val_acc: 0.9783\n",
      "Epoch 16/30\n",
      "775/775 [==============================] - 16s 21ms/step - loss: 0.0585 - acc: 0.9842 - val_loss: 0.0540 - val_acc: 0.9842\n",
      "Epoch 17/30\n",
      "775/775 [==============================] - 21s 26ms/step - loss: 0.0584 - acc: 0.9841 - val_loss: 0.0503 - val_acc: 0.9873\n",
      "Epoch 18/30\n",
      "775/775 [==============================] - 19s 25ms/step - loss: 0.0601 - acc: 0.9838 - val_loss: 0.0496 - val_acc: 0.9832\n",
      "Epoch 19/30\n",
      "775/775 [==============================] - 20s 26ms/step - loss: 0.0601 - acc: 0.9836 - val_loss: 0.0650 - val_acc: 0.9860\n",
      "Epoch 20/30\n",
      "775/775 [==============================] - 22s 29ms/step - loss: 0.0621 - acc: 0.9838 - val_loss: 0.0605 - val_acc: 0.9862\n",
      "Epoch 21/30\n",
      "775/775 [==============================] - 18s 23ms/step - loss: 0.0609 - acc: 0.9844 - val_loss: 0.0530 - val_acc: 0.9842\n",
      "Epoch 22/30\n",
      "775/775 [==============================] - 20s 26ms/step - loss: 0.0587 - acc: 0.9843 - val_loss: 0.0531 - val_acc: 0.9834\n",
      "Epoch 23/30\n",
      "775/775 [==============================] - 26s 34ms/step - loss: 0.0588 - acc: 0.9844 - val_loss: 0.0588 - val_acc: 0.9833\n",
      "Epoch 24/30\n",
      "775/775 [==============================] - 27s 35ms/step - loss: 0.0597 - acc: 0.9835 - val_loss: 0.0548 - val_acc: 0.9842\n",
      "Epoch 25/30\n",
      "775/775 [==============================] - 17s 22ms/step - loss: 0.0587 - acc: 0.9837 - val_loss: 0.0672 - val_acc: 0.9807\n",
      "Epoch 26/30\n",
      "775/775 [==============================] - 17s 22ms/step - loss: 0.0685 - acc: 0.9832 - val_loss: 0.0835 - val_acc: 0.9737\n",
      "Epoch 27/30\n",
      "775/775 [==============================] - 17s 22ms/step - loss: 0.0647 - acc: 0.9837 - val_loss: 0.0532 - val_acc: 0.9866\n",
      "Epoch 28/30\n",
      "775/775 [==============================] - 17s 22ms/step - loss: 0.0637 - acc: 0.9837 - val_loss: 0.0531 - val_acc: 0.9836\n",
      "Epoch 29/30\n",
      "775/775 [==============================] - 18s 23ms/step - loss: 0.0612 - acc: 0.9840 - val_loss: 0.0676 - val_acc: 0.9815\n",
      "Epoch 30/30\n",
      "775/775 [==============================] - 18s 23ms/step - loss: 0.0652 - acc: 0.9829 - val_loss: 0.0603 - val_acc: 0.9837\n"
     ]
    }
   ],
   "source": [
    "# Train\n",
    "history = model.fit(x_train, \n",
    "                    y_train, \n",
    "                    epochs=30, \n",
    "                    batch_size=100, \n",
    "                    validation_data=(x_val, y_val))"
   ]
  },
  {
   "cell_type": "code",
   "execution_count": 18,
   "metadata": {},
   "outputs": [
    {
     "data": {
      "image/png": "[encoded data removed]",
      "text/plain": [
       "<Figure size 432x288 with 1 Axes>"
      ]
     },
     "metadata": {
      "needs_background": "light"
     },
     "output_type": "display_data"
    },
    {
     "data": {
      "image/png": "[encoded data removed]",
      "text/plain": [
       "<Figure size 432x288 with 1 Axes>"
      ]
     },
     "metadata": {
      "needs_background": "light"
     },
     "output_type": "display_data"
    }
   ],
   "source": [
    "# Plot results\n",
    "import matplotlib.pyplot as plt\n",
    "\n",
    "acc = history.history['acc']\n",
    "val_acc = history.history['val_acc']\n",
    "loss = history.history['loss']\n",
    "val_loss = history.history['val_loss']\n",
    "\n",
    "epochs = range(1, len(acc) + 1)\n",
    "\n",
    "plt.plot(epochs, acc, 'bo', label='Training acc')\n",
    "plt.plot(epochs, val_acc, 'b', label='Validation acc')\n",
    "plt.title('Training and validation accuracy')\n",
    "plt.legend()\n",
    "\n",
    "plt.figure()\n",
    "\n",
    "plt.plot(epochs, loss, 'bo', label='Training loss')\n",
    "plt.plot(epochs, val_loss, 'b', label='Validation loss')\n",
    "plt.title('Training and validation loss')\n",
    "plt.legend()\n",
    "\n",
    "plt.show()"
   ]
  },
  {
   "cell_type": "code",
   "execution_count": 19,
   "metadata": {},
   "outputs": [],
   "source": [
    "# Save the model as a file\n",
    "models.save_model(model, model_filename)"
   ]
  },
  {
   "cell_type": "code",
   "execution_count": 20,
   "metadata": {},
   "outputs": [
    {
     "name": "stdout",
     "output_type": "stream",
     "text": [
      "18\n",
      "23\n",
      "27\n",
      "32\n",
      "70\n",
      "86\n",
      "101\n",
      "159\n",
      "168\n",
      "187\n",
      "195\n",
      "227\n",
      "236\n",
      "264\n",
      "328\n",
      "358\n",
      "372\n",
      "405\n",
      "419\n",
      "428\n",
      "437\n",
      "450\n",
      "461\n",
      "570\n",
      "604\n",
      "663\n",
      "688\n",
      "698\n",
      "781\n",
      "791\n",
      "842\n",
      "893\n",
      "915\n",
      "923\n",
      "930\n",
      "938\n",
      "950\n",
      "955\n",
      "965\n",
      "982\n",
      "1012\n",
      "1076\n",
      "1113\n",
      "1120\n",
      "1155\n",
      "1168\n",
      "1194\n",
      "1210\n",
      "1218\n",
      "1237\n",
      "1273\n",
      "1283\n",
      "1287\n",
      "1293\n",
      "1312\n",
      "1314\n",
      "1320\n",
      "1329\n",
      "1389\n",
      "1391\n",
      "1447\n",
      "1455\n",
      "1523\n",
      "1525\n",
      "1594\n",
      "1598\n",
      "1634\n",
      "1641\n",
      "1678\n",
      "1696\n",
      "1706\n",
      "1714\n",
      "1742\n",
      "1780\n",
      "1788\n",
      "1791\n",
      "1803\n",
      "1833\n",
      "1877\n",
      "1884\n",
      "1927\n",
      "1934\n",
      "1948\n",
      "2077\n",
      "2081\n",
      "2106\n",
      "2108\n",
      "2179\n",
      "2189\n",
      "2223\n",
      "2256\n",
      "2266\n",
      "2303\n",
      "2366\n",
      "2401\n",
      "2409\n",
      "2478\n",
      "2481\n",
      "2482\n",
      "2496\n",
      "2497\n",
      "2518\n",
      "2552\n",
      "2562\n",
      "2587\n",
      "2656\n",
      "2705\n",
      "2717\n",
      "2719\n",
      "2779\n",
      "2784\n",
      "2839\n",
      "2876\n",
      "2878\n",
      "2899\n",
      "2925\n",
      "2938\n",
      "2968\n",
      "2979\n",
      "2997\n",
      "3016\n",
      "3030\n",
      "3042\n",
      "3054\n",
      "3057\n",
      "3072\n",
      "3105\n",
      "3117\n",
      "3129\n",
      "3148\n",
      "3157\n",
      "3163\n",
      "3185\n",
      "3206\n",
      "3244\n",
      "3296\n",
      "3301\n",
      "3410\n",
      "3418\n",
      "3423\n",
      "3460\n",
      "3515\n",
      "3553\n",
      "3567\n",
      "3589\n",
      "3603\n",
      "3605\n",
      "3635\n",
      "3644\n",
      "3665\n",
      "3667\n",
      "3677\n",
      "3684\n",
      "3691\n",
      "3745\n",
      "3753\n",
      "3770\n",
      "3845\n",
      "3903\n",
      "3926\n",
      "3929\n",
      "3943\n",
      "3964\n",
      "3991\n",
      "4026\n",
      "4030\n",
      "4043\n",
      "4091\n",
      "4122\n",
      "4147\n",
      "4172\n",
      "4207\n",
      "4249\n",
      "4267\n",
      "4287\n",
      "4303\n",
      "4315\n",
      "4346\n",
      "4373\n",
      "4481\n",
      "4482\n",
      "4502\n",
      "4503\n",
      "4582\n",
      "4675\n",
      "4684\n",
      "4755\n",
      "4787\n",
      "4792\n",
      "4843\n",
      "4920\n",
      "4951\n",
      "4965\n",
      "5007\n",
      "5095\n",
      "5105\n",
      "5111\n",
      "5150\n",
      "5153\n",
      "5200\n",
      "5209\n",
      "5283\n",
      "5299\n",
      "5384\n",
      "5388\n",
      "5401\n",
      "5407\n",
      "5412\n",
      "5466\n",
      "5494\n",
      "5497\n",
      "5502\n",
      "5507\n",
      "5530\n",
      "5608\n",
      "5624\n",
      "5626\n",
      "5659\n",
      "5663\n",
      "5693\n",
      "5746\n",
      "5799\n",
      "5809\n",
      "5838\n",
      "5851\n",
      "5857\n",
      "5907\n",
      "5920\n",
      "5935\n",
      "5974\n",
      "6026\n",
      "6029\n",
      "6057\n",
      "6114\n",
      "6125\n",
      "6132\n",
      "6140\n",
      "6144\n",
      "6218\n",
      "6225\n",
      "6228\n",
      "6236\n",
      "6299\n",
      "6313\n",
      "6486\n",
      "6522\n",
      "6525\n",
      "6528\n",
      "6533\n",
      "6544\n",
      "6567\n",
      "6643\n",
      "6648\n",
      "6649\n",
      "6725\n",
      "6746\n",
      "6774\n",
      "6812\n",
      "6820\n",
      "6835\n",
      "6839\n",
      "6849\n",
      "6918\n",
      "6939\n",
      "6943\n",
      "6963\n",
      "6972\n",
      "6985\n",
      "6986\n",
      "7023\n",
      "7027\n",
      "7068\n",
      "7074\n",
      "7082\n",
      "7097\n",
      "7114\n",
      "7132\n",
      "7143\n",
      "7243\n",
      "7287\n",
      "7336\n",
      "7386\n",
      "7395\n",
      "7406\n",
      "7460\n",
      "7498\n",
      "7502\n",
      "7514\n",
      "7531\n",
      "7538\n",
      "7561\n",
      "7591\n",
      "7615\n",
      "7671\n",
      "7746\n",
      "7786\n",
      "7804\n",
      "7816\n",
      "7824\n",
      "7854\n",
      "7909\n",
      "7947\n",
      "7962\n",
      "7991\n",
      "7998\n",
      "8017\n",
      "8086\n",
      "8118\n",
      "8140\n",
      "8198\n",
      "8203\n",
      "8284\n",
      "8304\n",
      "8305\n",
      "8346\n",
      "8371\n",
      "8385\n",
      "8391\n",
      "8458\n",
      "8471\n",
      "8488\n",
      "8490\n",
      "8561\n",
      "8577\n",
      "8590\n",
      "8629\n",
      "8638\n",
      "8642\n",
      "8675\n",
      "8692\n",
      "8724\n",
      "8738\n",
      "8782\n",
      "8792\n",
      "8876\n",
      "8906\n",
      "8918\n",
      "8925\n",
      "8931\n",
      "8972\n",
      "8994\n",
      "9054\n",
      "9090\n",
      "9102\n",
      "9129\n",
      "9143\n",
      "9149\n",
      "9155\n",
      "9167\n",
      "9214\n",
      "9220\n",
      "9231\n",
      "9234\n",
      "9267\n",
      "9272\n",
      "9277\n",
      "9287\n",
      "9288\n",
      "9320\n",
      "9355\n",
      "9390\n",
      "9400\n",
      "9420\n",
      "9479\n",
      "9481\n",
      "9686\n"
     ]
    }
   ],
   "source": [
    "# See which are 'stop'\n",
    "for idx, y in enumerate(y_test):\n",
    "    if y == 1:\n",
    "        print(idx)"
   ]
  },
  {
   "cell_type": "code",
   "execution_count": 21,
   "metadata": {},
   "outputs": [
    {
     "name": "stdout",
     "output_type": "stream",
     "text": [
      "Answer: 0.0  Prediction: [[0.01119864]]\n",
      "Answer: 1.0  Prediction: [[0.37910914]]\n",
      "Answer: 0.0  Prediction: [[1.234992e-09]]\n",
      "Answer: 0.0  Prediction: [[4.215751e-07]]\n",
      "Answer: 0.0  Prediction: [[0.00804475]]\n",
      "Answer: 0.0  Prediction: [[6.384225e-08]]\n",
      "Answer: 0.0  Prediction: [[0.00036463]]\n",
      "Answer: 0.0  Prediction: [[2.785118e-11]]\n",
      "Answer: 0.0  Prediction: [[0.00039855]]\n",
      "Answer: 0.0  Prediction: [[1.992629e-06]]\n"
     ]
    }
   ],
   "source": [
    "# TEST: Load model and run it against test set\n",
    "model = models.load_model(model_filename)\n",
    "for i in range(100, 110):\n",
    "    print('Answer:', y_test[i], ' Prediction:', model.predict(np.expand_dims(x_test[i], 0)))"
   ]
  },
  {
   "cell_type": "code",
   "execution_count": 22,
   "metadata": {},
   "outputs": [
    {
     "name": "stdout",
     "output_type": "stream",
     "text": [
      "304/304 [==============================] - 1s 3ms/step - loss: 0.0736 - acc: 0.9833\n"
     ]
    },
    {
     "data": {
      "text/plain": [
       "[0.07364676147699356, 0.9833470582962036]"
      ]
     },
     "execution_count": 22,
     "metadata": {},
     "output_type": "execute_result"
    }
   ],
   "source": [
    "# Evaluate model with test set\n",
    "model.evaluate(x=x_test, y=y_test)"
   ]
  }
 ],
 "metadata": {
  "kernelspec": {
   "display_name": "Python 3",
   "language": "python",
   "name": "python3"
  },
  "language_info": {
   "codemirror_mode": {
    "name": "ipython",
    "version": 3
   },
   "file_extension": ".py",
   "mimetype": "text/x-python",
   "name": "python",
   "nbconvert_exporter": "python",
   "pygments_lexer": "ipython3",
   "version": "3.8.5"
  }
 },
 "nbformat": 4,
 "nbformat_minor": 2
}
