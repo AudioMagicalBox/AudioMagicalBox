{
 "cells": [
  {
   "cell_type": "code",
   "execution_count": 1,
   "metadata": {
    "executionInfo": {
     "elapsed": 428,
     "status": "ok",
     "timestamp": 1623236061470,
     "user": {
      "displayName": "黃侯弼",
      "photoUrl": "",
      "userId": "02394864078410571973"
     },
     "user_tz": -480
    },
    "id": "iVhpbtg0DuC5"
   },
   "outputs": [],
   "source": [
    "from os import listdir\n",
    "from os.path import isdir, join\n",
    "from tensorflow.keras import layers, models\n",
    "import numpy as np"
   ]
  },
  {
   "cell_type": "code",
   "execution_count": 2,
   "metadata": {
    "colab": {
     "base_uri": "https://localhost:8080/"
    },
    "executionInfo": {
     "elapsed": 5,
     "status": "ok",
     "timestamp": 1623236062585,
     "user": {
      "displayName": "黃侯弼",
      "photoUrl": "",
      "userId": "02394864078410571973"
     },
     "user_tz": -480
    },
    "id": "MZI1urklDuC6",
    "outputId": "9344224f-90ed-4d09-80e4-efd8c4bb7cac"
   },
   "outputs": [
    {
     "name": "stdout",
     "output_type": "stream",
     "text": [
      "['的一個', '啦', '的那個', '好', '那那個', 'backgroundNoise', '你', 'ㄟ', '著', '吼', '嗯', '的', '阿', 'ㄏㄧㄡ', '我', '他', '那', '的這個']\n"
     ]
    }
   ],
   "source": [
    "# Create list of all targets (minus background noise)\n",
    "dataset_path = '/Users/Willie/16k_500ms'\n",
    "all_targets = all_targets = [name for name in listdir(dataset_path) if isdir(join(dataset_path, name))]\n",
    "print(all_targets)"
   ]
  },
  {
   "cell_type": "code",
   "execution_count": 3,
   "metadata": {
    "executionInfo": {
     "elapsed": 301,
     "status": "ok",
     "timestamp": 1623236063859,
     "user": {
      "displayName": "黃侯弼",
      "photoUrl": "",
      "userId": "02394864078410571973"
     },
     "user_tz": -480
    },
    "id": "WgAcVkOeDuC6"
   },
   "outputs": [],
   "source": [
    "# Settings\n",
    "feature_sets_path = './'\n",
    "feature_sets_filename = '/Users/Willie/16k_500ms.npz'\n",
    "#model_filename = 'wake_word_stop_model.h5'\n",
    "#wake_word = '嗯'"
   ]
  },
  {
   "cell_type": "code",
   "execution_count": 4,
   "metadata": {
    "colab": {
     "base_uri": "https://localhost:8080/"
    },
    "executionInfo": {
     "elapsed": 458,
     "status": "ok",
     "timestamp": 1623236065288,
     "user": {
      "displayName": "黃侯弼",
      "photoUrl": "",
      "userId": "02394864078410571973"
     },
     "user_tz": -480
    },
    "id": "rJUTXuiVDuC7",
    "outputId": "4a7c5275-1bcb-4f85-dd65-18bb4e2630c9"
   },
   "outputs": [
    {
     "name": "stdout",
     "output_type": "stream",
     "text": [
      "['x_train', 'y_train', 'x_val', 'y_val', 'x_test', 'y_test']\n"
     ]
    }
   ],
   "source": [
    "# Load feature sets\n",
    "feature_sets = np.load(join(feature_sets_path, feature_sets_filename))\n",
    "print(feature_sets.files)"
   ]
  },
  {
   "cell_type": "code",
   "execution_count": 5,
   "metadata": {
    "colab": {
     "base_uri": "https://localhost:8080/"
    },
    "executionInfo": {
     "elapsed": 3,
     "status": "ok",
     "timestamp": 1623236066162,
     "user": {
      "displayName": "黃侯弼",
      "photoUrl": "",
      "userId": "02394864078410571973"
     },
     "user_tz": -480
    },
    "id": "0MTc8hMZDuC7",
    "outputId": "287b9ce7-b503-472c-dc22-1cf446a74c77"
   },
   "outputs": [
    {
     "name": "stdout",
     "output_type": "stream",
     "text": [
      "[ 9.  4.  5.  5. 10. 12.  5.  5. 14.  5.  5.  6.  3. 13.  6.  5.  3. 12.\n",
      " 12. 16. 15.  5.  3.  6.  1.  7.  0.  5.  7.  5. 11.  5.  5.  5.  0. 15.\n",
      "  7.  5. 10. 17. 10.  6. 12.  5.  5.  3.  5.  4. 17. 17.  5.  5. 14.  5.\n",
      "  5.  5.  5.  5.  5.  5.  5.  5. 16.  4.  5.  2. 13.  3.  5.  5. 17.  5.\n",
      " 10. 11.  9.  5. 12.  1.  0.  5. 16. 11.  5. 13.  5.  5.  5.  5.  5. 15.\n",
      " 12.  5.  5. 13.  5. 16.  6.  8.  5.  7.  5. 17.  5. 15.  5. 15.  6.  4.\n",
      "  7.  7.  5.  3. 16. 17.  0.  3.  7.]\n",
      "[ 5.  9.  5. 10.  5.  5.  5.  4.  3.  6.  1.  2. 16.  4.  7. 16.  5. 15.\n",
      "  5.  2. 17.  7.  7.  5.  5.  1. 17.  5.  5.  5. 11.  4. 14.  1.  3. 10.\n",
      " 12.  2.  0. 15.  5.  9.  1. 13.  5.  5.  5.  5.  5.  6.  5.  2. 13. 13.\n",
      "  8.  5.  7.  9.  1.  5.  5.  5.  4.  7.  5.  2. 14.  5.  5.  5. 11. 16.\n",
      "  5.  5. 15. 15.  8.  5. 12. 10.  6. 17.  5.  5.  9.  5.  5.  2.  2.  5.\n",
      " 13.  5. 12.  5. 15.  9.  9.  5.  8.  2. 10. 12. 17.  1.  9. 16.  5.  5.\n",
      "  5. 17. 17.  0. 16.  5.  5.  5.  9.  7. 11.  5.  0.  5.  5.  7.  5.  9.\n",
      "  1.  5.  5.  5.  5.  1.  5. 13.  5. 13. 17.  5. 14. 16. 12.  5.  2. 13.\n",
      "  5.  7.  5.  1. 15. 17.  5.  5.  5. 11. 14. 10. 13. 15.  0.  7.  0.  5.\n",
      "  1. 10.  7.  5.  5.  5.  4. 15. 15. 14. 16.  5.  2.  6. 12.  9.  5. 14.\n",
      "  5.  5.  8.  5.  7. 16.  5.  5. 10.  5.  7. 10. 12.  5.  5.  5.  6. 17.\n",
      "  5. 14.  5.  5. 14. 17. 11.  2.  8.  5.  2. 16. 13.  4.  2. 15.  8.  5.\n",
      "  1.  2.  5.  7. 13.  6.  6.  5. 15.  0.  8.  5.  5.  5.  7. 10.  6.  5.\n",
      "  9.  5.  0. 12. 17.  5.  3.  8.  5.  5.  2. 12.  3.  5. 13. 16. 14. 17.\n",
      " 10. 14.  1.  6.  2. 15. 12.  5.  6. 14.  4.  5.  5. 12.  1.  5.  6. 12.\n",
      " 11.  3. 14.  8. 12.  5. 14.  5. 14.  8.  4.  5.  5.  5.  5.  2. 15.  5.\n",
      "  5.  6.  5.  1. 15.  5.  9.  5.  5.  5.  3. 11.  3.  6.  5.  5.  1.  2.\n",
      " 12.  3.  5. 13. 15.  4. 10.  0. 11.  5. 13.  5.  5.  5.  1. 13.  5.  5.\n",
      " 14.  5.  3. 12.  5.  5.  5.  5.  4.  5.  5. 11. 11. 15.  5. 13.  6. 16.\n",
      "  0. 14. 11.  5. 10.  5.  5.  5.  5.  8.  1.  7.  5.  7.  5.  5.  5.  5.\n",
      " 15. 11.  9.  7.  3.  4.  0.  5.  9. 14.  2. 11.  6. 10. 16. 10. 11. 11.\n",
      "  5.  3.  5.  1.  8.  8.  5.  5.  5.  5. 12.  5.  5.  1.  1.  2.  6.  3.\n",
      " 13.  9. 17.  5.  6.  5.  5.  5.  0.  0.  8.  7.  0.  5.  8.  5.  5.  3.\n",
      "  5.  5.  3. 16. 10.  5. 10.  5.  5.  5.  5.  2.  5.  5.  5.  5.  5.  2.\n",
      " 11.  5.  5.  5.  5.  5.  5.  5.  5.  5.  9.  5. 11.  5.  5.  5.  5. 11.\n",
      "  2. 15.  5.  8. 17.  7.  0.  6.  5.  5.  5.  5. 13.  8.  5. 10.  5.  5.\n",
      " 14.  5.  7. 15.  5.  6.  0.  3.  0.  4.  6.  5. 14.  5.  9.  5.  5.  8.\n",
      "  5.  5.  1.  5.  2. 11.  8.  5.  5.  5.  5.  5. 15.  5. 10.  6. 17.  9.\n",
      "  7. 13.  8. 15. 13.  5.  5.  3. 10.  8.  5.  7. 15.  5. 11.  5.  5.  8.\n",
      "  1.  3.  1.  5. 16. 14. 12.  2.  5. 16.  5.  5.  4. 14.  5.  5. 11.  5.\n",
      " 17.  9.  5.  3. 15.  5.  5.  8.  3.  5.  3.  9.  3. 13.  2.  0.  5. 16.\n",
      "  4.  5. 16.  0. 14.  5.  1. 14.  7.  5.  9.  5.  0. 10.  1.  0.  6.  5.\n",
      " 12.  4.  5.  8.  7.  4.  5.  5. 16. 17.  2.  9. 13.  0.  5.  5. 16.  5.\n",
      "  8.  1.  5.  9.  8.  5.  5.  8.  5.  8. 12. 16.  1.  4.  5.  5.  5.  5.\n",
      "  9.  5. 12.  5.  4.  5.  2.  1.  5. 14. 10.  5.  9.  5. 12.  6.  9.  5.\n",
      "  5.  5.  4.  7.  5.  5.  5.  5. 13. 12.  6. 15.  1.  4.  4. 15.  5.  6.\n",
      "  5.  5.  5.  3.  5.  5. 13.  5.  8.  5.  5.  9. 17.  5.  5. 17.  5.  1.\n",
      " 11.  5.  5.  6.  5.  5. 10.  5.  8.  7.  5.  5. 14.  5.  5.  5.  0.  9.\n",
      "  3. 14.  5.  5.  1. 10.  5. 12.  8. 10. 10.  5.  0. 15.  8.  5.  5.  8.\n",
      "  5.  7. 11.  5. 15.  5. 14. 11.  5.  8. 17.  5.  5.  5.  5.  5.  5. 13.\n",
      "  5. 17.  0. 13. 16.  5.  5.  4. 12. 12.  5. 13.  5.  5.  9.  9.  4. 13.\n",
      "  5. 14. 13.  5.  5.  5.  5.  0. 14.  5. 16.  4.  5.  5.  5. 11. 10. 11.\n",
      "  5.  5. 12.  5.  2.  5.  4. 10.  5. 15.  5. 10. 10.  5.  5.  5.  5.  9.\n",
      "  9.  5.  5.  9. 16. 14.  0.  5.  5. 17.  5.  0. 12.  5.  5.  5.  5.  5.\n",
      " 15.  5.  4.  1.  5. 13.  5. 17.  5. 17.  5. 16.  5.  5.  4.  5.  5.  0.\n",
      "  5.  6.  2.  3. 16.  4. 14.  5.  5.  5.  5.  5. 13. 11.  2. 13.  6.  5.\n",
      "  5.  5.  7. 17.  7.  5.  5.  3. 17.  5.  5.  7. 14. 11. 11.  5. 17.  0.\n",
      " 10. 11.  2.  2.  9.  5.  5.  5.  6.  5.  5. 15.  5.  9.  5.  3. 17.  5.\n",
      "  3.  5.  5.  5.  5.  5.  3.  0.  5.  5.  5.  0.  5.  5.  5.  4.  9.  5.\n",
      "  5.  5.  5.  2. 10.  5.  5. 17.  5.  5.  1.  9.  5.  5. 15.  9. 16.  1.\n",
      "  5.  2.  5.  5. 16.  5.  3. 12. 13.  5.  5.  4.  5. 16.  2.  5. 17.  5.\n",
      "  8. 11. 12.  2.  5. 15.  8. 10.  5.  5. 14.  0.  5.  8.  1.  5.  8. 15.\n",
      "  5. 11.  5.  5. 11. 16.]\n",
      "[ 5. 10.  5.  5.  5.  3.  4. 13.  3.  5.  5.  5.  5.  1. 13. 11.  5.  5.\n",
      " 12.  5.  5.  5.  5.  5. 16.  0.  5. 16.  5.  5.  1.  5.  5.  5.  5.  5.\n",
      "  7. 16.  5.  5.  0.  4.  5.  5.  4. 16.  5. 15.  5. 15.  5.  0.  4.  5.\n",
      "  5. 12.  1.  6. 11. 16. 17. 12.  5. 10.  5.  2. 14.  5.  5.  4.  5.  5.\n",
      "  6. 14.  5.  5.  5. 17.  5. 14. 13.  5.  5. 13.  5. 11.  6.  0.  7. 17.\n",
      "  5. 10.  5.  4.  5.  2.  3.  5. 17.  6. 16.  3.  6.  5. 14.  5.  7. 11.\n",
      "  5. 10. 14.  5.  5. 12.  5.  8. 12.]\n"
     ]
    }
   ],
   "source": [
    "# Assign feature sets\n",
    "x_train = feature_sets['x_train']\n",
    "y_train = feature_sets['y_train']\n",
    "x_val = feature_sets['x_val']\n",
    "y_val = feature_sets['y_val']\n",
    "x_test = feature_sets['x_test']\n",
    "y_test = feature_sets['y_test']\n",
    "print(y_test)\n",
    "print(y_train)\n",
    "print(y_val)"
   ]
  },
  {
   "cell_type": "code",
   "execution_count": 6,
   "metadata": {
    "colab": {
     "base_uri": "https://localhost:8080/"
    },
    "executionInfo": {
     "elapsed": 262,
     "status": "ok",
     "timestamp": 1623236068434,
     "user": {
      "displayName": "黃侯弼",
      "photoUrl": "",
      "userId": "02394864078410571973"
     },
     "user_tz": -480
    },
    "id": "r2XzOXwdDuC8",
    "outputId": "6d00862e-4d37-415c-b854-22b4cdd10698"
   },
   "outputs": [
    {
     "name": "stdout",
     "output_type": "stream",
     "text": [
      "(942, 23, 16)\n",
      "(117, 23, 16)\n",
      "(117, 23, 16)\n"
     ]
    }
   ],
   "source": [
    "# Look at tensor dimensions\n",
    "print(x_train.shape)\n",
    "print(x_val.shape)\n",
    "print(x_test.shape)"
   ]
  },
  {
   "cell_type": "code",
   "execution_count": 7,
   "metadata": {
    "colab": {
     "base_uri": "https://localhost:8080/"
    },
    "executionInfo": {
     "elapsed": 439,
     "status": "ok",
     "timestamp": 1623236069774,
     "user": {
      "displayName": "黃侯弼",
      "photoUrl": "",
      "userId": "02394864078410571973"
     },
     "user_tz": -480
    },
    "id": "N-l9zl-GDuC9",
    "outputId": "fd2762fb-1345-41d2-8108-985fcd157a52"
   },
   "outputs": [
    {
     "name": "stdout",
     "output_type": "stream",
     "text": [
      "[ 5. 10.  5.  5.  5.  3.  4. 13.  3.  5.  5.  5.  5.  1. 13. 11.  5.  5.\n",
      " 12.  5.  5.  5.  5.  5. 16.  0.  5. 16.  5.  5.  1.  5.  5.  5.  5.  5.\n",
      "  7. 16.  5.  5.  0.  4.  5.  5.  4. 16.  5. 15.  5. 15.  5.  0.  4.  5.\n",
      "  5. 12.  1.  6. 11. 16. 17. 12.  5. 10.  5.  2. 14.  5.  5.  4.  5.  5.\n",
      "  6. 14.  5.  5.  5. 17.  5. 14. 13.  5.  5. 13.  5. 11.  6.  0.  7. 17.\n",
      "  5. 10.  5.  4.  5.  2.  3.  5. 17.  6. 16.  3.  6.  5. 14.  5.  7. 11.\n",
      "  5. 10. 14.  5.  5. 12.  5.  8. 12.]\n"
     ]
    }
   ],
   "source": [
    "# Peek at labels\n",
    "print(y_val)"
   ]
  },
  {
   "cell_type": "code",
   "execution_count": 8,
   "metadata": {
    "colab": {
     "base_uri": "https://localhost:8080/"
    },
    "executionInfo": {
     "elapsed": 4,
     "status": "ok",
     "timestamp": 1623236070623,
     "user": {
      "displayName": "黃侯弼",
      "photoUrl": "",
      "userId": "02394864078410571973"
     },
     "user_tz": -480
    },
    "id": "nY3RGYbPDuC-",
    "outputId": "deded680-fc57-4da6-c054-a4648b5007eb"
   },
   "outputs": [
    {
     "name": "stdout",
     "output_type": "stream",
     "text": [
      "[ 9.  4.  5.  5. 10. 12.  5.  5. 14.  5.  5.  6.  3. 13.  6.  5.  3. 12.\n",
      " 12. 16. 15.  5.  3.  6.  1.  7.  0.  5.  7.  5. 11.  5.  5.  5.  0. 15.\n",
      "  7.  5. 10. 17. 10.  6. 12.  5.  5.  3.  5.  4. 17. 17.  5.  5. 14.  5.\n",
      "  5.  5.  5.  5.  5.  5.  5.  5. 16.  4.  5.  2. 13.  3.  5.  5. 17.  5.\n",
      " 10. 11.  9.  5. 12.  1.  0.  5. 16. 11.  5. 13.  5.  5.  5.  5.  5. 15.\n",
      " 12.  5.  5. 13.  5. 16.  6.  8.  5.  7.  5. 17.  5. 15.  5. 15.  6.  4.\n",
      "  7.  7.  5.  3. 16. 17.  0.  3.  7.]\n"
     ]
    }
   ],
   "source": [
    "# Peek at labels after conversion\n",
    "print(y_test)"
   ]
  },
  {
   "cell_type": "code",
   "execution_count": 9,
   "metadata": {
    "colab": {
     "base_uri": "https://localhost:8080/"
    },
    "executionInfo": {
     "elapsed": 5,
     "status": "ok",
     "timestamp": 1623236071679,
     "user": {
      "displayName": "黃侯弼",
      "photoUrl": "",
      "userId": "02394864078410571973"
     },
     "user_tz": -480
    },
    "id": "8I1_x2yvDuC-",
    "outputId": "0d138400-6662-4175-8a1f-f640e3f2bf6d"
   },
   "outputs": [
    {
     "name": "stdout",
     "output_type": "stream",
     "text": [
      "(942, 23, 16)\n"
     ]
    }
   ],
   "source": [
    "# View the dimensions of our input data\n",
    "print(x_train.shape)"
   ]
  },
  {
   "cell_type": "code",
   "execution_count": 10,
   "metadata": {
    "colab": {
     "base_uri": "https://localhost:8080/"
    },
    "executionInfo": {
     "elapsed": 4,
     "status": "ok",
     "timestamp": 1623236072760,
     "user": {
      "displayName": "黃侯弼",
      "photoUrl": "",
      "userId": "02394864078410571973"
     },
     "user_tz": -480
    },
    "id": "i_zQsgz4DuC_",
    "outputId": "94a9c63d-7b06-4e8f-8c10-2aaab2aebe64",
    "scrolled": true
   },
   "outputs": [
    {
     "name": "stdout",
     "output_type": "stream",
     "text": [
      "(942, 23, 16, 1)\n",
      "(117, 23, 16, 1)\n",
      "(117, 23, 16, 1)\n"
     ]
    }
   ],
   "source": [
    "# CNN for TF expects (batch, height, width, channels)\n",
    "# So we reshape the input tensors with a \"color\" channel of 1\n",
    "x_train = x_train.reshape(x_train.shape[0], \n",
    "                          x_train.shape[1], \n",
    "                          x_train.shape[2], \n",
    "                          1)\n",
    "x_val = x_val.reshape(x_val.shape[0], \n",
    "                      x_val.shape[1], \n",
    "                      x_val.shape[2], \n",
    "                      1)\n",
    "x_test = x_test.reshape(x_test.shape[0], \n",
    "                        x_test.shape[1], \n",
    "                        x_test.shape[2], \n",
    "                        1)\n",
    "print(x_train.shape)\n",
    "print(x_val.shape)\n",
    "print(x_test.shape)"
   ]
  },
  {
   "cell_type": "code",
   "execution_count": 11,
   "metadata": {
    "colab": {
     "base_uri": "https://localhost:8080/"
    },
    "executionInfo": {
     "elapsed": 281,
     "status": "ok",
     "timestamp": 1623236074651,
     "user": {
      "displayName": "黃侯弼",
      "photoUrl": "",
      "userId": "02394864078410571973"
     },
     "user_tz": -480
    },
    "id": "Ge2MCNusDuC_",
    "outputId": "7c995061-d01d-4a96-a14f-fbee6804b4d4"
   },
   "outputs": [
    {
     "name": "stdout",
     "output_type": "stream",
     "text": [
      "(23, 16, 1)\n"
     ]
    }
   ],
   "source": [
    "# Input shape for CNN is size of MFCC of 1 sample\n",
    "sample_shape = x_test.shape[1:]\n",
    "print(sample_shape)"
   ]
  },
  {
   "cell_type": "code",
   "execution_count": 12,
   "metadata": {
    "colab": {
     "base_uri": "https://localhost:8080/"
    },
    "executionInfo": {
     "elapsed": 264,
     "status": "ok",
     "timestamp": 1623237350948,
     "user": {
      "displayName": "黃侯弼",
      "photoUrl": "",
      "userId": "02394864078410571973"
     },
     "user_tz": -480
    },
    "id": "2JqUOHp9DuDA",
    "outputId": "cc676686-8778-47c0-d5eb-183d137369d2"
   },
   "outputs": [
    {
     "name": "stdout",
     "output_type": "stream",
     "text": [
      "Model: \"sequential\"\n",
      "_________________________________________________________________\n",
      "Layer (type)                 Output Shape              Param #   \n",
      "=================================================================\n",
      "conv2d (Conv2D)              (None, 22, 15, 32)        160       \n",
      "_________________________________________________________________\n",
      "max_pooling2d (MaxPooling2D) (None, 11, 7, 32)         0         \n",
      "_________________________________________________________________\n",
      "conv2d_1 (Conv2D)            (None, 10, 6, 64)         8256      \n",
      "_________________________________________________________________\n",
      "max_pooling2d_1 (MaxPooling2 (None, 5, 3, 64)          0         \n",
      "_________________________________________________________________\n",
      "conv2d_2 (Conv2D)            (None, 4, 2, 128)         32896     \n",
      "_________________________________________________________________\n",
      "max_pooling2d_2 (MaxPooling2 (None, 2, 1, 128)         0         \n",
      "_________________________________________________________________\n",
      "dropout (Dropout)            (None, 2, 1, 128)         0         \n",
      "_________________________________________________________________\n",
      "flatten (Flatten)            (None, 256)               0         \n",
      "_________________________________________________________________\n",
      "dense (Dense)                (None, 64)                16448     \n",
      "_________________________________________________________________\n",
      "dropout_1 (Dropout)          (None, 64)                0         \n",
      "_________________________________________________________________\n",
      "dense_1 (Dense)              (None, 18)                1170      \n",
      "=================================================================\n",
      "Total params: 58,930\n",
      "Trainable params: 58,930\n",
      "Non-trainable params: 0\n",
      "_________________________________________________________________\n"
     ]
    }
   ],
   "source": [
    "model = models.Sequential()\n",
    "model.add(layers.Conv2D(32, (2, 2), activation='relu',input_shape=sample_shape))\n",
    "model.add(layers.MaxPooling2D(pool_size=(2, 2)))\n",
    "\n",
    "\n",
    "model.add(layers.Conv2D(64, (2, 2), activation='relu'))#64\n",
    "model.add(layers.MaxPooling2D(pool_size=(2, 2)))\n",
    "\n",
    "model.add(layers.Conv2D(128, (2, 2), activation='relu'))\n",
    "model.add(layers.MaxPooling2D(pool_size=(2, 2)))\n",
    "model.add(layers.Dropout(0.05))\n",
    "\n",
    "# Classifier\n",
    "model.add(layers.Flatten())\n",
    "model.add(layers.Dense(64, activation='relu'))#64\n",
    "model.add(layers.Dropout(0.05))\n",
    "#model.add(layers.Dense(18, activation='sigmoid'))\n",
    "model.add(layers.Dense(18, activation='softmax'))\n",
    "# Display model\n",
    "model.summary()"
   ]
  },
  {
   "cell_type": "code",
   "execution_count": 13,
   "metadata": {
    "colab": {
     "base_uri": "https://localhost:8080/"
    },
    "executionInfo": {
     "elapsed": 402,
     "status": "ok",
     "timestamp": 1623237353164,
     "user": {
      "displayName": "黃侯弼",
      "photoUrl": "",
      "userId": "02394864078410571973"
     },
     "user_tz": -480
    },
    "id": "sp5WfpkJDuDA",
    "outputId": "e7c65039-b132-4490-ce02-0897a4ca9bdc"
   },
   "outputs": [],
   "source": [
    "from tensorflow.keras import optimizers\n",
    "# Add training parameters to model\n",
    "model.compile(loss='sparse_categorical_crossentropy', \n",
    "              optimizer='adam',    #'adam'\n",
    "              metrics=['acc'])"
   ]
  },
  {
   "cell_type": "code",
   "execution_count": 14,
   "metadata": {
    "colab": {
     "base_uri": "https://localhost:8080/"
    },
    "executionInfo": {
     "elapsed": 6626,
     "status": "ok",
     "timestamp": 1623237360783,
     "user": {
      "displayName": "黃侯弼",
      "photoUrl": "",
      "userId": "02394864078410571973"
     },
     "user_tz": -480
    },
    "id": "s46KMbZbDuDB",
    "outputId": "ff0b8470-8926-4dd5-bd90-db3c765b1d90",
    "scrolled": true
   },
   "outputs": [
    {
     "name": "stdout",
     "output_type": "stream",
     "text": [
      "Epoch 1/200\n",
      "12/12 [==============================] - 1s 43ms/step - loss: 2.2391 - acc: 0.3779 - val_loss: 1.8858 - val_acc: 0.4701\n",
      "Epoch 2/200\n",
      "12/12 [==============================] - 0s 27ms/step - loss: 1.9423 - acc: 0.4193 - val_loss: 1.7445 - val_acc: 0.5385\n",
      "Epoch 3/200\n",
      "12/12 [==============================] - 0s 29ms/step - loss: 1.8283 - acc: 0.4713 - val_loss: 1.6150 - val_acc: 0.5385\n",
      "Epoch 4/200\n",
      "12/12 [==============================] - 0s 29ms/step - loss: 1.6902 - acc: 0.5149 - val_loss: 1.4638 - val_acc: 0.5726\n",
      "Epoch 5/200\n",
      "12/12 [==============================] - 0s 30ms/step - loss: 1.5175 - acc: 0.5743 - val_loss: 1.2735 - val_acc: 0.6581\n",
      "Epoch 6/200\n",
      "12/12 [==============================] - 0s 29ms/step - loss: 1.3114 - acc: 0.6274 - val_loss: 1.0636 - val_acc: 0.7009\n",
      "Epoch 7/200\n",
      "12/12 [==============================] - 0s 31ms/step - loss: 1.0999 - acc: 0.6699 - val_loss: 0.8354 - val_acc: 0.7521\n",
      "Epoch 8/200\n",
      "12/12 [==============================] - 0s 31ms/step - loss: 0.9455 - acc: 0.7187 - val_loss: 0.6848 - val_acc: 0.8376\n",
      "Epoch 9/200\n",
      "12/12 [==============================] - 0s 33ms/step - loss: 0.7965 - acc: 0.7590 - val_loss: 0.5899 - val_acc: 0.8547\n",
      "Epoch 10/200\n",
      "12/12 [==============================] - 0s 35ms/step - loss: 0.6910 - acc: 0.7813 - val_loss: 0.4877 - val_acc: 0.9060\n",
      "Epoch 11/200\n",
      "12/12 [==============================] - 0s 34ms/step - loss: 0.5848 - acc: 0.8110 - val_loss: 0.4291 - val_acc: 0.8718\n",
      "Epoch 12/200\n",
      "12/12 [==============================] - 0s 35ms/step - loss: 0.4939 - acc: 0.8535 - val_loss: 0.3612 - val_acc: 0.9145\n",
      "Epoch 13/200\n",
      "12/12 [==============================] - 0s 32ms/step - loss: 0.4279 - acc: 0.8652 - val_loss: 0.3100 - val_acc: 0.9231\n",
      "Epoch 14/200\n",
      "12/12 [==============================] - 0s 31ms/step - loss: 0.3983 - acc: 0.8864 - val_loss: 0.2906 - val_acc: 0.9316\n",
      "Epoch 15/200\n",
      "12/12 [==============================] - 0s 31ms/step - loss: 0.3625 - acc: 0.8917 - val_loss: 0.2897 - val_acc: 0.9487\n",
      "Epoch 16/200\n",
      "12/12 [==============================] - 0s 32ms/step - loss: 0.3035 - acc: 0.9087 - val_loss: 0.2651 - val_acc: 0.9145\n",
      "Epoch 17/200\n",
      "12/12 [==============================] - 0s 31ms/step - loss: 0.2776 - acc: 0.9140 - val_loss: 0.2206 - val_acc: 0.9487\n",
      "Epoch 18/200\n",
      "12/12 [==============================] - 0s 33ms/step - loss: 0.2188 - acc: 0.9427 - val_loss: 0.2401 - val_acc: 0.9487\n",
      "Epoch 19/200\n",
      "12/12 [==============================] - 0s 31ms/step - loss: 0.2001 - acc: 0.9427 - val_loss: 0.1760 - val_acc: 0.9573\n",
      "Epoch 20/200\n",
      "12/12 [==============================] - 0s 32ms/step - loss: 0.1751 - acc: 0.9533 - val_loss: 0.1755 - val_acc: 0.9744\n",
      "Epoch 21/200\n",
      "12/12 [==============================] - 0s 31ms/step - loss: 0.1746 - acc: 0.9448 - val_loss: 0.1933 - val_acc: 0.9573\n",
      "Epoch 22/200\n",
      "12/12 [==============================] - 0s 32ms/step - loss: 0.1373 - acc: 0.9692 - val_loss: 0.1468 - val_acc: 0.9658\n",
      "Epoch 23/200\n",
      "12/12 [==============================] - 0s 32ms/step - loss: 0.1305 - acc: 0.9607 - val_loss: 0.1669 - val_acc: 0.9487\n",
      "Epoch 24/200\n",
      "12/12 [==============================] - 0s 32ms/step - loss: 0.1242 - acc: 0.9650 - val_loss: 0.1517 - val_acc: 0.9573\n",
      "Epoch 25/200\n",
      "12/12 [==============================] - 0s 33ms/step - loss: 0.1094 - acc: 0.9724 - val_loss: 0.1610 - val_acc: 0.9658\n",
      "Epoch 26/200\n",
      "12/12 [==============================] - 0s 33ms/step - loss: 0.0855 - acc: 0.9777 - val_loss: 0.1335 - val_acc: 0.9573\n",
      "Epoch 27/200\n",
      "12/12 [==============================] - 0s 35ms/step - loss: 0.1042 - acc: 0.9745 - val_loss: 0.1873 - val_acc: 0.9145\n",
      "Epoch 28/200\n",
      "12/12 [==============================] - 0s 35ms/step - loss: 0.1221 - acc: 0.9597 - val_loss: 0.1351 - val_acc: 0.9573\n",
      "Epoch 29/200\n",
      "12/12 [==============================] - 0s 31ms/step - loss: 0.0973 - acc: 0.9671 - val_loss: 0.1462 - val_acc: 0.9316\n",
      "Epoch 30/200\n",
      "12/12 [==============================] - 0s 31ms/step - loss: 0.0706 - acc: 0.9873 - val_loss: 0.1319 - val_acc: 0.9573\n",
      "Epoch 31/200\n",
      "12/12 [==============================] - 0s 33ms/step - loss: 0.0631 - acc: 0.9851 - val_loss: 0.1644 - val_acc: 0.9402\n",
      "Epoch 32/200\n",
      "12/12 [==============================] - 0s 31ms/step - loss: 0.0666 - acc: 0.9830 - val_loss: 0.1421 - val_acc: 0.9573\n",
      "Epoch 33/200\n",
      "12/12 [==============================] - 0s 32ms/step - loss: 0.0662 - acc: 0.9830 - val_loss: 0.1781 - val_acc: 0.9487\n",
      "Epoch 34/200\n",
      "12/12 [==============================] - 0s 31ms/step - loss: 0.0634 - acc: 0.9841 - val_loss: 0.1540 - val_acc: 0.9573\n",
      "Epoch 35/200\n",
      "12/12 [==============================] - 0s 32ms/step - loss: 0.0620 - acc: 0.9851 - val_loss: 0.1274 - val_acc: 0.9487\n",
      "Epoch 36/200\n",
      "12/12 [==============================] - 0s 33ms/step - loss: 0.0512 - acc: 0.9841 - val_loss: 0.1479 - val_acc: 0.9402\n",
      "Epoch 37/200\n",
      "12/12 [==============================] - 0s 31ms/step - loss: 0.0462 - acc: 0.9926 - val_loss: 0.1282 - val_acc: 0.9658\n",
      "Epoch 38/200\n",
      "12/12 [==============================] - 0s 33ms/step - loss: 0.0439 - acc: 0.9904 - val_loss: 0.1657 - val_acc: 0.9487\n",
      "Epoch 39/200\n",
      "12/12 [==============================] - 0s 32ms/step - loss: 0.0471 - acc: 0.9926 - val_loss: 0.1280 - val_acc: 0.9402\n",
      "Epoch 40/200\n",
      "12/12 [==============================] - 0s 32ms/step - loss: 0.0409 - acc: 0.9926 - val_loss: 0.1318 - val_acc: 0.9573\n",
      "Epoch 41/200\n",
      "12/12 [==============================] - 0s 33ms/step - loss: 0.0399 - acc: 0.9915 - val_loss: 0.1217 - val_acc: 0.9573\n",
      "Epoch 42/200\n",
      "12/12 [==============================] - 0s 33ms/step - loss: 0.0384 - acc: 0.9915 - val_loss: 0.1270 - val_acc: 0.9487\n",
      "Epoch 43/200\n",
      "12/12 [==============================] - 0s 33ms/step - loss: 0.0323 - acc: 0.9936 - val_loss: 0.1559 - val_acc: 0.9658\n",
      "Epoch 44/200\n",
      "12/12 [==============================] - 0s 33ms/step - loss: 0.0365 - acc: 0.9926 - val_loss: 0.1256 - val_acc: 0.9658\n",
      "Epoch 45/200\n",
      "12/12 [==============================] - 0s 31ms/step - loss: 0.0355 - acc: 0.9947 - val_loss: 0.1531 - val_acc: 0.9487\n",
      "Epoch 46/200\n",
      "12/12 [==============================] - 0s 33ms/step - loss: 0.0493 - acc: 0.9873 - val_loss: 0.1459 - val_acc: 0.9487\n",
      "Epoch 47/200\n",
      "12/12 [==============================] - 0s 34ms/step - loss: 0.0234 - acc: 0.9989 - val_loss: 0.1455 - val_acc: 0.9573\n",
      "Epoch 48/200\n",
      "12/12 [==============================] - 0s 35ms/step - loss: 0.0248 - acc: 0.9968 - val_loss: 0.1133 - val_acc: 0.9487\n",
      "Epoch 49/200\n",
      "12/12 [==============================] - 0s 33ms/step - loss: 0.0318 - acc: 0.9936 - val_loss: 0.1373 - val_acc: 0.9573\n",
      "Epoch 50/200\n",
      "12/12 [==============================] - 0s 34ms/step - loss: 0.0230 - acc: 0.9926 - val_loss: 0.1028 - val_acc: 0.9744\n",
      "Epoch 51/200\n",
      "12/12 [==============================] - 0s 34ms/step - loss: 0.0336 - acc: 0.9915 - val_loss: 0.1177 - val_acc: 0.9573\n",
      "Epoch 52/200\n",
      "12/12 [==============================] - 0s 32ms/step - loss: 0.0319 - acc: 0.9883 - val_loss: 0.1340 - val_acc: 0.9573\n",
      "Epoch 53/200\n",
      "12/12 [==============================] - 0s 35ms/step - loss: 0.0374 - acc: 0.9873 - val_loss: 0.1181 - val_acc: 0.9573\n",
      "Epoch 54/200\n",
      "12/12 [==============================] - 0s 34ms/step - loss: 0.0251 - acc: 0.9947 - val_loss: 0.1622 - val_acc: 0.9487\n",
      "Epoch 55/200\n",
      "12/12 [==============================] - 0s 33ms/step - loss: 0.0274 - acc: 0.9926 - val_loss: 0.1741 - val_acc: 0.9573\n",
      "Epoch 56/200\n",
      "12/12 [==============================] - 0s 35ms/step - loss: 0.0359 - acc: 0.9883 - val_loss: 0.1400 - val_acc: 0.9658\n",
      "Epoch 57/200\n",
      "12/12 [==============================] - 0s 33ms/step - loss: 0.0261 - acc: 0.9936 - val_loss: 0.1545 - val_acc: 0.9487\n",
      "Epoch 58/200\n",
      "12/12 [==============================] - 0s 38ms/step - loss: 0.0254 - acc: 0.9904 - val_loss: 0.1519 - val_acc: 0.9487\n",
      "Epoch 59/200\n",
      "12/12 [==============================] - 0s 35ms/step - loss: 0.0201 - acc: 0.9936 - val_loss: 0.1432 - val_acc: 0.9573\n",
      "Epoch 60/200\n",
      "12/12 [==============================] - 0s 34ms/step - loss: 0.0209 - acc: 0.9958 - val_loss: 0.1162 - val_acc: 0.9658\n",
      "Epoch 61/200\n",
      "12/12 [==============================] - 0s 34ms/step - loss: 0.0247 - acc: 0.9936 - val_loss: 0.1619 - val_acc: 0.9573\n",
      "Epoch 62/200\n"
     ]
    },
    {
     "name": "stdout",
     "output_type": "stream",
     "text": [
      "12/12 [==============================] - 0s 37ms/step - loss: 0.0216 - acc: 0.9947 - val_loss: 0.1798 - val_acc: 0.9658\n",
      "Epoch 63/200\n",
      "12/12 [==============================] - 0s 34ms/step - loss: 0.0252 - acc: 0.9947 - val_loss: 0.1301 - val_acc: 0.9658\n",
      "Epoch 64/200\n",
      "12/12 [==============================] - 0s 34ms/step - loss: 0.0180 - acc: 0.9958 - val_loss: 0.1236 - val_acc: 0.9573\n",
      "Epoch 65/200\n",
      "12/12 [==============================] - 0s 34ms/step - loss: 0.0163 - acc: 0.9979 - val_loss: 0.1222 - val_acc: 0.9573\n",
      "Epoch 66/200\n",
      "12/12 [==============================] - 0s 30ms/step - loss: 0.0176 - acc: 0.9958 - val_loss: 0.1717 - val_acc: 0.9573\n",
      "Epoch 67/200\n",
      "12/12 [==============================] - 0s 31ms/step - loss: 0.0150 - acc: 0.9968 - val_loss: 0.0979 - val_acc: 0.9658\n",
      "Epoch 68/200\n",
      "12/12 [==============================] - 0s 32ms/step - loss: 0.0129 - acc: 0.9968 - val_loss: 0.1610 - val_acc: 0.9487\n",
      "Epoch 69/200\n",
      "12/12 [==============================] - 0s 31ms/step - loss: 0.0130 - acc: 0.9968 - val_loss: 0.1279 - val_acc: 0.9658\n",
      "Epoch 70/200\n",
      "12/12 [==============================] - 0s 32ms/step - loss: 0.0121 - acc: 0.9958 - val_loss: 0.1205 - val_acc: 0.9744\n",
      "Epoch 71/200\n",
      "12/12 [==============================] - 0s 30ms/step - loss: 0.0147 - acc: 0.9947 - val_loss: 0.1558 - val_acc: 0.9573\n",
      "Epoch 72/200\n",
      "12/12 [==============================] - 0s 30ms/step - loss: 0.0101 - acc: 0.9989 - val_loss: 0.1122 - val_acc: 0.9658\n",
      "Epoch 73/200\n",
      "12/12 [==============================] - 0s 32ms/step - loss: 0.0067 - acc: 1.0000 - val_loss: 0.1111 - val_acc: 0.9744\n",
      "Epoch 74/200\n",
      "12/12 [==============================] - 0s 33ms/step - loss: 0.0107 - acc: 0.9968 - val_loss: 0.1363 - val_acc: 0.9573\n",
      "Epoch 75/200\n",
      "12/12 [==============================] - 0s 30ms/step - loss: 0.0079 - acc: 0.9989 - val_loss: 0.1505 - val_acc: 0.9744\n",
      "Epoch 76/200\n",
      "12/12 [==============================] - 0s 31ms/step - loss: 0.0110 - acc: 0.9979 - val_loss: 0.1578 - val_acc: 0.9658\n",
      "Epoch 77/200\n",
      "12/12 [==============================] - 0s 30ms/step - loss: 0.0070 - acc: 0.9989 - val_loss: 0.1290 - val_acc: 0.9658\n",
      "Epoch 78/200\n",
      "12/12 [==============================] - 0s 29ms/step - loss: 0.0126 - acc: 0.9979 - val_loss: 0.1586 - val_acc: 0.9744\n",
      "Epoch 79/200\n",
      "12/12 [==============================] - 0s 32ms/step - loss: 0.0086 - acc: 0.9989 - val_loss: 0.1093 - val_acc: 0.9744\n",
      "Epoch 80/200\n",
      "12/12 [==============================] - 0s 31ms/step - loss: 0.0116 - acc: 0.9979 - val_loss: 0.1405 - val_acc: 0.9658\n",
      "Epoch 81/200\n",
      "12/12 [==============================] - 0s 32ms/step - loss: 0.0182 - acc: 0.9947 - val_loss: 0.1592 - val_acc: 0.9573\n",
      "Epoch 82/200\n",
      "12/12 [==============================] - 0s 34ms/step - loss: 0.0125 - acc: 0.9989 - val_loss: 0.1139 - val_acc: 0.9573\n",
      "Epoch 83/200\n",
      "12/12 [==============================] - 0s 32ms/step - loss: 0.0098 - acc: 0.9979 - val_loss: 0.1461 - val_acc: 0.9829\n",
      "Epoch 84/200\n",
      "12/12 [==============================] - 0s 32ms/step - loss: 0.0175 - acc: 0.9947 - val_loss: 0.1445 - val_acc: 0.9658\n",
      "Epoch 85/200\n",
      "12/12 [==============================] - 0s 33ms/step - loss: 0.0244 - acc: 0.9936 - val_loss: 0.2092 - val_acc: 0.9402\n",
      "Epoch 86/200\n",
      "12/12 [==============================] - 0s 32ms/step - loss: 0.0133 - acc: 0.9979 - val_loss: 0.1034 - val_acc: 0.9658\n",
      "Epoch 87/200\n",
      "12/12 [==============================] - 0s 31ms/step - loss: 0.0099 - acc: 0.9989 - val_loss: 0.1324 - val_acc: 0.9573\n",
      "Epoch 88/200\n",
      "12/12 [==============================] - 0s 33ms/step - loss: 0.0118 - acc: 0.9968 - val_loss: 0.1389 - val_acc: 0.9487\n",
      "Epoch 89/200\n",
      "12/12 [==============================] - 0s 40ms/step - loss: 0.0113 - acc: 0.9968 - val_loss: 0.1101 - val_acc: 0.9744\n",
      "Epoch 90/200\n",
      "12/12 [==============================] - 0s 38ms/step - loss: 0.0150 - acc: 0.9968 - val_loss: 0.1860 - val_acc: 0.9573\n",
      "Epoch 91/200\n",
      "12/12 [==============================] - 0s 39ms/step - loss: 0.0079 - acc: 0.9989 - val_loss: 0.1356 - val_acc: 0.9658\n",
      "Epoch 92/200\n",
      "12/12 [==============================] - 0s 32ms/step - loss: 0.0062 - acc: 0.9989 - val_loss: 0.1776 - val_acc: 0.9487\n",
      "Epoch 93/200\n",
      "12/12 [==============================] - 0s 33ms/step - loss: 0.0098 - acc: 0.9989 - val_loss: 0.1689 - val_acc: 0.9487\n",
      "Epoch 94/200\n",
      "12/12 [==============================] - 0s 32ms/step - loss: 0.0076 - acc: 0.9989 - val_loss: 0.1344 - val_acc: 0.9658\n",
      "Epoch 95/200\n",
      "12/12 [==============================] - 0s 32ms/step - loss: 0.0038 - acc: 1.0000 - val_loss: 0.1235 - val_acc: 0.9744\n",
      "Epoch 96/200\n",
      "12/12 [==============================] - 0s 34ms/step - loss: 0.0024 - acc: 1.0000 - val_loss: 0.1477 - val_acc: 0.9744\n",
      "Epoch 97/200\n",
      "12/12 [==============================] - 0s 32ms/step - loss: 0.0022 - acc: 1.0000 - val_loss: 0.1158 - val_acc: 0.9744\n",
      "Epoch 98/200\n",
      "12/12 [==============================] - 0s 32ms/step - loss: 0.0041 - acc: 1.0000 - val_loss: 0.1207 - val_acc: 0.9744\n",
      "Epoch 99/200\n",
      "12/12 [==============================] - 0s 33ms/step - loss: 0.0069 - acc: 0.9989 - val_loss: 0.1369 - val_acc: 0.9573\n",
      "Epoch 100/200\n",
      "12/12 [==============================] - 0s 32ms/step - loss: 0.0031 - acc: 1.0000 - val_loss: 0.1214 - val_acc: 0.9573\n",
      "Epoch 101/200\n",
      "12/12 [==============================] - 0s 32ms/step - loss: 0.0069 - acc: 0.9968 - val_loss: 0.1153 - val_acc: 0.9744\n",
      "Epoch 102/200\n",
      "12/12 [==============================] - 0s 35ms/step - loss: 0.0060 - acc: 0.9989 - val_loss: 0.1359 - val_acc: 0.9573\n",
      "Epoch 103/200\n",
      "12/12 [==============================] - 0s 35ms/step - loss: 0.0123 - acc: 0.9958 - val_loss: 0.1544 - val_acc: 0.9658\n",
      "Epoch 104/200\n",
      "12/12 [==============================] - 0s 41ms/step - loss: 0.0081 - acc: 0.9989 - val_loss: 0.2194 - val_acc: 0.9573\n",
      "Epoch 105/200\n",
      "12/12 [==============================] - 1s 47ms/step - loss: 0.0064 - acc: 0.9989 - val_loss: 0.1532 - val_acc: 0.9573\n",
      "Epoch 106/200\n",
      "12/12 [==============================] - 0s 41ms/step - loss: 0.0050 - acc: 0.9989 - val_loss: 0.1385 - val_acc: 0.9744\n",
      "Epoch 107/200\n",
      "12/12 [==============================] - 1s 47ms/step - loss: 0.0034 - acc: 1.0000 - val_loss: 0.1485 - val_acc: 0.9744\n",
      "Epoch 108/200\n",
      "12/12 [==============================] - 0s 38ms/step - loss: 0.0051 - acc: 0.9989 - val_loss: 0.1482 - val_acc: 0.9744\n",
      "Epoch 109/200\n",
      "12/12 [==============================] - 1s 50ms/step - loss: 0.0060 - acc: 0.9979 - val_loss: 0.1615 - val_acc: 0.9658\n",
      "Epoch 110/200\n",
      "12/12 [==============================] - 1s 43ms/step - loss: 0.0046 - acc: 0.9989 - val_loss: 0.1787 - val_acc: 0.9658\n",
      "Epoch 111/200\n",
      "12/12 [==============================] - 0s 38ms/step - loss: 0.0135 - acc: 0.9947 - val_loss: 0.1932 - val_acc: 0.9402\n",
      "Epoch 112/200\n",
      "12/12 [==============================] - 1s 51ms/step - loss: 0.0162 - acc: 0.9926 - val_loss: 0.2281 - val_acc: 0.9316\n",
      "Epoch 113/200\n",
      "12/12 [==============================] - 1s 58ms/step - loss: 0.0201 - acc: 0.9926 - val_loss: 0.1285 - val_acc: 0.9487\n",
      "Epoch 114/200\n",
      "12/12 [==============================] - 0s 40ms/step - loss: 0.0263 - acc: 0.9968 - val_loss: 0.1700 - val_acc: 0.9573\n",
      "Epoch 115/200\n",
      "12/12 [==============================] - 0s 41ms/step - loss: 0.0204 - acc: 0.9947 - val_loss: 0.2205 - val_acc: 0.9402\n",
      "Epoch 116/200\n",
      "12/12 [==============================] - 0s 36ms/step - loss: 0.0139 - acc: 0.9958 - val_loss: 0.1836 - val_acc: 0.9658\n",
      "Epoch 117/200\n",
      "12/12 [==============================] - 0s 36ms/step - loss: 0.0117 - acc: 0.9968 - val_loss: 0.1079 - val_acc: 0.9829\n",
      "Epoch 118/200\n",
      "12/12 [==============================] - 0s 39ms/step - loss: 0.0153 - acc: 0.9947 - val_loss: 0.1684 - val_acc: 0.9573\n",
      "Epoch 119/200\n",
      "12/12 [==============================] - 0s 35ms/step - loss: 0.0123 - acc: 0.9968 - val_loss: 0.1700 - val_acc: 0.9487\n",
      "Epoch 120/200\n",
      "12/12 [==============================] - 0s 36ms/step - loss: 0.0145 - acc: 0.9968 - val_loss: 0.2039 - val_acc: 0.9402\n",
      "Epoch 121/200\n",
      "12/12 [==============================] - 0s 37ms/step - loss: 0.0055 - acc: 0.9979 - val_loss: 0.2137 - val_acc: 0.9658\n",
      "Epoch 122/200\n",
      "12/12 [==============================] - 0s 36ms/step - loss: 0.0102 - acc: 0.9958 - val_loss: 0.2146 - val_acc: 0.9658\n",
      "Epoch 123/200\n"
     ]
    },
    {
     "name": "stdout",
     "output_type": "stream",
     "text": [
      "12/12 [==============================] - 0s 32ms/step - loss: 0.0249 - acc: 0.9904 - val_loss: 0.2271 - val_acc: 0.9573\n",
      "Epoch 124/200\n",
      "12/12 [==============================] - 0s 32ms/step - loss: 0.0221 - acc: 0.9915 - val_loss: 0.3101 - val_acc: 0.9487\n",
      "Epoch 125/200\n",
      "12/12 [==============================] - 0s 35ms/step - loss: 0.0112 - acc: 0.9968 - val_loss: 0.2309 - val_acc: 0.9487\n",
      "Epoch 126/200\n",
      "12/12 [==============================] - 0s 33ms/step - loss: 0.0154 - acc: 0.9947 - val_loss: 0.1853 - val_acc: 0.9487\n",
      "Epoch 127/200\n",
      "12/12 [==============================] - 0s 35ms/step - loss: 0.0248 - acc: 0.9915 - val_loss: 0.2373 - val_acc: 0.9573\n",
      "Epoch 128/200\n",
      "12/12 [==============================] - 0s 33ms/step - loss: 0.0271 - acc: 0.9894 - val_loss: 0.1376 - val_acc: 0.9573\n",
      "Epoch 129/200\n",
      "12/12 [==============================] - 0s 33ms/step - loss: 0.0129 - acc: 0.9968 - val_loss: 0.1882 - val_acc: 0.9573\n",
      "Epoch 130/200\n",
      "12/12 [==============================] - 0s 34ms/step - loss: 0.0127 - acc: 0.9968 - val_loss: 0.1587 - val_acc: 0.9658\n",
      "Epoch 131/200\n",
      "12/12 [==============================] - 0s 35ms/step - loss: 0.0113 - acc: 0.9947 - val_loss: 0.1764 - val_acc: 0.9658\n",
      "Epoch 132/200\n",
      "12/12 [==============================] - 0s 34ms/step - loss: 0.0094 - acc: 0.9979 - val_loss: 0.1417 - val_acc: 0.9658\n",
      "Epoch 133/200\n",
      "12/12 [==============================] - 1s 49ms/step - loss: 0.0139 - acc: 0.9979 - val_loss: 0.2018 - val_acc: 0.9573\n",
      "Epoch 134/200\n",
      "12/12 [==============================] - 1s 58ms/step - loss: 0.0089 - acc: 0.9979 - val_loss: 0.1452 - val_acc: 0.9573\n",
      "Epoch 135/200\n",
      "12/12 [==============================] - 1s 59ms/step - loss: 0.0044 - acc: 1.0000 - val_loss: 0.0731 - val_acc: 0.9658\n",
      "Epoch 136/200\n",
      "12/12 [==============================] - 1s 48ms/step - loss: 0.0035 - acc: 0.9989 - val_loss: 0.1628 - val_acc: 0.9658\n",
      "Epoch 137/200\n",
      "12/12 [==============================] - 1s 56ms/step - loss: 0.0063 - acc: 0.9989 - val_loss: 0.1106 - val_acc: 0.9744\n",
      "Epoch 138/200\n",
      "12/12 [==============================] - 0s 39ms/step - loss: 0.0111 - acc: 0.9968 - val_loss: 0.1449 - val_acc: 0.9487\n",
      "Epoch 139/200\n",
      "12/12 [==============================] - 1s 45ms/step - loss: 0.0042 - acc: 1.0000 - val_loss: 0.1377 - val_acc: 0.9658\n",
      "Epoch 140/200\n",
      "12/12 [==============================] - 1s 63ms/step - loss: 0.0043 - acc: 1.0000 - val_loss: 0.1192 - val_acc: 0.9658\n",
      "Epoch 141/200\n",
      "12/12 [==============================] - 1s 87ms/step - loss: 0.0021 - acc: 1.0000 - val_loss: 0.1321 - val_acc: 0.9658\n",
      "Epoch 142/200\n",
      "12/12 [==============================] - 0s 40ms/step - loss: 0.0025 - acc: 1.0000 - val_loss: 0.1340 - val_acc: 0.9658\n",
      "Epoch 143/200\n",
      "12/12 [==============================] - 0s 37ms/step - loss: 0.0028 - acc: 1.0000 - val_loss: 0.1426 - val_acc: 0.9573\n",
      "Epoch 144/200\n",
      "12/12 [==============================] - 0s 34ms/step - loss: 0.0011 - acc: 1.0000 - val_loss: 0.1455 - val_acc: 0.9658\n",
      "Epoch 145/200\n",
      "12/12 [==============================] - 0s 33ms/step - loss: 0.0055 - acc: 0.9979 - val_loss: 0.1501 - val_acc: 0.9573\n",
      "Epoch 146/200\n",
      "12/12 [==============================] - 0s 34ms/step - loss: 0.0021 - acc: 1.0000 - val_loss: 0.1871 - val_acc: 0.9573\n",
      "Epoch 147/200\n",
      "12/12 [==============================] - 0s 32ms/step - loss: 0.0069 - acc: 0.9979 - val_loss: 0.1341 - val_acc: 0.9573\n",
      "Epoch 148/200\n",
      "12/12 [==============================] - 0s 37ms/step - loss: 0.0032 - acc: 0.9989 - val_loss: 0.1693 - val_acc: 0.9573\n",
      "Epoch 149/200\n",
      "12/12 [==============================] - 0s 32ms/step - loss: 0.0050 - acc: 0.9979 - val_loss: 0.1730 - val_acc: 0.9573\n",
      "Epoch 150/200\n",
      "12/12 [==============================] - 0s 32ms/step - loss: 0.0029 - acc: 0.9989 - val_loss: 0.1580 - val_acc: 0.9573\n",
      "Epoch 151/200\n",
      "12/12 [==============================] - 0s 32ms/step - loss: 0.0012 - acc: 1.0000 - val_loss: 0.1049 - val_acc: 0.9744\n",
      "Epoch 152/200\n",
      "12/12 [==============================] - 0s 37ms/step - loss: 0.0042 - acc: 0.9979 - val_loss: 0.2160 - val_acc: 0.9402\n",
      "Epoch 153/200\n",
      "12/12 [==============================] - 0s 38ms/step - loss: 0.0025 - acc: 1.0000 - val_loss: 0.1869 - val_acc: 0.9487\n",
      "Epoch 154/200\n",
      "12/12 [==============================] - 0s 34ms/step - loss: 0.0031 - acc: 0.9989 - val_loss: 0.1367 - val_acc: 0.9573\n",
      "Epoch 155/200\n",
      "12/12 [==============================] - 0s 32ms/step - loss: 0.0028 - acc: 0.9989 - val_loss: 0.1208 - val_acc: 0.9658\n",
      "Epoch 156/200\n",
      "12/12 [==============================] - 0s 32ms/step - loss: 0.0018 - acc: 1.0000 - val_loss: 0.1782 - val_acc: 0.9573\n",
      "Epoch 157/200\n",
      "12/12 [==============================] - 0s 33ms/step - loss: 7.4765e-04 - acc: 1.0000 - val_loss: 0.1393 - val_acc: 0.9402\n",
      "Epoch 158/200\n",
      "12/12 [==============================] - 0s 35ms/step - loss: 7.1690e-04 - acc: 1.0000 - val_loss: 0.1270 - val_acc: 0.9744\n",
      "Epoch 159/200\n",
      "12/12 [==============================] - 0s 33ms/step - loss: 0.0027 - acc: 0.9989 - val_loss: 0.1398 - val_acc: 0.9658\n",
      "Epoch 160/200\n",
      "12/12 [==============================] - 0s 33ms/step - loss: 0.0095 - acc: 0.9968 - val_loss: 0.1769 - val_acc: 0.9487\n",
      "Epoch 161/200\n",
      "12/12 [==============================] - 0s 33ms/step - loss: 0.0051 - acc: 0.9979 - val_loss: 0.1514 - val_acc: 0.9658\n",
      "Epoch 162/200\n",
      "12/12 [==============================] - 0s 32ms/step - loss: 0.0085 - acc: 0.9968 - val_loss: 0.1850 - val_acc: 0.9487\n",
      "Epoch 163/200\n",
      "12/12 [==============================] - 0s 33ms/step - loss: 0.0043 - acc: 0.9979 - val_loss: 0.1484 - val_acc: 0.9573\n",
      "Epoch 164/200\n",
      "12/12 [==============================] - 0s 34ms/step - loss: 0.0102 - acc: 0.9968 - val_loss: 0.1840 - val_acc: 0.9487\n",
      "Epoch 165/200\n",
      "12/12 [==============================] - 0s 33ms/step - loss: 0.0060 - acc: 0.9968 - val_loss: 0.1214 - val_acc: 0.9658\n",
      "Epoch 166/200\n",
      "12/12 [==============================] - 0s 33ms/step - loss: 0.0069 - acc: 0.9968 - val_loss: 0.1123 - val_acc: 0.9744\n",
      "Epoch 167/200\n",
      "12/12 [==============================] - 0s 32ms/step - loss: 0.0081 - acc: 0.9989 - val_loss: 0.1891 - val_acc: 0.9573\n",
      "Epoch 168/200\n",
      "12/12 [==============================] - 0s 35ms/step - loss: 0.0099 - acc: 0.9968 - val_loss: 0.1140 - val_acc: 0.9744\n",
      "Epoch 169/200\n",
      "12/12 [==============================] - 0s 36ms/step - loss: 0.0039 - acc: 0.9989 - val_loss: 0.0838 - val_acc: 0.9829\n",
      "Epoch 170/200\n",
      "12/12 [==============================] - 0s 38ms/step - loss: 0.0059 - acc: 0.9989 - val_loss: 0.1355 - val_acc: 0.9658\n",
      "Epoch 171/200\n",
      "12/12 [==============================] - 0s 35ms/step - loss: 0.0031 - acc: 1.0000 - val_loss: 0.1778 - val_acc: 0.9573\n",
      "Epoch 172/200\n",
      "12/12 [==============================] - 0s 36ms/step - loss: 0.0024 - acc: 1.0000 - val_loss: 0.1382 - val_acc: 0.9658\n",
      "Epoch 173/200\n",
      "12/12 [==============================] - 0s 31ms/step - loss: 0.0056 - acc: 0.9989 - val_loss: 0.2371 - val_acc: 0.9573\n",
      "Epoch 174/200\n",
      "12/12 [==============================] - 0s 33ms/step - loss: 0.0079 - acc: 0.9947 - val_loss: 0.2752 - val_acc: 0.9402\n",
      "Epoch 175/200\n",
      "12/12 [==============================] - 0s 34ms/step - loss: 0.0101 - acc: 0.9947 - val_loss: 0.1766 - val_acc: 0.9658\n",
      "Epoch 176/200\n",
      "12/12 [==============================] - 0s 33ms/step - loss: 0.0269 - acc: 0.9947 - val_loss: 0.2807 - val_acc: 0.9487\n",
      "Epoch 177/200\n",
      "12/12 [==============================] - 0s 35ms/step - loss: 0.0214 - acc: 0.9915 - val_loss: 0.1491 - val_acc: 0.9658\n",
      "Epoch 178/200\n",
      "12/12 [==============================] - 0s 35ms/step - loss: 0.0142 - acc: 0.9958 - val_loss: 0.1939 - val_acc: 0.9658\n",
      "Epoch 179/200\n",
      "12/12 [==============================] - 0s 34ms/step - loss: 0.0089 - acc: 0.9979 - val_loss: 0.3804 - val_acc: 0.9402\n",
      "Epoch 180/200\n",
      "12/12 [==============================] - 0s 34ms/step - loss: 0.0244 - acc: 0.9904 - val_loss: 0.3784 - val_acc: 0.9402\n",
      "Epoch 181/200\n",
      "12/12 [==============================] - 0s 33ms/step - loss: 0.0342 - acc: 0.9851 - val_loss: 0.0923 - val_acc: 0.9658\n",
      "Epoch 182/200\n",
      "12/12 [==============================] - 0s 33ms/step - loss: 0.0125 - acc: 0.9958 - val_loss: 0.1570 - val_acc: 0.9658\n",
      "Epoch 183/200\n",
      "12/12 [==============================] - 0s 35ms/step - loss: 0.0103 - acc: 0.9968 - val_loss: 0.1438 - val_acc: 0.9829\n",
      "Epoch 184/200\n"
     ]
    },
    {
     "name": "stdout",
     "output_type": "stream",
     "text": [
      "12/12 [==============================] - 0s 33ms/step - loss: 0.0061 - acc: 0.9979 - val_loss: 0.2340 - val_acc: 0.9487\n",
      "Epoch 185/200\n",
      "12/12 [==============================] - 0s 34ms/step - loss: 0.0079 - acc: 0.9968 - val_loss: 0.1950 - val_acc: 0.9573\n",
      "Epoch 186/200\n",
      "12/12 [==============================] - 0s 31ms/step - loss: 0.0059 - acc: 1.0000 - val_loss: 0.1879 - val_acc: 0.9573\n",
      "Epoch 187/200\n",
      "12/12 [==============================] - 0s 33ms/step - loss: 0.0071 - acc: 0.9968 - val_loss: 0.1299 - val_acc: 0.9573\n",
      "Epoch 188/200\n",
      "12/12 [==============================] - 0s 32ms/step - loss: 0.0025 - acc: 1.0000 - val_loss: 0.1007 - val_acc: 0.9744\n",
      "Epoch 189/200\n",
      "12/12 [==============================] - 0s 31ms/step - loss: 0.0033 - acc: 0.9989 - val_loss: 0.1014 - val_acc: 0.9744\n",
      "Epoch 190/200\n",
      "12/12 [==============================] - 0s 30ms/step - loss: 0.0019 - acc: 1.0000 - val_loss: 0.1598 - val_acc: 0.9487\n",
      "Epoch 191/200\n",
      "12/12 [==============================] - 0s 30ms/step - loss: 0.0038 - acc: 0.9989 - val_loss: 0.1467 - val_acc: 0.9658\n",
      "Epoch 192/200\n",
      "12/12 [==============================] - 0s 31ms/step - loss: 0.0048 - acc: 0.9989 - val_loss: 0.1439 - val_acc: 0.9658\n",
      "Epoch 193/200\n",
      "12/12 [==============================] - 0s 30ms/step - loss: 0.0021 - acc: 0.9989 - val_loss: 0.1462 - val_acc: 0.9658\n",
      "Epoch 194/200\n",
      "12/12 [==============================] - 0s 32ms/step - loss: 0.0087 - acc: 0.9989 - val_loss: 0.1440 - val_acc: 0.9744\n",
      "Epoch 195/200\n",
      "12/12 [==============================] - 0s 35ms/step - loss: 0.0127 - acc: 0.9947 - val_loss: 0.7953 - val_acc: 0.9060\n",
      "Epoch 196/200\n",
      "12/12 [==============================] - 0s 36ms/step - loss: 0.0326 - acc: 0.9873 - val_loss: 0.2354 - val_acc: 0.9402\n",
      "Epoch 197/200\n",
      "12/12 [==============================] - 0s 37ms/step - loss: 0.0289 - acc: 0.9915 - val_loss: 0.1958 - val_acc: 0.9402\n",
      "Epoch 198/200\n",
      "12/12 [==============================] - 0s 34ms/step - loss: 0.0452 - acc: 0.9883 - val_loss: 0.3019 - val_acc: 0.9487\n",
      "Epoch 199/200\n",
      "12/12 [==============================] - 0s 31ms/step - loss: 0.0192 - acc: 0.9926 - val_loss: 0.3029 - val_acc: 0.9402\n",
      "Epoch 200/200\n",
      "12/12 [==============================] - 0s 32ms/step - loss: 0.0163 - acc: 0.9926 - val_loss: 0.1646 - val_acc: 0.9573\n"
     ]
    }
   ],
   "source": [
    "# Train\n",
    "history = model.fit(x_train, \n",
    "                    y_train, \n",
    "                    epochs=200,\n",
    "                    batch_size=80,\n",
    "                    validation_data=(x_val, y_val))"
   ]
  },
  {
   "cell_type": "code",
   "execution_count": 15,
   "metadata": {
    "colab": {
     "base_uri": "https://localhost:8080/",
     "height": 545
    },
    "executionInfo": {
     "elapsed": 1003,
     "status": "ok",
     "timestamp": 1623237367971,
     "user": {
      "displayName": "黃侯弼",
      "photoUrl": "",
      "userId": "02394864078410571973"
     },
     "user_tz": -480
    },
    "id": "UHFvFGu9DuDB",
    "outputId": "d91020e9-a37e-47d8-c204-00bf612c2908"
   },
   "outputs": [
    {
     "data": {
      "image/png": "[encoded data removed]",
      "text/plain": [
       "<Figure size 432x288 with 1 Axes>"
      ]
     },
     "metadata": {
      "needs_background": "light"
     },
     "output_type": "display_data"
    },
    {
     "data": {
      "image/png": "[encoded data removed]",
      "text/plain": [
       "<Figure size 432x288 with 1 Axes>"
      ]
     },
     "metadata": {
      "needs_background": "light"
     },
     "output_type": "display_data"
    }
   ],
   "source": [
    "# Plot results\n",
    "import matplotlib.pyplot as plt\n",
    "\n",
    "acc = history.history['acc']\n",
    "val_acc = history.history['val_acc']\n",
    "loss = history.history['loss']\n",
    "val_loss = history.history['val_loss']\n",
    "\n",
    "epochs = range(1, len(acc) + 1)\n",
    "\n",
    "plt.plot(epochs, acc, 'bo', label='Training acc')\n",
    "plt.plot(epochs, val_acc, 'b', label='Validation acc')\n",
    "plt.title('Training and validation accuracy')\n",
    "plt.legend()\n",
    "\n",
    "plt.figure()\n",
    "\n",
    "plt.plot(epochs, loss, 'bo', label='Training loss')\n",
    "plt.plot(epochs, val_loss, 'b', label='Validation loss')\n",
    "plt.title('Training and validation loss')\n",
    "plt.legend()\n",
    "\n",
    "plt.show()"
   ]
  },
  {
   "cell_type": "code",
   "execution_count": 16,
   "metadata": {
    "executionInfo": {
     "elapsed": 263,
     "status": "ok",
     "timestamp": 1623237370995,
     "user": {
      "displayName": "黃侯弼",
      "photoUrl": "",
      "userId": "02394864078410571973"
     },
     "user_tz": -480
    },
    "id": "mKcsAPK-DuDB"
   },
   "outputs": [],
   "source": [
    "# Save the model as a file\n",
    "#Test1.h5\n",
    "models.save_model(model, '/Users/Willie/16k_500ms.h5')"
   ]
  },
  {
   "cell_type": "code",
   "execution_count": 17,
   "metadata": {
    "colab": {
     "base_uri": "https://localhost:8080/"
    },
    "executionInfo": {
     "elapsed": 774,
     "status": "ok",
     "timestamp": 1623237372852,
     "user": {
      "displayName": "黃侯弼",
      "photoUrl": "",
      "userId": "02394864078410571973"
     },
     "user_tz": -480
    },
    "id": "rOAEZ7PKDuDC",
    "outputId": "ec42e9de-9b6c-4269-b804-bd8df580acf4",
    "scrolled": true
   },
   "outputs": [
    {
     "name": "stdout",
     "output_type": "stream",
     "text": [
      "Answer: 9.0  Prediction: [[1.0227880e-14 2.3573896e-09 3.3159067e-18 5.6263207e-07 2.9182697e-13\n",
      "  1.8513016e-11 3.4128142e-08 7.8497567e-07 4.8257166e-12 9.9988008e-01\n",
      "  8.5352080e-11 8.3774369e-11 1.8856309e-11 6.4905333e-07 1.1801099e-04\n",
      "  5.2713837e-11 5.0964617e-14 9.3181749e-14]]\n",
      "Answer: 4.0  Prediction: [[1.9032074e-15 5.2706978e-10 9.4955430e-09 1.1625999e-15 9.9999738e-01\n",
      "  5.0713027e-07 3.8616946e-11 1.7543572e-11 2.4231553e-14 7.7872301e-12\n",
      "  2.5805102e-09 3.0336367e-10 7.9298512e-11 2.7164248e-11 1.9826889e-10\n",
      "  2.0996224e-06 1.2341829e-10 1.1313061e-14]]\n",
      "Answer: 5.0  Prediction: [[0.0000000e+00 1.4478741e-26 1.7936907e-28 0.0000000e+00 2.0677789e-22\n",
      "  1.0000000e+00 0.0000000e+00 0.0000000e+00 6.9133573e-32 0.0000000e+00\n",
      "  0.0000000e+00 2.2732384e-37 0.0000000e+00 4.3019080e-34 5.8826716e-37\n",
      "  1.2135301e-25 0.0000000e+00 4.4239620e-34]]\n",
      "Answer: 5.0  Prediction: [[0.0000000e+00 1.3716882e-33 0.0000000e+00 0.0000000e+00 1.7023465e-33\n",
      "  1.0000000e+00 0.0000000e+00 0.0000000e+00 0.0000000e+00 0.0000000e+00\n",
      "  0.0000000e+00 0.0000000e+00 0.0000000e+00 0.0000000e+00 0.0000000e+00\n",
      "  2.7773693e-36 0.0000000e+00 0.0000000e+00]]\n",
      "Answer: 10.0  Prediction: [[3.5182707e-13 3.9011339e-14 1.4853796e-10 2.9055148e-14 2.1338023e-08\n",
      "  7.9931290e-08 1.4125820e-14 5.4154079e-05 1.7972963e-13 6.9814974e-12\n",
      "  9.9994445e-01 7.0546441e-10 1.0544197e-06 1.1042993e-14 1.2615064e-07\n",
      "  6.2446976e-09 6.0191427e-18 1.5657176e-07]]\n",
      "Answer: 12.0  Prediction: [[1.1084081e-12 4.4747161e-05 5.8288493e-16 4.3386794e-06 4.0409745e-10\n",
      "  8.9228121e-07 3.1234884e-09 1.7925784e-08 1.1404860e-13 3.4516823e-08\n",
      "  7.8422968e-10 4.1833273e-12 9.9737406e-01 1.0144341e-11 2.0180774e-08\n",
      "  2.5759412e-03 2.1447276e-08 5.0699093e-14]]\n",
      "Answer: 5.0  Prediction: [[9.28088075e-12 7.57672503e-09 3.49342582e-12 4.33951783e-07\n",
      "  5.13839851e-08 9.99843717e-01 1.88564080e-08 1.04538556e-08\n",
      "  1.97125746e-10 1.02278415e-10 9.64220925e-10 5.81171951e-11\n",
      "  4.83499392e-08 7.46745388e-10 5.50473778e-10 1.55725764e-04\n",
      "  5.17149878e-10 2.24781196e-12]]\n",
      "Answer: 5.0  Prediction: [[0.0000000e+00 2.0706658e-24 4.0125081e-36 0.0000000e+00 1.1132835e-25\n",
      "  1.0000000e+00 0.0000000e+00 0.0000000e+00 8.4539871e-33 0.0000000e+00\n",
      "  0.0000000e+00 5.9486678e-33 0.0000000e+00 0.0000000e+00 0.0000000e+00\n",
      "  1.5174717e-30 0.0000000e+00 0.0000000e+00]]\n",
      "Answer: 14.0  Prediction: [[1.9804437e-14 2.6678406e-11 2.8542362e-12 5.9016919e-08 2.7344828e-12\n",
      "  6.9748410e-08 6.9521779e-09 6.5599068e-07 2.7789821e-11 4.0343572e-08\n",
      "  1.0974691e-09 6.8906334e-09 2.7269064e-07 2.3541264e-12 9.9994791e-01\n",
      "  5.0986782e-05 1.3812335e-14 1.4162976e-16]]\n",
      "Answer: 5.0  Prediction: [[4.84383900e-33 1.52356358e-28 1.93850160e-29 1.68768898e-32\n",
      "  4.87738751e-23 1.00000000e+00 1.21174366e-34 5.87023146e-29\n",
      "  1.09326072e-30 7.51206377e-37 1.72887804e-25 1.00218328e-32\n",
      "  0.00000000e+00 1.05041295e-29 7.67002323e-29 2.21930963e-21\n",
      "  5.91940892e-37 8.97214357e-33]]\n"
     ]
    }
   ],
   "source": [
    "# TEST: Load model and run it against test set\n",
    "model = models.load_model('/Users/Willie/16k_500ms.h5')\n",
    "for i in range(0, 10):\n",
    "    print('Answer:', y_test[i], ' Prediction:', model.predict(np.expand_dims(x_test[i], 0)))"
   ]
  },
  {
   "cell_type": "code",
   "execution_count": 18,
   "metadata": {
    "colab": {
     "base_uri": "https://localhost:8080/"
    },
    "executionInfo": {
     "elapsed": 257,
     "status": "ok",
     "timestamp": 1623237375540,
     "user": {
      "displayName": "黃侯弼",
      "photoUrl": "",
      "userId": "02394864078410571973"
     },
     "user_tz": -480
    },
    "id": "F2N7VEDnDuDC",
    "outputId": "76a7172d-b0aa-46a9-c7fb-45f582e96cb6",
    "scrolled": true
   },
   "outputs": [
    {
     "name": "stdout",
     "output_type": "stream",
     "text": [
      "4/4 [==============================] - 0s 5ms/step - loss: 0.3742 - acc: 0.9487\n"
     ]
    },
    {
     "data": {
      "text/plain": [
       "[0.3742421865463257, 0.9487179517745972]"
      ]
     },
     "execution_count": 18,
     "metadata": {},
     "output_type": "execute_result"
    }
   ],
   "source": [
    "model.evaluate(x=x_test, y=y_test)"
   ]
  },
  {
   "cell_type": "code",
   "execution_count": 19,
   "metadata": {},
   "outputs": [
    {
     "name": "stdout",
     "output_type": "stream",
     "text": [
      "30/30 [==============================] - 0s 4ms/step - loss: 0.0061 - acc: 0.9968\n"
     ]
    },
    {
     "data": {
      "text/plain": [
       "[0.0061181290075182915, 0.9968152642250061]"
      ]
     },
     "execution_count": 19,
     "metadata": {},
     "output_type": "execute_result"
    }
   ],
   "source": [
    "model.evaluate(x=x_train, y=y_train)"
   ]
  },
  {
   "cell_type": "code",
   "execution_count": 20,
   "metadata": {},
   "outputs": [
    {
     "name": "stdout",
     "output_type": "stream",
     "text": [
      "4/4 [==============================] - 0s 6ms/step - loss: 0.1646 - acc: 0.9573\n"
     ]
    },
    {
     "data": {
      "text/plain": [
       "[0.16458706557750702, 0.9572649598121643]"
      ]
     },
     "execution_count": 20,
     "metadata": {},
     "output_type": "execute_result"
    }
   ],
   "source": [
    "model.evaluate(x=x_val, y=y_val)"
   ]
  }
 ],
 "metadata": {
  "accelerator": "GPU",
  "colab": {
   "collapsed_sections": [],
   "name": "Classifier.ipynb",
   "provenance": []
  },
  "kernelspec": {
   "display_name": "Python 3",
   "language": "python",
   "name": "python3"
  },
  "language_info": {
   "codemirror_mode": {
    "name": "ipython",
    "version": 3
   },
   "file_extension": ".py",
   "mimetype": "text/x-python",
   "name": "python",
   "nbconvert_exporter": "python",
   "pygments_lexer": "ipython3",
   "version": "3.8.5"
  }
 },
 "nbformat": 4,
 "nbformat_minor": 1
}
