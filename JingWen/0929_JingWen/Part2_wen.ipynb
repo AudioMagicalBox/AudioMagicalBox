{
 "cells": [
  {
   "cell_type": "code",
   "execution_count": 1,
   "metadata": {
    "executionInfo": {
     "elapsed": 428,
     "status": "ok",
     "timestamp": 1623236061470,
     "user": {
      "displayName": "黃侯弼",
      "photoUrl": "",
      "userId": "02394864078410571973"
     },
     "user_tz": -480
    },
    "id": "iVhpbtg0DuC5"
   },
   "outputs": [],
   "source": [
    "from os import listdir\n",
    "from os.path import isdir, join\n",
    "from tensorflow.keras import layers, models\n",
    "import numpy as np"
   ]
  },
  {
   "cell_type": "code",
   "execution_count": 2,
   "metadata": {
    "colab": {
     "base_uri": "https://localhost:8080/"
    },
    "executionInfo": {
     "elapsed": 5,
     "status": "ok",
     "timestamp": 1623236062585,
     "user": {
      "displayName": "黃侯弼",
      "photoUrl": "",
      "userId": "02394864078410571973"
     },
     "user_tz": -480
    },
    "id": "MZI1urklDuC6",
    "outputId": "9344224f-90ed-4d09-80e4-efd8c4bb7cac"
   },
   "outputs": [
    {
     "name": "stdout",
     "output_type": "stream",
     "text": [
      "['backgroundNoise', 'ㄏㄧㄡ', 'ㄟ', '他', '你', '吼', '啦', '嗯', '好', '我', '的', '的一個', '的這個', '的那個', '著', '那', '那那個', '阿']\n"
     ]
    }
   ],
   "source": [
    "# Create list of all targets (minus background noise)\n",
    "dataset_path = 'C:/Users/user/Desktop/recording2'\n",
    "all_targets = all_targets = [name for name in listdir(dataset_path) if isdir(join(dataset_path, name))]\n",
    "print(all_targets)"
   ]
  },
  {
   "cell_type": "code",
   "execution_count": 3,
   "metadata": {
    "executionInfo": {
     "elapsed": 301,
     "status": "ok",
     "timestamp": 1623236063859,
     "user": {
      "displayName": "黃侯弼",
      "photoUrl": "",
      "userId": "02394864078410571973"
     },
     "user_tz": -480
    },
    "id": "WgAcVkOeDuC6"
   },
   "outputs": [],
   "source": [
    "# Settings\n",
    "feature_sets_path = './'\n",
    "feature_sets_filename = '16k_wen.npz'\n",
    "#model_filename = 'wake_word_stop_model.h5'\n",
    "#wake_word = '嗯'"
   ]
  },
  {
   "cell_type": "code",
   "execution_count": 4,
   "metadata": {
    "colab": {
     "base_uri": "https://localhost:8080/"
    },
    "executionInfo": {
     "elapsed": 458,
     "status": "ok",
     "timestamp": 1623236065288,
     "user": {
      "displayName": "黃侯弼",
      "photoUrl": "",
      "userId": "02394864078410571973"
     },
     "user_tz": -480
    },
    "id": "rJUTXuiVDuC7",
    "outputId": "4a7c5275-1bcb-4f85-dd65-18bb4e2630c9"
   },
   "outputs": [
    {
     "name": "stdout",
     "output_type": "stream",
     "text": [
      "['x_train', 'y_train', 'x_val', 'y_val', 'x_test', 'y_test']\n"
     ]
    }
   ],
   "source": [
    "# Load feature sets\n",
    "feature_sets = np.load(join(feature_sets_path, feature_sets_filename))\n",
    "print(feature_sets.files)"
   ]
  },
  {
   "cell_type": "code",
   "execution_count": 5,
   "metadata": {
    "colab": {
     "base_uri": "https://localhost:8080/"
    },
    "executionInfo": {
     "elapsed": 3,
     "status": "ok",
     "timestamp": 1623236066162,
     "user": {
      "displayName": "黃侯弼",
      "photoUrl": "",
      "userId": "02394864078410571973"
     },
     "user_tz": -480
    },
    "id": "0MTc8hMZDuC7",
    "outputId": "287b9ce7-b503-472c-dc22-1cf446a74c77"
   },
   "outputs": [
    {
     "name": "stdout",
     "output_type": "stream",
     "text": [
      "[10.  2.  3. 11. 10. 15.  8. 14.  6.  7. 10. 11.  6.  0. 17.  6.  5.  5.\n",
      " 14.  8.  9.  3.  5.  8.  0.  4.  2. 11.  8. 12.  3. 13.  5. 15. 10. 16.\n",
      " 13.  7. 16.  8.  2.  0.  4.  1. 15. 15. 13. 14.  8.  1.  9.  7.  3.  6.\n",
      " 13. 13. 13. 10. 16.  5. 17.  0.  2. 11. 11. 16.  7. 10.  0.  5.  2. 12.]\n",
      "[ 6.  9.  3.  3.  1. 12. 17. 15. 16. 10. 13.  4. 11.  6.  6. 14. 15. 17.\n",
      "  8. 11. 13. 10.  4. 17.  1. 16.  0. 17.  8. 10. 15. 11.  2.  5.  7. 16.\n",
      "  2. 10. 15. 17.  4.  3.  3.  4.  8.  6.  1.  4.  6.  8. 17. 11.  4.  0.\n",
      "  0. 13.  5.  6.  1.  7. 17.  1. 15.  0. 14.  0.  9. 14. 15.  5.  3.  8.\n",
      "  7.  5. 13. 13. 10. 15. 13.  8.  8. 14. 10.  9.  3. 11.  8. 10.  0.  6.\n",
      " 14.  6. 13.  7.  4. 12.  5. 10.  6. 16.  2. 16. 14. 16. 10.  7.  3. 14.\n",
      "  2.  0. 13. 15. 16. 11.  1. 17. 10. 17.  6. 15. 16.  7. 15. 14. 10. 15.\n",
      "  9.  5. 10. 15.  1.  0. 10. 13.  1. 16.  1.  8.  2.  5.  2. 12.  3. 15.\n",
      " 10.  9.  7.  8.  7.  7.  0. 16.  9. 10. 13. 17.  7.  4.  2.  8.  1.  3.\n",
      "  5. 17.  8.  1.  9. 15.  5.  8. 11.  2.  6.  7.  7. 11.  1. 12.  9. 14.\n",
      "  2.  4. 12. 17.  8.  7. 13.  4.  7. 11.  9. 13. 10. 10. 16.  9. 12.  9.\n",
      "  1.  2.  5. 16.  4.  0.  9. 12. 15.  6.  9.  5. 14. 13. 16.  6.  8. 12.\n",
      " 11.  0. 13. 16. 13.  6.  6.  7.  6. 16.  3.  9.  2.  4.  4.  1. 17. 11.\n",
      "  1. 17. 14. 10.  0.  8. 12.  9.  1.  3.  5.  2.  3.  2. 14. 10.  9. 13.\n",
      "  4.  5.  3. 13. 12. 15.  0.  1. 17.  3. 16.  4. 11.  0.  3.  0.  9. 11.\n",
      " 17. 12.  1.  0.  8.  2. 16.  0. 13.  9. 15.  5.  8. 15.  6. 13.  5. 15.\n",
      "  1. 17. 15.  2. 17. 17. 17. 12.  3.  8.  9. 15.  7.  3. 16.  9. 14. 11.\n",
      "  7.  3.  5. 17.  7. 16. 16.  2.  4. 14.  9.  1.  0. 17. 17.  2.  8.  2.\n",
      "  0. 13.  8.  4.  9. 14. 13.  2. 13.  7.  4.  9. 16.  2.  7. 15. 15.  2.\n",
      "  0. 14.  3.  4.  7.  5. 15. 12.  9.  7.  2.  9. 12.  5. 12. 13. 12. 13.\n",
      " 10. 15.  1.  6. 14.  8.  7.  1.  4.  0.  5.  2. 10.  4.  2. 12.  8.  0.\n",
      "  6.  8. 10. 12.  7.  7.  0.  5.  0. 12. 16. 14.  8. 11.  8. 16.  3.  4.\n",
      " 13.  9. 14. 15. 11. 11.  9. 12.  1.  8. 12. 11.  4. 10.  4.  0.  9.  4.\n",
      "  7.  9. 14. 17. 15.  1.  6. 16.  2.  8. 15.  5.  2. 11.  8.  3. 16.  5.\n",
      " 13.  6.  7.  3.  4. 12. 11.  9.  2.  1. 13.  5. 16.  5. 10.  0. 13. 12.\n",
      " 10.  5.  5.  2. 13. 17.  1.  3. 12.  9. 12. 17. 15. 12.  1.  5. 10. 12.\n",
      " 11.  6. 14.  4. 11.  3. 16. 11.  5.  2.  4.  8.  3.  6.  3. 10.  9.  4.\n",
      "  4. 12.  9. 12. 14.  0.  7. 11.  7. 11.  4.  8.  5.  1.  2.  5.  6. 16.\n",
      "  1.  3.  1. 12. 16. 12.  0.  4. 15. 10. 14. 10. 14.  1. 17.  4. 14. 14.\n",
      " 10.  1. 11.  0.  6.  4.  8.  5.  5. 17.  2. 16. 15. 14.  2.  7.  3. 17.\n",
      " 17. 16.  3.  6.  6.  6. 16.  3. 14. 14. 11.  0.  0. 11.  0. 13.  6.  3.\n",
      "  5. 14. 12. 17. 17.  4.  1. 14. 15. 17.  6.  6. 17. 14.  7.  9. 10. 14.]\n",
      "[ 4.  7. 13. 12. 13. 12.  9. 17. 10.  1. 14.  9.  4.  0. 11.  6.  1.  6.\n",
      "  1.  7. 11.  0. 15.  8. 11. 11. 17. 11.  3. 12.  6. 14.  8. 12. 16.  4.\n",
      "  2. 10.  0.  2. 16. 10.  7. 17.  1.  6.  6.  3. 13. 16. 11. 15. 15.  7.\n",
      " 12.  1. 17. 14.  3.  2.  3.  5. 13.  9. 14. 12. 11.  9.  7.  3. 16. 15.]\n"
     ]
    }
   ],
   "source": [
    "# Assign feature sets\n",
    "x_train = feature_sets['x_train']\n",
    "y_train = feature_sets['y_train']\n",
    "x_val = feature_sets['x_val']\n",
    "y_val = feature_sets['y_val']\n",
    "x_test = feature_sets['x_test']\n",
    "y_test = feature_sets['y_test']\n",
    "print(y_test)\n",
    "print(y_train)\n",
    "print(y_val)"
   ]
  },
  {
   "cell_type": "code",
   "execution_count": 6,
   "metadata": {
    "colab": {
     "base_uri": "https://localhost:8080/"
    },
    "executionInfo": {
     "elapsed": 262,
     "status": "ok",
     "timestamp": 1623236068434,
     "user": {
      "displayName": "黃侯弼",
      "photoUrl": "",
      "userId": "02394864078410571973"
     },
     "user_tz": -480
    },
    "id": "r2XzOXwdDuC8",
    "outputId": "6d00862e-4d37-415c-b854-22b4cdd10698"
   },
   "outputs": [
    {
     "name": "stdout",
     "output_type": "stream",
     "text": [
      "(576, 23, 16)\n",
      "(72, 23, 16)\n",
      "(72, 23, 16)\n"
     ]
    }
   ],
   "source": [
    "# Look at tensor dimensions\n",
    "print(x_train.shape)\n",
    "print(x_val.shape)\n",
    "print(x_test.shape)"
   ]
  },
  {
   "cell_type": "code",
   "execution_count": 7,
   "metadata": {
    "colab": {
     "base_uri": "https://localhost:8080/"
    },
    "executionInfo": {
     "elapsed": 439,
     "status": "ok",
     "timestamp": 1623236069774,
     "user": {
      "displayName": "黃侯弼",
      "photoUrl": "",
      "userId": "02394864078410571973"
     },
     "user_tz": -480
    },
    "id": "N-l9zl-GDuC9",
    "outputId": "fd2762fb-1345-41d2-8108-985fcd157a52"
   },
   "outputs": [
    {
     "name": "stdout",
     "output_type": "stream",
     "text": [
      "[ 4.  7. 13. 12. 13. 12.  9. 17. 10.  1. 14.  9.  4.  0. 11.  6.  1.  6.\n",
      "  1.  7. 11.  0. 15.  8. 11. 11. 17. 11.  3. 12.  6. 14.  8. 12. 16.  4.\n",
      "  2. 10.  0.  2. 16. 10.  7. 17.  1.  6.  6.  3. 13. 16. 11. 15. 15.  7.\n",
      " 12.  1. 17. 14.  3.  2.  3.  5. 13.  9. 14. 12. 11.  9.  7.  3. 16. 15.]\n"
     ]
    }
   ],
   "source": [
    "# Peek at labels\n",
    "print(y_val)"
   ]
  },
  {
   "cell_type": "code",
   "execution_count": 8,
   "metadata": {
    "colab": {
     "base_uri": "https://localhost:8080/"
    },
    "executionInfo": {
     "elapsed": 4,
     "status": "ok",
     "timestamp": 1623236070623,
     "user": {
      "displayName": "黃侯弼",
      "photoUrl": "",
      "userId": "02394864078410571973"
     },
     "user_tz": -480
    },
    "id": "nY3RGYbPDuC-",
    "outputId": "deded680-fc57-4da6-c054-a4648b5007eb"
   },
   "outputs": [
    {
     "name": "stdout",
     "output_type": "stream",
     "text": [
      "[10.  2.  3. 11. 10. 15.  8. 14.  6.  7. 10. 11.  6.  0. 17.  6.  5.  5.\n",
      " 14.  8.  9.  3.  5.  8.  0.  4.  2. 11.  8. 12.  3. 13.  5. 15. 10. 16.\n",
      " 13.  7. 16.  8.  2.  0.  4.  1. 15. 15. 13. 14.  8.  1.  9.  7.  3.  6.\n",
      " 13. 13. 13. 10. 16.  5. 17.  0.  2. 11. 11. 16.  7. 10.  0.  5.  2. 12.]\n"
     ]
    }
   ],
   "source": [
    "# Peek at labels after conversion\n",
    "print(y_test)"
   ]
  },
  {
   "cell_type": "code",
   "execution_count": 9,
   "metadata": {
    "colab": {
     "base_uri": "https://localhost:8080/"
    },
    "executionInfo": {
     "elapsed": 5,
     "status": "ok",
     "timestamp": 1623236071679,
     "user": {
      "displayName": "黃侯弼",
      "photoUrl": "",
      "userId": "02394864078410571973"
     },
     "user_tz": -480
    },
    "id": "8I1_x2yvDuC-",
    "outputId": "0d138400-6662-4175-8a1f-f640e3f2bf6d"
   },
   "outputs": [
    {
     "name": "stdout",
     "output_type": "stream",
     "text": [
      "(576, 23, 16)\n"
     ]
    }
   ],
   "source": [
    "# View the dimensions of our input data\n",
    "print(x_train.shape)"
   ]
  },
  {
   "cell_type": "code",
   "execution_count": 10,
   "metadata": {
    "colab": {
     "base_uri": "https://localhost:8080/"
    },
    "executionInfo": {
     "elapsed": 4,
     "status": "ok",
     "timestamp": 1623236072760,
     "user": {
      "displayName": "黃侯弼",
      "photoUrl": "",
      "userId": "02394864078410571973"
     },
     "user_tz": -480
    },
    "id": "i_zQsgz4DuC_",
    "outputId": "94a9c63d-7b06-4e8f-8c10-2aaab2aebe64",
    "scrolled": true
   },
   "outputs": [
    {
     "name": "stdout",
     "output_type": "stream",
     "text": [
      "(576, 23, 16, 1)\n",
      "(72, 23, 16, 1)\n",
      "(72, 23, 16, 1)\n"
     ]
    }
   ],
   "source": [
    "# CNN for TF expects (batch, height, width, channels)\n",
    "# So we reshape the input tensors with a \"color\" channel of 1\n",
    "x_train = x_train.reshape(x_train.shape[0], \n",
    "                          x_train.shape[1], \n",
    "                          x_train.shape[2], \n",
    "                          1)\n",
    "x_val = x_val.reshape(x_val.shape[0], \n",
    "                      x_val.shape[1], \n",
    "                      x_val.shape[2], \n",
    "                      1)\n",
    "x_test = x_test.reshape(x_test.shape[0], \n",
    "                        x_test.shape[1], \n",
    "                        x_test.shape[2], \n",
    "                        1)\n",
    "print(x_train.shape)\n",
    "print(x_val.shape)\n",
    "print(x_test.shape)"
   ]
  },
  {
   "cell_type": "code",
   "execution_count": 11,
   "metadata": {
    "colab": {
     "base_uri": "https://localhost:8080/"
    },
    "executionInfo": {
     "elapsed": 281,
     "status": "ok",
     "timestamp": 1623236074651,
     "user": {
      "displayName": "黃侯弼",
      "photoUrl": "",
      "userId": "02394864078410571973"
     },
     "user_tz": -480
    },
    "id": "Ge2MCNusDuC_",
    "outputId": "7c995061-d01d-4a96-a14f-fbee6804b4d4"
   },
   "outputs": [
    {
     "name": "stdout",
     "output_type": "stream",
     "text": [
      "(23, 16, 1)\n"
     ]
    }
   ],
   "source": [
    "# Input shape for CNN is size of MFCC of 1 sample\n",
    "sample_shape = x_test.shape[1:]\n",
    "print(sample_shape)"
   ]
  },
  {
   "cell_type": "code",
   "execution_count": 12,
   "metadata": {
    "colab": {
     "base_uri": "https://localhost:8080/"
    },
    "executionInfo": {
     "elapsed": 264,
     "status": "ok",
     "timestamp": 1623237350948,
     "user": {
      "displayName": "黃侯弼",
      "photoUrl": "",
      "userId": "02394864078410571973"
     },
     "user_tz": -480
    },
    "id": "2JqUOHp9DuDA",
    "outputId": "cc676686-8778-47c0-d5eb-183d137369d2"
   },
   "outputs": [
    {
     "name": "stdout",
     "output_type": "stream",
     "text": [
      "Model: \"sequential\"\n",
      "_________________________________________________________________\n",
      "Layer (type)                 Output Shape              Param #   \n",
      "=================================================================\n",
      "conv2d (Conv2D)              (None, 22, 15, 32)        160       \n",
      "_________________________________________________________________\n",
      "max_pooling2d (MaxPooling2D) (None, 11, 7, 32)         0         \n",
      "_________________________________________________________________\n",
      "conv2d_1 (Conv2D)            (None, 10, 6, 64)         8256      \n",
      "_________________________________________________________________\n",
      "max_pooling2d_1 (MaxPooling2 (None, 5, 3, 64)          0         \n",
      "_________________________________________________________________\n",
      "conv2d_2 (Conv2D)            (None, 4, 2, 128)         32896     \n",
      "_________________________________________________________________\n",
      "max_pooling2d_2 (MaxPooling2 (None, 2, 1, 128)         0         \n",
      "_________________________________________________________________\n",
      "dropout (Dropout)            (None, 2, 1, 128)         0         \n",
      "_________________________________________________________________\n",
      "flatten (Flatten)            (None, 256)               0         \n",
      "_________________________________________________________________\n",
      "dense (Dense)                (None, 64)                16448     \n",
      "_________________________________________________________________\n",
      "dropout_1 (Dropout)          (None, 64)                0         \n",
      "_________________________________________________________________\n",
      "dense_1 (Dense)              (None, 18)                1170      \n",
      "=================================================================\n",
      "Total params: 58,930\n",
      "Trainable params: 58,930\n",
      "Non-trainable params: 0\n",
      "_________________________________________________________________\n"
     ]
    }
   ],
   "source": [
    "model = models.Sequential()\n",
    "model.add(layers.Conv2D(32, (2, 2), activation='relu',input_shape=sample_shape))\n",
    "model.add(layers.MaxPooling2D(pool_size=(2, 2)))\n",
    "\n",
    "\n",
    "model.add(layers.Conv2D(64, (2, 2), activation='relu'))#64\n",
    "model.add(layers.MaxPooling2D(pool_size=(2, 2)))\n",
    "\n",
    "model.add(layers.Conv2D(128, (2, 2), activation='relu'))\n",
    "model.add(layers.MaxPooling2D(pool_size=(2, 2)))\n",
    "model.add(layers.Dropout(0.05))\n",
    "\n",
    "# Classifier\n",
    "model.add(layers.Flatten())\n",
    "model.add(layers.Dense(64, activation='relu'))#64\n",
    "model.add(layers.Dropout(0.05))\n",
    "#model.add(layers.Dense(18, activation='sigmoid'))\n",
    "model.add(layers.Dense(18, activation='softmax'))\n",
    "# Display model\n",
    "model.summary()"
   ]
  },
  {
   "cell_type": "code",
   "execution_count": 13,
   "metadata": {
    "colab": {
     "base_uri": "https://localhost:8080/"
    },
    "executionInfo": {
     "elapsed": 402,
     "status": "ok",
     "timestamp": 1623237353164,
     "user": {
      "displayName": "黃侯弼",
      "photoUrl": "",
      "userId": "02394864078410571973"
     },
     "user_tz": -480
    },
    "id": "sp5WfpkJDuDA",
    "outputId": "e7c65039-b132-4490-ce02-0897a4ca9bdc"
   },
   "outputs": [],
   "source": [
    "from tensorflow.keras import optimizers\n",
    "# Add training parameters to model\n",
    "model.compile(loss='sparse_categorical_crossentropy', \n",
    "              optimizer='adam',    #'adam'\n",
    "              metrics=['acc'])"
   ]
  },
  {
   "cell_type": "code",
   "execution_count": 14,
   "metadata": {
    "colab": {
     "base_uri": "https://localhost:8080/"
    },
    "executionInfo": {
     "elapsed": 6626,
     "status": "ok",
     "timestamp": 1623237360783,
     "user": {
      "displayName": "黃侯弼",
      "photoUrl": "",
      "userId": "02394864078410571973"
     },
     "user_tz": -480
    },
    "id": "s46KMbZbDuDB",
    "outputId": "ff0b8470-8926-4dd5-bd90-db3c765b1d90",
    "scrolled": true
   },
   "outputs": [
    {
     "name": "stdout",
     "output_type": "stream",
     "text": [
      "Epoch 1/300\n",
      "12/12 [==============================] - 2s 87ms/step - loss: 2.9367 - acc: 0.0961 - val_loss: 2.7916 - val_acc: 0.1111\n",
      "Epoch 2/300\n",
      "12/12 [==============================] - 0s 13ms/step - loss: 2.7313 - acc: 0.1682 - val_loss: 2.5771 - val_acc: 0.1667\n",
      "Epoch 3/300\n",
      "12/12 [==============================] - 0s 12ms/step - loss: 2.4981 - acc: 0.1984 - val_loss: 2.3216 - val_acc: 0.1667\n",
      "Epoch 4/300\n",
      "12/12 [==============================] - 0s 13ms/step - loss: 2.2028 - acc: 0.2985 - val_loss: 1.9545 - val_acc: 0.4583\n",
      "Epoch 5/300\n",
      "12/12 [==============================] - 0s 14ms/step - loss: 1.8715 - acc: 0.4379 - val_loss: 1.6424 - val_acc: 0.5417\n",
      "Epoch 6/300\n",
      "12/12 [==============================] - 0s 13ms/step - loss: 1.5701 - acc: 0.5177 - val_loss: 1.1601 - val_acc: 0.7222\n",
      "Epoch 7/300\n",
      "12/12 [==============================] - 0s 13ms/step - loss: 1.2569 - acc: 0.6101 - val_loss: 0.9773 - val_acc: 0.6944\n",
      "Epoch 8/300\n",
      "12/12 [==============================] - 0s 13ms/step - loss: 1.0630 - acc: 0.6546 - val_loss: 0.8783 - val_acc: 0.6944\n",
      "Epoch 9/300\n",
      "12/12 [==============================] - 0s 14ms/step - loss: 0.8587 - acc: 0.7244 - val_loss: 0.6534 - val_acc: 0.8472\n",
      "Epoch 10/300\n",
      "12/12 [==============================] - 0s 13ms/step - loss: 0.7140 - acc: 0.7810 - val_loss: 0.5408 - val_acc: 0.7917\n",
      "Epoch 11/300\n",
      "12/12 [==============================] - 0s 16ms/step - loss: 0.5697 - acc: 0.8322 - val_loss: 0.4046 - val_acc: 0.9167\n",
      "Epoch 12/300\n",
      "12/12 [==============================] - 0s 16ms/step - loss: 0.4534 - acc: 0.8689 - val_loss: 0.4157 - val_acc: 0.8611\n",
      "Epoch 13/300\n",
      "12/12 [==============================] - 0s 16ms/step - loss: 0.4070 - acc: 0.8682 - val_loss: 0.3051 - val_acc: 0.8889\n",
      "Epoch 14/300\n",
      "12/12 [==============================] - 0s 18ms/step - loss: 0.3662 - acc: 0.9017 - val_loss: 0.2455 - val_acc: 0.9306\n",
      "Epoch 15/300\n",
      "12/12 [==============================] - 0s 16ms/step - loss: 0.3193 - acc: 0.9177 - val_loss: 0.2245 - val_acc: 0.9444\n",
      "Epoch 16/300\n",
      "12/12 [==============================] - 0s 18ms/step - loss: 0.2897 - acc: 0.9052 - val_loss: 0.2784 - val_acc: 0.9028\n",
      "Epoch 17/300\n",
      "12/12 [==============================] - 0s 20ms/step - loss: 0.2656 - acc: 0.9279 - val_loss: 0.2398 - val_acc: 0.9306\n",
      "Epoch 18/300\n",
      "12/12 [==============================] - 0s 20ms/step - loss: 0.2094 - acc: 0.9459 - val_loss: 0.1773 - val_acc: 0.9444\n",
      "Epoch 19/300\n",
      "12/12 [==============================] - 0s 21ms/step - loss: 0.2304 - acc: 0.9367 - val_loss: 0.2171 - val_acc: 0.9167\n",
      "Epoch 20/300\n",
      "12/12 [==============================] - 0s 19ms/step - loss: 0.1865 - acc: 0.9513 - val_loss: 0.1304 - val_acc: 0.9861\n",
      "Epoch 21/300\n",
      "12/12 [==============================] - 0s 16ms/step - loss: 0.2171 - acc: 0.9326 - val_loss: 0.1546 - val_acc: 0.9306\n",
      "Epoch 22/300\n",
      "12/12 [==============================] - 0s 14ms/step - loss: 0.1649 - acc: 0.9591 - val_loss: 0.1138 - val_acc: 0.9722\n",
      "Epoch 23/300\n",
      "12/12 [==============================] - 0s 14ms/step - loss: 0.1532 - acc: 0.9462 - val_loss: 0.1062 - val_acc: 0.9583\n",
      "Epoch 24/300\n",
      "12/12 [==============================] - 0s 14ms/step - loss: 0.1027 - acc: 0.9798 - val_loss: 0.1149 - val_acc: 0.9583\n",
      "Epoch 25/300\n",
      "12/12 [==============================] - 0s 12ms/step - loss: 0.1376 - acc: 0.9649 - val_loss: 0.0981 - val_acc: 0.9722\n",
      "Epoch 26/300\n",
      "12/12 [==============================] - 0s 14ms/step - loss: 0.0938 - acc: 0.9718 - val_loss: 0.1064 - val_acc: 0.9583\n",
      "Epoch 27/300\n",
      "12/12 [==============================] - 0s 15ms/step - loss: 0.1136 - acc: 0.9711 - val_loss: 0.0817 - val_acc: 0.9861\n",
      "Epoch 28/300\n",
      "12/12 [==============================] - 0s 14ms/step - loss: 0.0603 - acc: 0.9841 - val_loss: 0.0861 - val_acc: 0.9861\n",
      "Epoch 29/300\n",
      "12/12 [==============================] - 0s 13ms/step - loss: 0.0826 - acc: 0.9813 - val_loss: 0.0919 - val_acc: 0.9583\n",
      "Epoch 30/300\n",
      "12/12 [==============================] - 0s 14ms/step - loss: 0.0662 - acc: 0.9875 - val_loss: 0.0875 - val_acc: 0.9722\n",
      "Epoch 31/300\n",
      "12/12 [==============================] - 0s 13ms/step - loss: 0.0854 - acc: 0.9701 - val_loss: 0.1604 - val_acc: 0.9444\n",
      "Epoch 32/300\n",
      "12/12 [==============================] - 0s 14ms/step - loss: 0.0826 - acc: 0.9779 - val_loss: 0.1018 - val_acc: 0.9583\n",
      "Epoch 33/300\n",
      "12/12 [==============================] - 0s 13ms/step - loss: 0.0483 - acc: 0.9947 - val_loss: 0.0721 - val_acc: 0.9861\n",
      "Epoch 34/300\n",
      "12/12 [==============================] - 0s 13ms/step - loss: 0.0448 - acc: 0.9947 - val_loss: 0.1054 - val_acc: 0.9583\n",
      "Epoch 35/300\n",
      "12/12 [==============================] - 0s 14ms/step - loss: 0.0631 - acc: 0.9790 - val_loss: 0.1197 - val_acc: 0.9583\n",
      "Epoch 36/300\n",
      "12/12 [==============================] - 0s 14ms/step - loss: 0.0682 - acc: 0.9789 - val_loss: 0.1185 - val_acc: 0.9583\n",
      "Epoch 37/300\n",
      "12/12 [==============================] - 0s 14ms/step - loss: 0.0770 - acc: 0.9767 - val_loss: 0.1416 - val_acc: 0.9306\n",
      "Epoch 38/300\n",
      "12/12 [==============================] - 0s 14ms/step - loss: 0.0488 - acc: 0.9875 - val_loss: 0.1265 - val_acc: 0.9583\n",
      "Epoch 39/300\n",
      "12/12 [==============================] - 0s 13ms/step - loss: 0.0358 - acc: 0.9940 - val_loss: 0.0905 - val_acc: 0.9444\n",
      "Epoch 40/300\n",
      "12/12 [==============================] - 0s 14ms/step - loss: 0.0281 - acc: 0.9953 - val_loss: 0.0558 - val_acc: 0.9861\n",
      "Epoch 41/300\n",
      "12/12 [==============================] - 0s 13ms/step - loss: 0.0392 - acc: 0.9917 - val_loss: 0.1082 - val_acc: 0.9583\n",
      "Epoch 42/300\n",
      "12/12 [==============================] - 0s 14ms/step - loss: 0.0256 - acc: 0.9953 - val_loss: 0.0654 - val_acc: 0.9722\n",
      "Epoch 43/300\n",
      "12/12 [==============================] - 0s 14ms/step - loss: 0.0291 - acc: 0.9991 - val_loss: 0.0909 - val_acc: 0.9444\n",
      "Epoch 44/300\n",
      "12/12 [==============================] - 0s 14ms/step - loss: 0.0342 - acc: 0.9916 - val_loss: 0.1102 - val_acc: 0.9583\n",
      "Epoch 45/300\n",
      "12/12 [==============================] - 0s 14ms/step - loss: 0.0281 - acc: 0.9996 - val_loss: 0.0694 - val_acc: 0.9722\n",
      "Epoch 46/300\n",
      "12/12 [==============================] - 0s 13ms/step - loss: 0.0350 - acc: 0.9903 - val_loss: 0.0763 - val_acc: 0.9722\n",
      "Epoch 47/300\n",
      "12/12 [==============================] - 0s 14ms/step - loss: 0.0401 - acc: 0.9881 - val_loss: 0.0403 - val_acc: 0.9861\n",
      "Epoch 48/300\n",
      "12/12 [==============================] - 0s 14ms/step - loss: 0.0464 - acc: 0.9856 - val_loss: 0.0869 - val_acc: 0.9583\n",
      "Epoch 49/300\n",
      "12/12 [==============================] - 0s 14ms/step - loss: 0.0379 - acc: 0.9845 - val_loss: 0.0848 - val_acc: 0.9722\n",
      "Epoch 50/300\n",
      "12/12 [==============================] - 0s 12ms/step - loss: 0.0320 - acc: 0.9911 - val_loss: 0.1005 - val_acc: 0.9306\n",
      "Epoch 51/300\n",
      "12/12 [==============================] - 0s 14ms/step - loss: 0.0189 - acc: 0.9951 - val_loss: 0.0481 - val_acc: 0.9861\n",
      "Epoch 52/300\n",
      "12/12 [==============================] - 0s 14ms/step - loss: 0.0173 - acc: 0.9966 - val_loss: 0.0706 - val_acc: 0.9583\n",
      "Epoch 53/300\n",
      "12/12 [==============================] - 0s 13ms/step - loss: 0.0158 - acc: 0.9979 - val_loss: 0.0612 - val_acc: 0.9861\n",
      "Epoch 54/300\n",
      "12/12 [==============================] - 0s 13ms/step - loss: 0.0194 - acc: 0.9969 - val_loss: 0.1021 - val_acc: 0.9306\n",
      "Epoch 55/300\n",
      "12/12 [==============================] - 0s 14ms/step - loss: 0.0194 - acc: 0.9969 - val_loss: 0.0595 - val_acc: 0.9722\n",
      "Epoch 56/300\n",
      "12/12 [==============================] - 0s 15ms/step - loss: 0.0338 - acc: 0.9868 - val_loss: 0.0703 - val_acc: 0.9722\n",
      "Epoch 57/300\n",
      "12/12 [==============================] - 0s 14ms/step - loss: 0.0208 - acc: 0.9947 - val_loss: 0.0713 - val_acc: 0.9722\n",
      "Epoch 58/300\n",
      "12/12 [==============================] - 0s 14ms/step - loss: 0.0187 - acc: 0.9980 - val_loss: 0.0744 - val_acc: 0.9861\n",
      "Epoch 59/300\n",
      "12/12 [==============================] - 0s 12ms/step - loss: 0.0243 - acc: 0.9952 - val_loss: 0.0706 - val_acc: 0.9722\n",
      "Epoch 60/300\n",
      "12/12 [==============================] - 0s 14ms/step - loss: 0.0135 - acc: 0.9983 - val_loss: 0.1038 - val_acc: 0.9444\n",
      "Epoch 61/300\n",
      "12/12 [==============================] - 0s 14ms/step - loss: 0.0087 - acc: 1.0000 - val_loss: 0.0655 - val_acc: 0.9722\n",
      "Epoch 62/300\n"
     ]
    },
    {
     "name": "stdout",
     "output_type": "stream",
     "text": [
      "12/12 [==============================] - 0s 14ms/step - loss: 0.0157 - acc: 0.9938 - val_loss: 0.0673 - val_acc: 0.9722\n",
      "Epoch 63/300\n",
      "12/12 [==============================] - 0s 13ms/step - loss: 0.0116 - acc: 0.9979 - val_loss: 0.0675 - val_acc: 0.9583\n",
      "Epoch 64/300\n",
      "12/12 [==============================] - 0s 14ms/step - loss: 0.0059 - acc: 1.0000 - val_loss: 0.0736 - val_acc: 0.9583\n",
      "Epoch 65/300\n",
      "12/12 [==============================] - 0s 13ms/step - loss: 0.0076 - acc: 0.9993 - val_loss: 0.0728 - val_acc: 0.9722\n",
      "Epoch 66/300\n",
      "12/12 [==============================] - 0s 13ms/step - loss: 0.0047 - acc: 1.0000 - val_loss: 0.0896 - val_acc: 0.9583\n",
      "Epoch 67/300\n",
      "12/12 [==============================] - 0s 14ms/step - loss: 0.0088 - acc: 1.0000 - val_loss: 0.0828 - val_acc: 0.9583\n",
      "Epoch 68/300\n",
      "12/12 [==============================] - 0s 13ms/step - loss: 0.0079 - acc: 0.9983 - val_loss: 0.0595 - val_acc: 0.9583\n",
      "Epoch 69/300\n",
      "12/12 [==============================] - 0s 12ms/step - loss: 0.0087 - acc: 0.9983 - val_loss: 0.0518 - val_acc: 0.9722\n",
      "Epoch 70/300\n",
      "12/12 [==============================] - 0s 13ms/step - loss: 0.0102 - acc: 0.9980 - val_loss: 0.0956 - val_acc: 0.9722\n",
      "Epoch 71/300\n",
      "12/12 [==============================] - 0s 13ms/step - loss: 0.0227 - acc: 0.9944 - val_loss: 0.0781 - val_acc: 0.9722\n",
      "Epoch 72/300\n",
      "12/12 [==============================] - 0s 14ms/step - loss: 0.0177 - acc: 0.9931 - val_loss: 0.1240 - val_acc: 0.9306\n",
      "Epoch 73/300\n",
      "12/12 [==============================] - 0s 13ms/step - loss: 0.0123 - acc: 1.0000 - val_loss: 0.1829 - val_acc: 0.9306\n",
      "Epoch 74/300\n",
      "12/12 [==============================] - 0s 13ms/step - loss: 0.0120 - acc: 0.9969 - val_loss: 0.0965 - val_acc: 0.9583\n",
      "Epoch 75/300\n",
      "12/12 [==============================] - 0s 13ms/step - loss: 0.0093 - acc: 0.9991 - val_loss: 0.1478 - val_acc: 0.9306\n",
      "Epoch 76/300\n",
      "12/12 [==============================] - 0s 13ms/step - loss: 0.0068 - acc: 1.0000 - val_loss: 0.0577 - val_acc: 0.9583\n",
      "Epoch 77/300\n",
      "12/12 [==============================] - 0s 13ms/step - loss: 0.0273 - acc: 0.9936 - val_loss: 0.1062 - val_acc: 0.9583\n",
      "Epoch 78/300\n",
      "12/12 [==============================] - 0s 15ms/step - loss: 0.0443 - acc: 0.9867 - val_loss: 0.1409 - val_acc: 0.9444\n",
      "Epoch 79/300\n",
      "12/12 [==============================] - 0s 16ms/step - loss: 0.0358 - acc: 0.9850 - val_loss: 0.0767 - val_acc: 0.9444\n",
      "Epoch 80/300\n",
      "12/12 [==============================] - 0s 14ms/step - loss: 0.0243 - acc: 0.9921 - val_loss: 0.1147 - val_acc: 0.9722\n",
      "Epoch 81/300\n",
      "12/12 [==============================] - 0s 12ms/step - loss: 0.0305 - acc: 0.9895 - val_loss: 0.0569 - val_acc: 0.9722\n",
      "Epoch 82/300\n",
      "12/12 [==============================] - 0s 14ms/step - loss: 0.0290 - acc: 0.9882 - val_loss: 0.1000 - val_acc: 0.9444\n",
      "Epoch 83/300\n",
      "12/12 [==============================] - 0s 14ms/step - loss: 0.0133 - acc: 0.9958 - val_loss: 0.0737 - val_acc: 0.9583\n",
      "Epoch 84/300\n",
      "12/12 [==============================] - 0s 14ms/step - loss: 0.0259 - acc: 0.9945 - val_loss: 0.1359 - val_acc: 0.9583\n",
      "Epoch 85/300\n",
      "12/12 [==============================] - 0s 14ms/step - loss: 0.0394 - acc: 0.9862 - val_loss: 0.2637 - val_acc: 0.9444\n",
      "Epoch 86/300\n",
      "12/12 [==============================] - 0s 13ms/step - loss: 0.0717 - acc: 0.9796 - val_loss: 0.0673 - val_acc: 0.9722\n",
      "Epoch 87/300\n",
      "12/12 [==============================] - 0s 13ms/step - loss: 0.0300 - acc: 0.9892 - val_loss: 0.1770 - val_acc: 0.9583\n",
      "Epoch 88/300\n",
      "12/12 [==============================] - 0s 14ms/step - loss: 0.0304 - acc: 0.9908 - val_loss: 0.0480 - val_acc: 0.9861\n",
      "Epoch 89/300\n",
      "12/12 [==============================] - 0s 14ms/step - loss: 0.0243 - acc: 0.9954 - val_loss: 0.0598 - val_acc: 0.9722\n",
      "Epoch 90/300\n",
      "12/12 [==============================] - 0s 12ms/step - loss: 0.0279 - acc: 0.9924 - val_loss: 0.1086 - val_acc: 0.9583\n",
      "Epoch 91/300\n",
      "12/12 [==============================] - 0s 15ms/step - loss: 0.0089 - acc: 1.0000 - val_loss: 0.0692 - val_acc: 0.9583\n",
      "Epoch 92/300\n",
      "12/12 [==============================] - 0s 13ms/step - loss: 0.0069 - acc: 0.9983 - val_loss: 0.1312 - val_acc: 0.9306\n",
      "Epoch 93/300\n",
      "12/12 [==============================] - 0s 14ms/step - loss: 0.0078 - acc: 0.9997 - val_loss: 0.0307 - val_acc: 0.9861\n",
      "Epoch 94/300\n",
      "12/12 [==============================] - 0s 15ms/step - loss: 0.0060 - acc: 1.0000 - val_loss: 0.0694 - val_acc: 0.9722\n",
      "Epoch 95/300\n",
      "12/12 [==============================] - 0s 14ms/step - loss: 0.0068 - acc: 0.9989 - val_loss: 0.0650 - val_acc: 0.9583\n",
      "Epoch 96/300\n",
      "12/12 [==============================] - 0s 12ms/step - loss: 0.0068 - acc: 0.9991 - val_loss: 0.0201 - val_acc: 1.0000\n",
      "Epoch 97/300\n",
      "12/12 [==============================] - 0s 14ms/step - loss: 0.0029 - acc: 1.0000 - val_loss: 0.0241 - val_acc: 0.9861\n",
      "Epoch 98/300\n",
      "12/12 [==============================] - 0s 14ms/step - loss: 0.0054 - acc: 1.0000 - val_loss: 0.0314 - val_acc: 0.9861\n",
      "Epoch 99/300\n",
      "12/12 [==============================] - 0s 14ms/step - loss: 0.0033 - acc: 0.9991 - val_loss: 0.0160 - val_acc: 1.0000\n",
      "Epoch 100/300\n",
      "12/12 [==============================] - 0s 18ms/step - loss: 0.0071 - acc: 0.9976 - val_loss: 0.0214 - val_acc: 1.0000\n",
      "Epoch 101/300\n",
      "12/12 [==============================] - 0s 15ms/step - loss: 0.0218 - acc: 0.9857 - val_loss: 0.0869 - val_acc: 0.9722\n",
      "Epoch 102/300\n",
      "12/12 [==============================] - 0s 14ms/step - loss: 0.0118 - acc: 0.9977 - val_loss: 0.0277 - val_acc: 0.9861\n",
      "Epoch 103/300\n",
      "12/12 [==============================] - 0s 14ms/step - loss: 0.0070 - acc: 0.9974 - val_loss: 0.0277 - val_acc: 0.9861\n",
      "Epoch 104/300\n",
      "12/12 [==============================] - 0s 13ms/step - loss: 0.0025 - acc: 1.0000 - val_loss: 0.0190 - val_acc: 1.0000\n",
      "Epoch 105/300\n",
      "12/12 [==============================] - 0s 20ms/step - loss: 0.0027 - acc: 1.0000 - val_loss: 0.0330 - val_acc: 0.9861\n",
      "Epoch 106/300\n",
      "12/12 [==============================] - 0s 14ms/step - loss: 0.0047 - acc: 0.9993 - val_loss: 0.0220 - val_acc: 0.9861\n",
      "Epoch 107/300\n",
      "12/12 [==============================] - 0s 15ms/step - loss: 0.0059 - acc: 0.9986 - val_loss: 0.0424 - val_acc: 0.9722\n",
      "Epoch 108/300\n",
      "12/12 [==============================] - 0s 15ms/step - loss: 0.0043 - acc: 0.9994 - val_loss: 0.0660 - val_acc: 0.9722\n",
      "Epoch 109/300\n",
      "12/12 [==============================] - 0s 15ms/step - loss: 0.0023 - acc: 1.0000 - val_loss: 0.0435 - val_acc: 0.9861\n",
      "Epoch 110/300\n",
      "12/12 [==============================] - 0s 15ms/step - loss: 0.0039 - acc: 1.0000 - val_loss: 0.0345 - val_acc: 0.9861\n",
      "Epoch 111/300\n",
      "12/12 [==============================] - 0s 17ms/step - loss: 0.0055 - acc: 1.0000 - val_loss: 0.0228 - val_acc: 1.0000\n",
      "Epoch 112/300\n",
      "12/12 [==============================] - 0s 19ms/step - loss: 0.0023 - acc: 1.0000 - val_loss: 0.0275 - val_acc: 1.0000\n",
      "Epoch 113/300\n",
      "12/12 [==============================] - 0s 15ms/step - loss: 0.0017 - acc: 1.0000 - val_loss: 0.0227 - val_acc: 1.0000\n",
      "Epoch 114/300\n",
      "12/12 [==============================] - 0s 15ms/step - loss: 0.0038 - acc: 0.9991 - val_loss: 0.0157 - val_acc: 0.9861\n",
      "Epoch 115/300\n",
      "12/12 [==============================] - 0s 16ms/step - loss: 0.0062 - acc: 0.9979 - val_loss: 0.0647 - val_acc: 0.9861\n",
      "Epoch 116/300\n",
      "12/12 [==============================] - 0s 14ms/step - loss: 0.0089 - acc: 0.9954 - val_loss: 0.0406 - val_acc: 0.9861\n",
      "Epoch 117/300\n",
      "12/12 [==============================] - 0s 13ms/step - loss: 0.0093 - acc: 0.9949 - val_loss: 0.0431 - val_acc: 0.9722\n",
      "Epoch 118/300\n",
      "12/12 [==============================] - 0s 14ms/step - loss: 0.0079 - acc: 0.9991 - val_loss: 0.0625 - val_acc: 0.9722\n",
      "Epoch 119/300\n",
      "12/12 [==============================] - 0s 13ms/step - loss: 0.0069 - acc: 0.9979 - val_loss: 0.0159 - val_acc: 1.0000\n",
      "Epoch 120/300\n",
      "12/12 [==============================] - 0s 14ms/step - loss: 0.0073 - acc: 0.9970 - val_loss: 0.0315 - val_acc: 0.9861\n",
      "Epoch 121/300\n",
      "12/12 [==============================] - 0s 13ms/step - loss: 0.0046 - acc: 0.9996 - val_loss: 0.0152 - val_acc: 1.0000\n",
      "Epoch 122/300\n",
      "12/12 [==============================] - 0s 14ms/step - loss: 0.0036 - acc: 1.0000 - val_loss: 0.0143 - val_acc: 1.0000\n",
      "Epoch 123/300\n"
     ]
    },
    {
     "name": "stdout",
     "output_type": "stream",
     "text": [
      "12/12 [==============================] - 0s 13ms/step - loss: 0.0024 - acc: 1.0000 - val_loss: 0.0160 - val_acc: 1.0000\n",
      "Epoch 124/300\n",
      "12/12 [==============================] - 0s 13ms/step - loss: 0.0027 - acc: 1.0000 - val_loss: 0.0110 - val_acc: 1.0000\n",
      "Epoch 125/300\n",
      "12/12 [==============================] - 0s 13ms/step - loss: 0.0032 - acc: 1.0000 - val_loss: 0.0112 - val_acc: 1.0000\n",
      "Epoch 126/300\n",
      "12/12 [==============================] - 0s 14ms/step - loss: 0.0060 - acc: 0.9979 - val_loss: 0.0083 - val_acc: 1.0000\n",
      "Epoch 127/300\n",
      "12/12 [==============================] - 0s 16ms/step - loss: 0.0023 - acc: 0.9997 - val_loss: 0.0443 - val_acc: 0.9861\n",
      "Epoch 128/300\n",
      "12/12 [==============================] - 0s 18ms/step - loss: 0.0042 - acc: 0.9991 - val_loss: 0.0453 - val_acc: 0.9861\n",
      "Epoch 129/300\n",
      "12/12 [==============================] - 0s 18ms/step - loss: 0.0022 - acc: 1.0000 - val_loss: 0.1567 - val_acc: 0.9583\n",
      "Epoch 130/300\n",
      "12/12 [==============================] - 0s 14ms/step - loss: 0.0028 - acc: 1.0000 - val_loss: 0.0244 - val_acc: 0.9861\n",
      "Epoch 131/300\n",
      "12/12 [==============================] - 0s 15ms/step - loss: 0.0023 - acc: 1.0000 - val_loss: 0.0147 - val_acc: 1.0000\n",
      "Epoch 132/300\n",
      "12/12 [==============================] - 0s 16ms/step - loss: 0.0013 - acc: 1.0000 - val_loss: 0.0183 - val_acc: 1.0000\n",
      "Epoch 133/300\n",
      "12/12 [==============================] - 0s 13ms/step - loss: 0.0010 - acc: 1.0000 - val_loss: 0.0216 - val_acc: 0.9861\n",
      "Epoch 134/300\n",
      "12/12 [==============================] - 0s 12ms/step - loss: 0.0023 - acc: 0.9989 - val_loss: 0.0242 - val_acc: 1.0000\n",
      "Epoch 135/300\n",
      "12/12 [==============================] - 0s 16ms/step - loss: 0.0014 - acc: 1.0000 - val_loss: 0.0349 - val_acc: 0.9722\n",
      "Epoch 136/300\n",
      "12/12 [==============================] - 0s 18ms/step - loss: 0.0013 - acc: 0.9994 - val_loss: 0.0279 - val_acc: 0.9861\n",
      "Epoch 137/300\n",
      "12/12 [==============================] - 0s 16ms/step - loss: 0.0016 - acc: 1.0000 - val_loss: 0.0606 - val_acc: 0.9583\n",
      "Epoch 138/300\n",
      "12/12 [==============================] - 0s 17ms/step - loss: 0.0020 - acc: 1.0000 - val_loss: 0.0696 - val_acc: 0.9583\n",
      "Epoch 139/300\n",
      "12/12 [==============================] - 0s 15ms/step - loss: 0.0019 - acc: 1.0000 - val_loss: 0.0364 - val_acc: 0.9861\n",
      "Epoch 140/300\n",
      "12/12 [==============================] - 0s 21ms/step - loss: 9.3956e-04 - acc: 1.0000 - val_loss: 0.0268 - val_acc: 0.9861\n",
      "Epoch 141/300\n",
      "12/12 [==============================] - 0s 15ms/step - loss: 0.0023 - acc: 1.0000 - val_loss: 0.0253 - val_acc: 0.9861\n",
      "Epoch 142/300\n",
      "12/12 [==============================] - 0s 16ms/step - loss: 0.0025 - acc: 1.0000 - val_loss: 0.0302 - val_acc: 0.9861\n",
      "Epoch 143/300\n",
      "12/12 [==============================] - 0s 17ms/step - loss: 4.1029e-04 - acc: 1.0000 - val_loss: 0.0286 - val_acc: 0.9861\n",
      "Epoch 144/300\n",
      "12/12 [==============================] - 0s 13ms/step - loss: 8.4756e-04 - acc: 1.0000 - val_loss: 0.0203 - val_acc: 1.0000\n",
      "Epoch 145/300\n",
      "12/12 [==============================] - 0s 12ms/step - loss: 5.3581e-04 - acc: 1.0000 - val_loss: 0.0244 - val_acc: 0.9861\n",
      "Epoch 146/300\n",
      "12/12 [==============================] - 0s 12ms/step - loss: 0.0017 - acc: 0.9989 - val_loss: 0.0516 - val_acc: 0.9722\n",
      "Epoch 147/300\n",
      "12/12 [==============================] - 0s 12ms/step - loss: 0.0058 - acc: 0.9966 - val_loss: 0.0246 - val_acc: 0.9861\n",
      "Epoch 148/300\n",
      "12/12 [==============================] - 0s 15ms/step - loss: 0.0071 - acc: 1.0000 - val_loss: 0.0208 - val_acc: 0.9861\n",
      "Epoch 149/300\n",
      "12/12 [==============================] - 0s 13ms/step - loss: 0.0075 - acc: 0.9966 - val_loss: 0.0597 - val_acc: 0.9722\n",
      "Epoch 150/300\n",
      "12/12 [==============================] - 0s 12ms/step - loss: 0.0047 - acc: 0.9960 - val_loss: 0.0313 - val_acc: 0.9861\n",
      "Epoch 151/300\n",
      "12/12 [==============================] - 0s 12ms/step - loss: 0.0199 - acc: 0.9959 - val_loss: 0.0959 - val_acc: 0.9722\n",
      "Epoch 152/300\n",
      "12/12 [==============================] - 0s 11ms/step - loss: 0.0043 - acc: 1.0000 - val_loss: 0.0844 - val_acc: 0.9722\n",
      "Epoch 153/300\n",
      "12/12 [==============================] - 0s 12ms/step - loss: 0.0051 - acc: 0.9989 - val_loss: 0.1053 - val_acc: 0.9722\n",
      "Epoch 154/300\n",
      "12/12 [==============================] - 0s 12ms/step - loss: 0.0063 - acc: 0.9974 - val_loss: 0.0476 - val_acc: 0.9861\n",
      "Epoch 155/300\n",
      "12/12 [==============================] - 0s 12ms/step - loss: 0.0073 - acc: 0.9972 - val_loss: 0.0196 - val_acc: 0.9861\n",
      "Epoch 156/300\n",
      "12/12 [==============================] - 0s 16ms/step - loss: 0.0126 - acc: 0.9936 - val_loss: 0.0497 - val_acc: 0.9722\n",
      "Epoch 157/300\n",
      "12/12 [==============================] - 0s 13ms/step - loss: 0.0048 - acc: 0.9986 - val_loss: 0.0691 - val_acc: 0.9861\n",
      "Epoch 158/300\n",
      "12/12 [==============================] - 0s 12ms/step - loss: 0.0068 - acc: 0.9977 - val_loss: 0.1554 - val_acc: 0.9722\n",
      "Epoch 159/300\n",
      "12/12 [==============================] - 0s 12ms/step - loss: 0.0085 - acc: 0.9957 - val_loss: 0.0730 - val_acc: 0.9861\n",
      "Epoch 160/300\n",
      "12/12 [==============================] - 0s 16ms/step - loss: 0.0089 - acc: 0.9959 - val_loss: 0.0910 - val_acc: 0.9861\n",
      "Epoch 161/300\n",
      "12/12 [==============================] - 0s 17ms/step - loss: 0.0092 - acc: 0.9938 - val_loss: 0.1278 - val_acc: 0.9583\n",
      "Epoch 162/300\n",
      "12/12 [==============================] - 0s 13ms/step - loss: 0.0081 - acc: 0.9989 - val_loss: 0.0991 - val_acc: 0.9861\n",
      "Epoch 163/300\n",
      "12/12 [==============================] - 0s 12ms/step - loss: 0.0031 - acc: 1.0000 - val_loss: 0.0507 - val_acc: 0.9583\n",
      "Epoch 164/300\n",
      "12/12 [==============================] - 0s 12ms/step - loss: 0.0018 - acc: 1.0000 - val_loss: 0.0526 - val_acc: 0.9722\n",
      "Epoch 165/300\n",
      "12/12 [==============================] - 0s 12ms/step - loss: 0.0022 - acc: 1.0000 - val_loss: 0.0421 - val_acc: 0.9722\n",
      "Epoch 166/300\n",
      "12/12 [==============================] - 0s 12ms/step - loss: 0.0035 - acc: 1.0000 - val_loss: 0.0399 - val_acc: 0.9861\n",
      "Epoch 167/300\n",
      "12/12 [==============================] - 0s 12ms/step - loss: 0.0048 - acc: 0.9982 - val_loss: 0.0696 - val_acc: 0.9583\n",
      "Epoch 168/300\n",
      "12/12 [==============================] - 0s 12ms/step - loss: 0.0011 - acc: 1.0000 - val_loss: 0.0466 - val_acc: 0.9722\n",
      "Epoch 169/300\n",
      "12/12 [==============================] - 0s 12ms/step - loss: 0.0045 - acc: 0.9993 - val_loss: 0.0301 - val_acc: 0.9861\n",
      "Epoch 170/300\n",
      "12/12 [==============================] - 0s 11ms/step - loss: 0.0039 - acc: 0.9989 - val_loss: 0.0941 - val_acc: 0.9722\n",
      "Epoch 171/300\n",
      "12/12 [==============================] - 0s 12ms/step - loss: 0.0131 - acc: 0.9920 - val_loss: 0.0587 - val_acc: 0.9861\n",
      "Epoch 172/300\n",
      "12/12 [==============================] - 0s 12ms/step - loss: 0.0055 - acc: 0.9989 - val_loss: 0.0710 - val_acc: 0.9583\n",
      "Epoch 173/300\n",
      "12/12 [==============================] - 0s 12ms/step - loss: 0.0106 - acc: 0.9966 - val_loss: 0.0463 - val_acc: 0.9861\n",
      "Epoch 174/300\n",
      "12/12 [==============================] - 0s 16ms/step - loss: 0.0093 - acc: 0.9962 - val_loss: 0.1982 - val_acc: 0.9444\n",
      "Epoch 175/300\n",
      "12/12 [==============================] - 0s 15ms/step - loss: 0.0071 - acc: 0.9994 - val_loss: 0.0395 - val_acc: 0.9861\n",
      "Epoch 176/300\n",
      "12/12 [==============================] - 0s 12ms/step - loss: 0.0059 - acc: 1.0000 - val_loss: 0.0450 - val_acc: 0.9722\n",
      "Epoch 177/300\n",
      "12/12 [==============================] - 0s 13ms/step - loss: 0.0035 - acc: 1.0000 - val_loss: 0.0425 - val_acc: 0.9722\n",
      "Epoch 178/300\n",
      "12/12 [==============================] - 0s 17ms/step - loss: 0.0050 - acc: 1.0000 - val_loss: 0.0816 - val_acc: 0.9583\n",
      "Epoch 179/300\n",
      "12/12 [==============================] - 0s 11ms/step - loss: 0.0030 - acc: 0.9983 - val_loss: 0.0119 - val_acc: 1.0000\n",
      "Epoch 180/300\n",
      "12/12 [==============================] - 0s 12ms/step - loss: 0.0034 - acc: 1.0000 - val_loss: 0.0677 - val_acc: 0.9722\n",
      "Epoch 181/300\n",
      "12/12 [==============================] - 0s 11ms/step - loss: 0.0073 - acc: 0.9970 - val_loss: 0.0481 - val_acc: 0.9861\n",
      "Epoch 182/300\n",
      "12/12 [==============================] - 0s 11ms/step - loss: 0.0063 - acc: 1.0000 - val_loss: 0.0247 - val_acc: 0.9722\n",
      "Epoch 183/300\n",
      "12/12 [==============================] - 0s 12ms/step - loss: 0.0038 - acc: 0.9986 - val_loss: 0.1560 - val_acc: 0.9583\n",
      "Epoch 184/300\n"
     ]
    },
    {
     "name": "stdout",
     "output_type": "stream",
     "text": [
      "12/12 [==============================] - 0s 14ms/step - loss: 0.0081 - acc: 0.9987 - val_loss: 0.1278 - val_acc: 0.9722\n",
      "Epoch 185/300\n",
      "12/12 [==============================] - 0s 19ms/step - loss: 0.0134 - acc: 0.9973 - val_loss: 0.1356 - val_acc: 0.9583\n",
      "Epoch 186/300\n",
      "12/12 [==============================] - 0s 17ms/step - loss: 0.0175 - acc: 0.9930 - val_loss: 0.0628 - val_acc: 0.9861\n",
      "Epoch 187/300\n",
      "12/12 [==============================] - 0s 12ms/step - loss: 0.0153 - acc: 0.9953 - val_loss: 0.0600 - val_acc: 0.9722\n",
      "Epoch 188/300\n",
      "12/12 [==============================] - 0s 12ms/step - loss: 0.0288 - acc: 0.9934 - val_loss: 0.1588 - val_acc: 0.9167\n",
      "Epoch 189/300\n",
      "12/12 [==============================] - 0s 15ms/step - loss: 0.0389 - acc: 0.9819 - val_loss: 0.1167 - val_acc: 0.9722\n",
      "Epoch 190/300\n",
      "12/12 [==============================] - 0s 18ms/step - loss: 0.0351 - acc: 0.9913 - val_loss: 0.2045 - val_acc: 0.9306\n",
      "Epoch 191/300\n",
      "12/12 [==============================] - 0s 12ms/step - loss: 0.0202 - acc: 0.9945 - val_loss: 0.0922 - val_acc: 0.9722\n",
      "Epoch 192/300\n",
      "12/12 [==============================] - 0s 12ms/step - loss: 0.0517 - acc: 0.9931 - val_loss: 0.4200 - val_acc: 0.8750\n",
      "Epoch 193/300\n",
      "12/12 [==============================] - 0s 18ms/step - loss: 0.0769 - acc: 0.9793 - val_loss: 0.0302 - val_acc: 0.9861\n",
      "Epoch 194/300\n",
      "12/12 [==============================] - 0s 18ms/step - loss: 0.0316 - acc: 0.9911 - val_loss: 0.1986 - val_acc: 0.9444\n",
      "Epoch 195/300\n",
      "12/12 [==============================] - 0s 14ms/step - loss: 0.0173 - acc: 0.9956 - val_loss: 0.0705 - val_acc: 0.9722\n",
      "Epoch 196/300\n",
      "12/12 [==============================] - 0s 13ms/step - loss: 0.0124 - acc: 0.9951 - val_loss: 0.0552 - val_acc: 0.9722\n",
      "Epoch 197/300\n",
      "12/12 [==============================] - 0s 11ms/step - loss: 0.0050 - acc: 0.9986 - val_loss: 0.0755 - val_acc: 0.9583\n",
      "Epoch 198/300\n",
      "12/12 [==============================] - 0s 12ms/step - loss: 0.0028 - acc: 0.9996 - val_loss: 0.0496 - val_acc: 0.9861\n",
      "Epoch 199/300\n",
      "12/12 [==============================] - 0s 12ms/step - loss: 0.0046 - acc: 1.0000 - val_loss: 0.0636 - val_acc: 0.9722\n",
      "Epoch 200/300\n",
      "12/12 [==============================] - 0s 12ms/step - loss: 0.0033 - acc: 1.0000 - val_loss: 0.0689 - val_acc: 0.9861\n",
      "Epoch 201/300\n",
      "12/12 [==============================] - 0s 11ms/step - loss: 0.0038 - acc: 1.0000 - val_loss: 0.0580 - val_acc: 0.9722\n",
      "Epoch 202/300\n",
      "12/12 [==============================] - 0s 12ms/step - loss: 0.0068 - acc: 0.9944 - val_loss: 0.0639 - val_acc: 0.9722\n",
      "Epoch 203/300\n",
      "12/12 [==============================] - 0s 12ms/step - loss: 0.0013 - acc: 1.0000 - val_loss: 0.0363 - val_acc: 0.9861\n",
      "Epoch 204/300\n",
      "12/12 [==============================] - 0s 12ms/step - loss: 0.0048 - acc: 0.9983 - val_loss: 0.0611 - val_acc: 0.9583\n",
      "Epoch 205/300\n",
      "12/12 [==============================] - 0s 13ms/step - loss: 0.0019 - acc: 1.0000 - val_loss: 0.0890 - val_acc: 0.9583\n",
      "Epoch 206/300\n",
      "12/12 [==============================] - 0s 13ms/step - loss: 7.5747e-04 - acc: 1.0000 - val_loss: 0.0820 - val_acc: 0.9583\n",
      "Epoch 207/300\n",
      "12/12 [==============================] - 0s 13ms/step - loss: 0.0011 - acc: 1.0000 - val_loss: 0.0463 - val_acc: 0.9722\n",
      "Epoch 208/300\n",
      "12/12 [==============================] - 0s 13ms/step - loss: 0.0011 - acc: 1.0000 - val_loss: 0.0308 - val_acc: 0.9722\n",
      "Epoch 209/300\n",
      "12/12 [==============================] - 0s 13ms/step - loss: 9.0353e-04 - acc: 1.0000 - val_loss: 0.0153 - val_acc: 1.0000\n",
      "Epoch 210/300\n",
      "12/12 [==============================] - 0s 13ms/step - loss: 5.7421e-04 - acc: 1.0000 - val_loss: 0.0154 - val_acc: 1.0000\n",
      "Epoch 211/300\n",
      "12/12 [==============================] - 0s 13ms/step - loss: 7.3352e-04 - acc: 1.0000 - val_loss: 0.0178 - val_acc: 1.0000\n",
      "Epoch 212/300\n",
      "12/12 [==============================] - 0s 13ms/step - loss: 6.4349e-04 - acc: 1.0000 - val_loss: 0.0193 - val_acc: 0.9861\n",
      "Epoch 213/300\n",
      "12/12 [==============================] - 0s 12ms/step - loss: 4.7363e-04 - acc: 1.0000 - val_loss: 0.0163 - val_acc: 1.0000\n",
      "Epoch 214/300\n",
      "12/12 [==============================] - 0s 12ms/step - loss: 5.0619e-04 - acc: 1.0000 - val_loss: 0.0136 - val_acc: 1.0000\n",
      "Epoch 215/300\n",
      "12/12 [==============================] - 0s 13ms/step - loss: 5.9270e-04 - acc: 1.0000 - val_loss: 0.0170 - val_acc: 0.9861\n",
      "Epoch 216/300\n",
      "12/12 [==============================] - 0s 12ms/step - loss: 2.9342e-04 - acc: 1.0000 - val_loss: 0.0451 - val_acc: 0.9722\n",
      "Epoch 217/300\n",
      "12/12 [==============================] - 0s 12ms/step - loss: 8.8748e-04 - acc: 1.0000 - val_loss: 0.0502 - val_acc: 0.9722\n",
      "Epoch 218/300\n",
      "12/12 [==============================] - 0s 11ms/step - loss: 4.0658e-04 - acc: 1.0000 - val_loss: 0.0411 - val_acc: 0.9722\n",
      "Epoch 219/300\n",
      "12/12 [==============================] - 0s 12ms/step - loss: 0.0011 - acc: 0.9997 - val_loss: 0.0264 - val_acc: 0.9861\n",
      "Epoch 220/300\n",
      "12/12 [==============================] - 0s 13ms/step - loss: 0.0048 - acc: 0.9979 - val_loss: 0.0380 - val_acc: 0.9861\n",
      "Epoch 221/300\n",
      "12/12 [==============================] - 0s 12ms/step - loss: 0.0010 - acc: 1.0000 - val_loss: 0.0409 - val_acc: 0.9861\n",
      "Epoch 222/300\n",
      "12/12 [==============================] - 0s 13ms/step - loss: 0.0020 - acc: 1.0000 - val_loss: 0.0507 - val_acc: 0.9722\n",
      "Epoch 223/300\n",
      "12/12 [==============================] - 0s 12ms/step - loss: 0.0018 - acc: 1.0000 - val_loss: 0.0673 - val_acc: 0.9722\n",
      "Epoch 224/300\n",
      "12/12 [==============================] - 0s 12ms/step - loss: 0.0030 - acc: 0.9986 - val_loss: 0.1079 - val_acc: 0.9722\n",
      "Epoch 225/300\n",
      "12/12 [==============================] - 0s 12ms/step - loss: 0.0051 - acc: 1.0000 - val_loss: 0.0359 - val_acc: 0.9861\n",
      "Epoch 226/300\n",
      "12/12 [==============================] - 0s 20ms/step - loss: 0.0024 - acc: 0.9994 - val_loss: 0.0501 - val_acc: 0.9722\n",
      "Epoch 227/300\n",
      "12/12 [==============================] - 0s 15ms/step - loss: 0.0035 - acc: 0.9991 - val_loss: 0.1297 - val_acc: 0.9583\n",
      "Epoch 228/300\n",
      "12/12 [==============================] - 0s 12ms/step - loss: 0.0044 - acc: 0.9993 - val_loss: 0.0405 - val_acc: 1.0000\n",
      "Epoch 229/300\n",
      "12/12 [==============================] - 0s 12ms/step - loss: 0.0013 - acc: 1.0000 - val_loss: 0.0271 - val_acc: 1.0000\n",
      "Epoch 230/300\n",
      "12/12 [==============================] - 0s 12ms/step - loss: 0.0016 - acc: 1.0000 - val_loss: 0.0253 - val_acc: 0.9861\n",
      "Epoch 231/300\n",
      "12/12 [==============================] - 0s 11ms/step - loss: 0.0034 - acc: 0.9994 - val_loss: 0.0364 - val_acc: 0.9861\n",
      "Epoch 232/300\n",
      "12/12 [==============================] - 0s 12ms/step - loss: 0.0015 - acc: 1.0000 - val_loss: 0.0451 - val_acc: 0.9722\n",
      "Epoch 233/300\n",
      "12/12 [==============================] - 0s 12ms/step - loss: 9.7170e-04 - acc: 1.0000 - val_loss: 0.0249 - val_acc: 1.0000\n",
      "Epoch 234/300\n",
      "12/12 [==============================] - 0s 11ms/step - loss: 0.0023 - acc: 0.9993 - val_loss: 0.0045 - val_acc: 1.0000\n",
      "Epoch 235/300\n",
      "12/12 [==============================] - 0s 12ms/step - loss: 0.0120 - acc: 0.9958 - val_loss: 0.1753 - val_acc: 0.9444\n",
      "Epoch 236/300\n",
      "12/12 [==============================] - 0s 12ms/step - loss: 0.0257 - acc: 0.9892 - val_loss: 0.2459 - val_acc: 0.9444\n",
      "Epoch 237/300\n",
      "12/12 [==============================] - 0s 14ms/step - loss: 0.0234 - acc: 0.9919 - val_loss: 0.0498 - val_acc: 0.9861\n",
      "Epoch 238/300\n",
      "12/12 [==============================] - 0s 18ms/step - loss: 0.0310 - acc: 0.9911 - val_loss: 0.1116 - val_acc: 0.9583\n",
      "Epoch 239/300\n",
      "12/12 [==============================] - 0s 11ms/step - loss: 0.0296 - acc: 0.9933 - val_loss: 0.0256 - val_acc: 0.9861\n",
      "Epoch 240/300\n",
      "12/12 [==============================] - 0s 12ms/step - loss: 0.0118 - acc: 0.9968 - val_loss: 0.1518 - val_acc: 0.9306\n",
      "Epoch 241/300\n",
      "12/12 [==============================] - 0s 12ms/step - loss: 0.0125 - acc: 0.9953 - val_loss: 0.0839 - val_acc: 0.9444\n",
      "Epoch 242/300\n",
      "12/12 [==============================] - 0s 11ms/step - loss: 0.0045 - acc: 0.9979 - val_loss: 0.0294 - val_acc: 0.9861\n",
      "Epoch 243/300\n",
      "12/12 [==============================] - 0s 12ms/step - loss: 0.0064 - acc: 0.9979 - val_loss: 0.0507 - val_acc: 0.9861\n",
      "Epoch 244/300\n",
      "12/12 [==============================] - 0s 12ms/step - loss: 0.0037 - acc: 0.9991 - val_loss: 0.0817 - val_acc: 0.9861\n"
     ]
    },
    {
     "name": "stdout",
     "output_type": "stream",
     "text": [
      "Epoch 245/300\n",
      "12/12 [==============================] - 0s 12ms/step - loss: 0.0018 - acc: 1.0000 - val_loss: 0.0397 - val_acc: 0.9861\n",
      "Epoch 246/300\n",
      "12/12 [==============================] - 0s 21ms/step - loss: 0.0013 - acc: 1.0000 - val_loss: 0.0187 - val_acc: 0.9861\n",
      "Epoch 247/300\n",
      "12/12 [==============================] - 0s 17ms/step - loss: 0.0016 - acc: 1.0000 - val_loss: 0.0646 - val_acc: 0.9861\n",
      "Epoch 248/300\n",
      "12/12 [==============================] - 0s 18ms/step - loss: 2.7602e-04 - acc: 1.0000 - val_loss: 0.1098 - val_acc: 0.9861\n",
      "Epoch 249/300\n",
      "12/12 [==============================] - 0s 20ms/step - loss: 8.7780e-04 - acc: 1.0000 - val_loss: 0.0973 - val_acc: 0.9861\n",
      "Epoch 250/300\n",
      "12/12 [==============================] - 0s 12ms/step - loss: 2.9527e-04 - acc: 1.0000 - val_loss: 0.0672 - val_acc: 0.9861\n",
      "Epoch 251/300\n",
      "12/12 [==============================] - 0s 12ms/step - loss: 0.0014 - acc: 0.9993 - val_loss: 0.0821 - val_acc: 0.9861\n",
      "Epoch 252/300\n",
      "12/12 [==============================] - 0s 12ms/step - loss: 0.0022 - acc: 0.9983 - val_loss: 0.0293 - val_acc: 0.9861\n",
      "Epoch 253/300\n",
      "12/12 [==============================] - 0s 12ms/step - loss: 7.0056e-04 - acc: 1.0000 - val_loss: 0.0081 - val_acc: 1.0000\n",
      "Epoch 254/300\n",
      "12/12 [==============================] - 0s 18ms/step - loss: 0.0058 - acc: 0.9986 - val_loss: 0.2019 - val_acc: 0.9722\n",
      "Epoch 255/300\n",
      "12/12 [==============================] - 0s 17ms/step - loss: 0.0156 - acc: 0.9974 - val_loss: 0.0298 - val_acc: 0.9861\n",
      "Epoch 256/300\n",
      "12/12 [==============================] - 0s 11ms/step - loss: 0.0018 - acc: 1.0000 - val_loss: 0.0322 - val_acc: 0.9861\n",
      "Epoch 257/300\n",
      "12/12 [==============================] - 0s 11ms/step - loss: 0.0015 - acc: 1.0000 - val_loss: 0.1303 - val_acc: 0.9583\n",
      "Epoch 258/300\n",
      "12/12 [==============================] - 0s 13ms/step - loss: 0.0035 - acc: 0.9983 - val_loss: 0.0271 - val_acc: 0.9861\n",
      "Epoch 259/300\n",
      "12/12 [==============================] - 0s 13ms/step - loss: 8.7492e-04 - acc: 1.0000 - val_loss: 0.0361 - val_acc: 0.9861\n",
      "Epoch 260/300\n",
      "12/12 [==============================] - 0s 17ms/step - loss: 0.0073 - acc: 0.9951 - val_loss: 0.0640 - val_acc: 0.9583\n",
      "Epoch 261/300\n",
      "12/12 [==============================] - 0s 17ms/step - loss: 0.0044 - acc: 0.9966 - val_loss: 0.0159 - val_acc: 0.9861\n",
      "Epoch 262/300\n",
      "12/12 [==============================] - 0s 16ms/step - loss: 6.3544e-04 - acc: 1.0000 - val_loss: 0.0058 - val_acc: 1.0000\n",
      "Epoch 263/300\n",
      "12/12 [==============================] - 0s 15ms/step - loss: 0.0017 - acc: 1.0000 - val_loss: 0.1065 - val_acc: 0.9722\n",
      "Epoch 264/300\n",
      "12/12 [==============================] - 0s 12ms/step - loss: 0.0045 - acc: 0.9983 - val_loss: 0.0326 - val_acc: 0.9861\n",
      "Epoch 265/300\n",
      "12/12 [==============================] - 0s 12ms/step - loss: 0.0043 - acc: 0.9972 - val_loss: 0.1656 - val_acc: 0.9444\n",
      "Epoch 266/300\n",
      "12/12 [==============================] - 0s 14ms/step - loss: 0.0231 - acc: 0.9931 - val_loss: 0.1873 - val_acc: 0.9722\n",
      "Epoch 267/300\n",
      "12/12 [==============================] - 0s 19ms/step - loss: 0.0147 - acc: 0.9925 - val_loss: 0.2581 - val_acc: 0.9306\n",
      "Epoch 268/300\n",
      "12/12 [==============================] - 0s 12ms/step - loss: 0.0153 - acc: 0.9961 - val_loss: 0.0347 - val_acc: 0.9861\n",
      "Epoch 269/300\n",
      "12/12 [==============================] - 0s 11ms/step - loss: 0.0044 - acc: 1.0000 - val_loss: 0.0167 - val_acc: 1.0000\n",
      "Epoch 270/300\n",
      "12/12 [==============================] - 0s 12ms/step - loss: 0.0017 - acc: 0.9993 - val_loss: 0.0137 - val_acc: 1.0000\n",
      "Epoch 271/300\n",
      "12/12 [==============================] - 0s 12ms/step - loss: 0.0208 - acc: 0.9991 - val_loss: 0.0671 - val_acc: 0.9583\n",
      "Epoch 272/300\n",
      "12/12 [==============================] - 0s 12ms/step - loss: 0.0081 - acc: 0.9972 - val_loss: 0.0238 - val_acc: 0.9861\n",
      "Epoch 273/300\n",
      "12/12 [==============================] - 0s 11ms/step - loss: 0.0036 - acc: 0.9974 - val_loss: 0.0996 - val_acc: 0.9583\n",
      "Epoch 274/300\n",
      "12/12 [==============================] - 0s 12ms/step - loss: 0.0060 - acc: 0.9953 - val_loss: 0.1298 - val_acc: 0.9722\n",
      "Epoch 275/300\n",
      "12/12 [==============================] - 0s 12ms/step - loss: 0.0130 - acc: 0.9953 - val_loss: 0.0929 - val_acc: 0.9444\n",
      "Epoch 276/300\n",
      "12/12 [==============================] - 0s 12ms/step - loss: 8.1592e-04 - acc: 1.0000 - val_loss: 0.0885 - val_acc: 0.9583\n",
      "Epoch 277/300\n",
      "12/12 [==============================] - 0s 12ms/step - loss: 0.0101 - acc: 0.9979 - val_loss: 0.0198 - val_acc: 1.0000\n",
      "Epoch 278/300\n",
      "12/12 [==============================] - 0s 12ms/step - loss: 0.0012 - acc: 1.0000 - val_loss: 0.0282 - val_acc: 0.9861\n",
      "Epoch 279/300\n",
      "12/12 [==============================] - 0s 16ms/step - loss: 0.0016 - acc: 1.0000 - val_loss: 0.0260 - val_acc: 0.9861\n",
      "Epoch 280/300\n",
      "12/12 [==============================] - 0s 15ms/step - loss: 2.8794e-04 - acc: 1.0000 - val_loss: 0.0219 - val_acc: 1.0000\n",
      "Epoch 281/300\n",
      "12/12 [==============================] - 0s 19ms/step - loss: 3.0235e-04 - acc: 1.0000 - val_loss: 0.0186 - val_acc: 1.0000\n",
      "Epoch 282/300\n",
      "12/12 [==============================] - 0s 17ms/step - loss: 8.9009e-04 - acc: 1.0000 - val_loss: 0.0106 - val_acc: 1.0000\n",
      "Epoch 283/300\n",
      "12/12 [==============================] - 0s 20ms/step - loss: 0.0028 - acc: 0.9983 - val_loss: 0.0849 - val_acc: 0.9722\n",
      "Epoch 284/300\n",
      "12/12 [==============================] - 0s 16ms/step - loss: 0.0047 - acc: 0.9989 - val_loss: 0.0745 - val_acc: 0.9722\n",
      "Epoch 285/300\n",
      "12/12 [==============================] - 0s 14ms/step - loss: 0.0054 - acc: 0.9974 - val_loss: 0.1645 - val_acc: 0.9583\n",
      "Epoch 286/300\n",
      "12/12 [==============================] - 0s 13ms/step - loss: 0.0042 - acc: 0.9979 - val_loss: 0.1029 - val_acc: 0.9861\n",
      "Epoch 287/300\n",
      "12/12 [==============================] - 0s 14ms/step - loss: 0.0024 - acc: 0.9986 - val_loss: 0.0624 - val_acc: 0.9861\n",
      "Epoch 288/300\n",
      "12/12 [==============================] - 0s 14ms/step - loss: 0.0019 - acc: 1.0000 - val_loss: 0.0274 - val_acc: 0.9861\n",
      "Epoch 289/300\n",
      "12/12 [==============================] - 0s 14ms/step - loss: 0.0012 - acc: 1.0000 - val_loss: 0.0324 - val_acc: 0.9861\n",
      "Epoch 290/300\n",
      "12/12 [==============================] - 0s 15ms/step - loss: 0.0011 - acc: 1.0000 - val_loss: 0.1290 - val_acc: 0.9861\n",
      "Epoch 291/300\n",
      "12/12 [==============================] - 0s 16ms/step - loss: 0.0017 - acc: 1.0000 - val_loss: 0.1537 - val_acc: 0.9722\n",
      "Epoch 292/300\n",
      "12/12 [==============================] - 0s 15ms/step - loss: 3.3253e-04 - acc: 1.0000 - val_loss: 0.1068 - val_acc: 0.9861\n",
      "Epoch 293/300\n",
      "12/12 [==============================] - 0s 20ms/step - loss: 6.4282e-04 - acc: 1.0000 - val_loss: 0.0532 - val_acc: 0.9861\n",
      "Epoch 294/300\n",
      "12/12 [==============================] - 0s 14ms/step - loss: 5.2914e-04 - acc: 1.0000 - val_loss: 0.0176 - val_acc: 1.0000\n",
      "Epoch 295/300\n",
      "12/12 [==============================] - 0s 12ms/step - loss: 0.0017 - acc: 0.9983 - val_loss: 0.0859 - val_acc: 0.9861\n",
      "Epoch 296/300\n",
      "12/12 [==============================] - 0s 19ms/step - loss: 9.4687e-04 - acc: 1.0000 - val_loss: 0.1095 - val_acc: 0.9861\n",
      "Epoch 297/300\n",
      "12/12 [==============================] - 0s 20ms/step - loss: 6.3703e-04 - acc: 1.0000 - val_loss: 0.1033 - val_acc: 0.9861\n",
      "Epoch 298/300\n",
      "12/12 [==============================] - 0s 17ms/step - loss: 2.2864e-04 - acc: 1.0000 - val_loss: 0.0922 - val_acc: 0.9861\n",
      "Epoch 299/300\n",
      "12/12 [==============================] - 0s 15ms/step - loss: 5.3482e-04 - acc: 1.0000 - val_loss: 0.0708 - val_acc: 0.9861\n",
      "Epoch 300/300\n",
      "12/12 [==============================] - 0s 19ms/step - loss: 0.0017 - acc: 1.0000 - val_loss: 0.0187 - val_acc: 1.0000\n"
     ]
    }
   ],
   "source": [
    "# Train\n",
    "history = model.fit(x_train, \n",
    "                    y_train, \n",
    "                    epochs=300,\n",
    "                    batch_size=50,\n",
    "                    validation_data=(x_val, y_val))"
   ]
  },
  {
   "cell_type": "code",
   "execution_count": 15,
   "metadata": {
    "colab": {
     "base_uri": "https://localhost:8080/",
     "height": 545
    },
    "executionInfo": {
     "elapsed": 1003,
     "status": "ok",
     "timestamp": 1623237367971,
     "user": {
      "displayName": "黃侯弼",
      "photoUrl": "",
      "userId": "02394864078410571973"
     },
     "user_tz": -480
    },
    "id": "UHFvFGu9DuDB",
    "outputId": "d91020e9-a37e-47d8-c204-00bf612c2908"
   },
   "outputs": [
    {
     "data": {
      "image/png": "[encoded data removed]",
      "text/plain": [
       "<Figure size 432x288 with 1 Axes>"
      ]
     },
     "metadata": {
      "needs_background": "light"
     },
     "output_type": "display_data"
    },
    {
     "data": {
      "image/png": "[encoded data removed]",
      "text/plain": [
       "<Figure size 432x288 with 1 Axes>"
      ]
     },
     "metadata": {
      "needs_background": "light"
     },
     "output_type": "display_data"
    }
   ],
   "source": [
    "# Plot results\n",
    "import matplotlib.pyplot as plt\n",
    "\n",
    "acc = history.history['acc']\n",
    "val_acc = history.history['val_acc']\n",
    "loss = history.history['loss']\n",
    "val_loss = history.history['val_loss']\n",
    "\n",
    "epochs = range(1, len(acc) + 1)\n",
    "\n",
    "plt.plot(epochs, acc, 'bo', label='Training acc')\n",
    "plt.plot(epochs, val_acc, 'b', label='Validation acc')\n",
    "plt.title('Training and validation accuracy')\n",
    "plt.legend()\n",
    "\n",
    "plt.figure()\n",
    "\n",
    "plt.plot(epochs, loss, 'bo', label='Training loss')\n",
    "plt.plot(epochs, val_loss, 'b', label='Validation loss')\n",
    "plt.title('Training and validation loss')\n",
    "plt.legend()\n",
    "\n",
    "plt.show()"
   ]
  },
  {
   "cell_type": "code",
   "execution_count": 16,
   "metadata": {
    "executionInfo": {
     "elapsed": 263,
     "status": "ok",
     "timestamp": 1623237370995,
     "user": {
      "displayName": "黃侯弼",
      "photoUrl": "",
      "userId": "02394864078410571973"
     },
     "user_tz": -480
    },
    "id": "mKcsAPK-DuDB"
   },
   "outputs": [],
   "source": [
    "# Save the model as a file\n",
    "models.save_model(model, './h5/appendEnergyTT_wen.h5')"
   ]
  },
  {
   "cell_type": "code",
   "execution_count": 17,
   "metadata": {
    "colab": {
     "base_uri": "https://localhost:8080/"
    },
    "executionInfo": {
     "elapsed": 774,
     "status": "ok",
     "timestamp": 1623237372852,
     "user": {
      "displayName": "黃侯弼",
      "photoUrl": "",
      "userId": "02394864078410571973"
     },
     "user_tz": -480
    },
    "id": "rOAEZ7PKDuDC",
    "outputId": "ec42e9de-9b6c-4269-b804-bd8df580acf4"
   },
   "outputs": [
    {
     "name": "stdout",
     "output_type": "stream",
     "text": [
      "Answer: 10.0  Prediction: [[1.00277384e-10 2.10497760e-07 6.92242216e-13 7.36472217e-09\n",
      "  1.97860894e-11 1.24288514e-12 6.67583189e-09 2.80271022e-04\n",
      "  1.61731011e-11 6.05031289e-07 9.99713838e-01 7.47831752e-09\n",
      "  6.10194256e-11 3.80636038e-06 1.25121392e-06 9.55492130e-09\n",
      "  7.72408271e-09 1.78635259e-10]]\n",
      "Answer: 2.0  Prediction: [[8.9544941e-11 1.0526715e-09 9.9999952e-01 2.6041935e-10 7.5444220e-08\n",
      "  3.3208988e-10 2.2675079e-11 2.3986892e-09 2.7827829e-09 3.3829622e-07\n",
      "  2.8520637e-13 5.4110587e-09 7.9158635e-10 6.6513217e-10 1.4939962e-11\n",
      "  1.6469004e-08 4.0054724e-13 4.0013976e-08]]\n",
      "Answer: 3.0  Prediction: [[4.9733367e-11 6.2404643e-10 5.4186850e-05 9.9978751e-01 6.9168259e-08\n",
      "  1.6241485e-13 4.4295724e-08 2.8487699e-08 2.1540608e-10 3.1723140e-09\n",
      "  2.9437759e-13 3.0420046e-09 7.0504541e-07 3.8863703e-09 1.7175275e-10\n",
      "  3.4405980e-06 1.5012852e-04 3.8306803e-06]]\n",
      "Answer: 11.0  Prediction: [[2.0218235e-24 2.3381842e-08 3.1929803e-09 1.1406790e-16 4.1101691e-18\n",
      "  1.6654058e-23 7.9127319e-13 5.7593297e-17 1.7879202e-11 7.4252323e-13\n",
      "  1.8594120e-15 9.9949861e-01 5.0132448e-04 1.3465474e-09 6.9552003e-11\n",
      "  3.3758051e-17 5.4191506e-16 5.7440968e-19]]\n",
      "Answer: 10.0  Prediction: [[1.3163680e-08 4.9372835e-09 2.2230153e-09 2.9064263e-11 2.6479163e-15\n",
      "  3.8750386e-16 2.0872905e-07 2.0930525e-02 2.9397708e-12 3.2487432e-10\n",
      "  2.9917614e-04 2.0810293e-09 8.4263014e-08 5.7975447e-10 9.7877002e-01\n",
      "  2.7787001e-15 8.1461015e-14 1.4292964e-08]]\n",
      "Answer: 15.0  Prediction: [[9.8481860e-07 3.1012841e-09 1.1722120e-06 5.4356956e-06 2.7603170e-10\n",
      "  1.4233836e-08 1.1585890e-09 6.2252751e-05 3.4069685e-11 2.6748527e-08\n",
      "  1.6388420e-08 5.2096164e-13 8.4804689e-12 7.5900430e-10 9.9147860e-12\n",
      "  9.9992013e-01 9.9765730e-06 1.1017464e-09]]\n",
      "Answer: 8.0  Prediction: [[4.5805276e-19 1.9782422e-12 4.5536396e-14 4.8264306e-13 3.0958117e-16\n",
      "  3.7026601e-15 2.3541918e-11 2.3579885e-19 1.0000000e+00 1.1665014e-11\n",
      "  4.5625178e-17 1.6148391e-10 4.8324391e-12 4.9151502e-17 7.8919943e-12\n",
      "  6.2727413e-20 1.6585032e-17 4.5939722e-13]]\n",
      "Answer: 14.0  Prediction: [[9.89246798e-14 2.91328975e-11 7.80785159e-12 2.71584835e-14\n",
      "  4.32299994e-15 3.30551464e-17 2.59616879e-08 3.52709612e-05\n",
      "  5.71937769e-16 1.15958125e-10 7.78285321e-04 8.93167831e-11\n",
      "  1.59951796e-07 2.86755197e-09 9.99186218e-01 3.83873982e-16\n",
      "  4.25448657e-14 6.47893406e-10]]\n",
      "Answer: 6.0  Prediction: [[1.63302465e-20 1.31743639e-12 1.33367913e-14 1.53366451e-11\n",
      "  1.72877936e-17 1.15612465e-21 9.99999881e-01 4.86794942e-21\n",
      "  4.07092906e-19 1.86971463e-11 5.20167035e-21 3.37138722e-15\n",
      "  5.36716201e-12 1.48481094e-13 1.09449625e-14 1.06122464e-07\n",
      "  2.88007772e-19 3.58500203e-13]]\n",
      "Answer: 7.0  Prediction: [[2.1664606e-10 2.3076084e-16 2.1633783e-08 2.2306729e-15 9.3483153e-13\n",
      "  1.8991699e-18 3.5736201e-14 1.0000000e+00 1.5356900e-19 1.2836264e-11\n",
      "  1.6262094e-15 3.4274458e-15 2.3199788e-12 6.8992370e-13 9.2567569e-14\n",
      "  1.5231161e-13 9.3086332e-14 2.1560158e-13]]\n"
     ]
    }
   ],
   "source": [
    "# TEST: Load model and run it against test set\n",
    "model = models.load_model('./h5/appendEnergyTT_wen.h5')\n",
    "for i in range(0, 10):\n",
    "    print('Answer:', y_test[i], ' Prediction:', model.predict(np.expand_dims(x_test[i], 0)))"
   ]
  },
  {
   "cell_type": "code",
   "execution_count": 18,
   "metadata": {
    "colab": {
     "base_uri": "https://localhost:8080/"
    },
    "executionInfo": {
     "elapsed": 257,
     "status": "ok",
     "timestamp": 1623237375540,
     "user": {
      "displayName": "黃侯弼",
      "photoUrl": "",
      "userId": "02394864078410571973"
     },
     "user_tz": -480
    },
    "id": "F2N7VEDnDuDC",
    "outputId": "76a7172d-b0aa-46a9-c7fb-45f582e96cb6",
    "scrolled": true
   },
   "outputs": [
    {
     "name": "stdout",
     "output_type": "stream",
     "text": [
      "3/3 [==============================] - 0s 2ms/step - loss: 0.2458 - acc: 0.9306\n"
     ]
    },
    {
     "data": {
      "text/plain": [
       "[0.24581336975097656, 0.9305555820465088]"
      ]
     },
     "execution_count": 18,
     "metadata": {},
     "output_type": "execute_result"
    }
   ],
   "source": [
    "# Evaluate model with test set\n",
    "model.evaluate(x=x_test, y=y_test)"
   ]
  },
  {
   "cell_type": "code",
   "execution_count": 19,
   "metadata": {},
   "outputs": [
    {
     "name": "stdout",
     "output_type": "stream",
     "text": [
      "18/18 [==============================] - 0s 3ms/step - loss: 0.0109 - acc: 0.9965\n"
     ]
    },
    {
     "data": {
      "text/plain": [
       "[0.010937928222119808, 0.9965277910232544]"
      ]
     },
     "execution_count": 19,
     "metadata": {},
     "output_type": "execute_result"
    }
   ],
   "source": [
    "model.evaluate(x=x_train, y=y_train)"
   ]
  },
  {
   "cell_type": "code",
   "execution_count": 20,
   "metadata": {},
   "outputs": [
    {
     "name": "stdout",
     "output_type": "stream",
     "text": [
      "3/3 [==============================] - 0s 2ms/step - loss: 0.0187 - acc: 1.0000\n"
     ]
    },
    {
     "data": {
      "text/plain": [
       "[0.018656158819794655, 1.0]"
      ]
     },
     "execution_count": 20,
     "metadata": {},
     "output_type": "execute_result"
    }
   ],
   "source": [
    "model.evaluate(x=x_val, y=y_val)"
   ]
  },
  {
   "cell_type": "code",
   "execution_count": null,
   "metadata": {},
   "outputs": [],
   "source": []
  }
 ],
 "metadata": {
  "accelerator": "GPU",
  "colab": {
   "collapsed_sections": [],
   "name": "Classifier.ipynb",
   "provenance": []
  },
  "kernelspec": {
   "display_name": "Python 3",
   "language": "python",
   "name": "python3"
  },
  "language_info": {
   "codemirror_mode": {
    "name": "ipython",
    "version": 3
   },
   "file_extension": ".py",
   "mimetype": "text/x-python",
   "name": "python",
   "nbconvert_exporter": "python",
   "pygments_lexer": "ipython3",
   "version": "3.8.5"
  }
 },
 "nbformat": 4,
 "nbformat_minor": 1
}
