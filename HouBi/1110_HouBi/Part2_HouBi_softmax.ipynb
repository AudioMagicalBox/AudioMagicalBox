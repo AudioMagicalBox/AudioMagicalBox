{
 "cells": [
  {
   "cell_type": "code",
   "execution_count": 54,
   "metadata": {
    "executionInfo": {
     "elapsed": 428,
     "status": "ok",
     "timestamp": 1623236061470,
     "user": {
      "displayName": "黃侯弼",
      "photoUrl": "",
      "userId": "02394864078410571973"
     },
     "user_tz": -480
    },
    "id": "iVhpbtg0DuC5"
   },
   "outputs": [],
   "source": [
    "from os import listdir\n",
    "from os.path import isdir, join\n",
    "from tensorflow.keras import layers, models\n",
    "import numpy as np\n",
    "from sklearn.metrics import confusion_matrix\n",
    "import sounddevice as sd\n",
    "from timeit import default_timer as timer\n",
    "import python_speech_features\n",
    "from IPython.display import clear_output\n",
    "import matplotlib.pyplot as plt"
   ]
  },
  {
   "cell_type": "code",
   "execution_count": 55,
   "metadata": {
    "colab": {
     "base_uri": "https://localhost:8080/"
    },
    "executionInfo": {
     "elapsed": 5,
     "status": "ok",
     "timestamp": 1623236062585,
     "user": {
      "displayName": "黃侯弼",
      "photoUrl": "",
      "userId": "02394864078410571973"
     },
     "user_tz": -480
    },
    "id": "MZI1urklDuC6",
    "outputId": "9344224f-90ed-4d09-80e4-efd8c4bb7cac"
   },
   "outputs": [
    {
     "name": "stdout",
     "output_type": "stream",
     "text": [
      "['backgroundNoise', 'ㄏㄧㄡ', 'ㄟ', '他', '你', '吼', '啦', '嗯', '好', '我', '的', '著', '那', '阿']\n"
     ]
    }
   ],
   "source": [
    "# Create list of all targets (minus background noise)\n",
    "dataset_path = './recordingTest'\n",
    "all_targets = [name for name in listdir(dataset_path) if isdir(join(dataset_path, name))]\n",
    "print(all_targets)"
   ]
  },
  {
   "cell_type": "code",
   "execution_count": 56,
   "metadata": {
    "executionInfo": {
     "elapsed": 301,
     "status": "ok",
     "timestamp": 1623236063859,
     "user": {
      "displayName": "黃侯弼",
      "photoUrl": "",
      "userId": "02394864078410571973"
     },
     "user_tz": -480
    },
    "id": "WgAcVkOeDuC6"
   },
   "outputs": [],
   "source": [
    "# Settings\n",
    "feature_sets_path = './npz/'\n",
    "feature_sets_filename = 'recordingTest.npz'\n",
    "model_filename = './h5/recordingTest.h5'"
   ]
  },
  {
   "cell_type": "code",
   "execution_count": 57,
   "metadata": {
    "colab": {
     "base_uri": "https://localhost:8080/"
    },
    "executionInfo": {
     "elapsed": 458,
     "status": "ok",
     "timestamp": 1623236065288,
     "user": {
      "displayName": "黃侯弼",
      "photoUrl": "",
      "userId": "02394864078410571973"
     },
     "user_tz": -480
    },
    "id": "rJUTXuiVDuC7",
    "outputId": "4a7c5275-1bcb-4f85-dd65-18bb4e2630c9"
   },
   "outputs": [
    {
     "name": "stdout",
     "output_type": "stream",
     "text": [
      "['x_train', 'y_train', 'x_val', 'y_val', 'x_test', 'y_test']\n"
     ]
    }
   ],
   "source": [
    "# Load feature sets\n",
    "feature_sets = np.load(join(feature_sets_path, feature_sets_filename))\n",
    "print(feature_sets.files)"
   ]
  },
  {
   "cell_type": "code",
   "execution_count": 58,
   "metadata": {
    "colab": {
     "base_uri": "https://localhost:8080/"
    },
    "executionInfo": {
     "elapsed": 3,
     "status": "ok",
     "timestamp": 1623236066162,
     "user": {
      "displayName": "黃侯弼",
      "photoUrl": "",
      "userId": "02394864078410571973"
     },
     "user_tz": -480
    },
    "id": "0MTc8hMZDuC7",
    "outputId": "287b9ce7-b503-472c-dc22-1cf446a74c77"
   },
   "outputs": [
    {
     "name": "stdout",
     "output_type": "stream",
     "text": [
      "[10.  1.  2. ...  4.  6.  7.]\n",
      "[11. 12. 11. ...  6.  6.  3.]\n",
      "[4. 2. 9. ... 9. 3. 9.]\n"
     ]
    }
   ],
   "source": [
    "# Assign feature sets\n",
    "x_train = feature_sets['x_train']\n",
    "y_train = feature_sets['y_train']\n",
    "x_val = feature_sets['x_val']\n",
    "y_val = feature_sets['y_val']\n",
    "x_test = feature_sets['x_test']\n",
    "y_test = feature_sets['y_test']\n",
    "print(y_test)\n",
    "print(y_train)\n",
    "print(y_val)"
   ]
  },
  {
   "cell_type": "code",
   "execution_count": 59,
   "metadata": {
    "colab": {
     "base_uri": "https://localhost:8080/"
    },
    "executionInfo": {
     "elapsed": 262,
     "status": "ok",
     "timestamp": 1623236068434,
     "user": {
      "displayName": "黃侯弼",
      "photoUrl": "",
      "userId": "02394864078410571973"
     },
     "user_tz": -480
    },
    "id": "r2XzOXwdDuC8",
    "outputId": "6d00862e-4d37-415c-b854-22b4cdd10698"
   },
   "outputs": [
    {
     "name": "stdout",
     "output_type": "stream",
     "text": [
      "(9972, 49, 26)\n",
      "(3323, 49, 26)\n",
      "(3323, 49, 26)\n"
     ]
    }
   ],
   "source": [
    "# Look at tensor dimensions\n",
    "print(x_train.shape)\n",
    "print(x_val.shape)\n",
    "print(x_test.shape)"
   ]
  },
  {
   "cell_type": "code",
   "execution_count": 60,
   "metadata": {
    "colab": {
     "base_uri": "https://localhost:8080/"
    },
    "executionInfo": {
     "elapsed": 439,
     "status": "ok",
     "timestamp": 1623236069774,
     "user": {
      "displayName": "黃侯弼",
      "photoUrl": "",
      "userId": "02394864078410571973"
     },
     "user_tz": -480
    },
    "id": "N-l9zl-GDuC9",
    "outputId": "fd2762fb-1345-41d2-8108-985fcd157a52"
   },
   "outputs": [
    {
     "name": "stdout",
     "output_type": "stream",
     "text": [
      "[4. 2. 9. ... 9. 3. 9.]\n"
     ]
    }
   ],
   "source": [
    "# Peek at labels\n",
    "print(y_val)"
   ]
  },
  {
   "cell_type": "code",
   "execution_count": 61,
   "metadata": {
    "colab": {
     "base_uri": "https://localhost:8080/"
    },
    "executionInfo": {
     "elapsed": 4,
     "status": "ok",
     "timestamp": 1623236070623,
     "user": {
      "displayName": "黃侯弼",
      "photoUrl": "",
      "userId": "02394864078410571973"
     },
     "user_tz": -480
    },
    "id": "nY3RGYbPDuC-",
    "outputId": "deded680-fc57-4da6-c054-a4648b5007eb"
   },
   "outputs": [
    {
     "name": "stdout",
     "output_type": "stream",
     "text": [
      "[10.  1.  2. ...  4.  6.  7.]\n"
     ]
    }
   ],
   "source": [
    "# Peek at labels after conversion\n",
    "print(y_test)"
   ]
  },
  {
   "cell_type": "code",
   "execution_count": 62,
   "metadata": {
    "colab": {
     "base_uri": "https://localhost:8080/"
    },
    "executionInfo": {
     "elapsed": 5,
     "status": "ok",
     "timestamp": 1623236071679,
     "user": {
      "displayName": "黃侯弼",
      "photoUrl": "",
      "userId": "02394864078410571973"
     },
     "user_tz": -480
    },
    "id": "8I1_x2yvDuC-",
    "outputId": "0d138400-6662-4175-8a1f-f640e3f2bf6d"
   },
   "outputs": [
    {
     "name": "stdout",
     "output_type": "stream",
     "text": [
      "(9972, 49, 26)\n"
     ]
    }
   ],
   "source": [
    "# View the dimensions of our input data\n",
    "print(x_train.shape)"
   ]
  },
  {
   "cell_type": "code",
   "execution_count": 63,
   "metadata": {
    "colab": {
     "base_uri": "https://localhost:8080/"
    },
    "executionInfo": {
     "elapsed": 4,
     "status": "ok",
     "timestamp": 1623236072760,
     "user": {
      "displayName": "黃侯弼",
      "photoUrl": "",
      "userId": "02394864078410571973"
     },
     "user_tz": -480
    },
    "id": "i_zQsgz4DuC_",
    "outputId": "94a9c63d-7b06-4e8f-8c10-2aaab2aebe64",
    "scrolled": true
   },
   "outputs": [
    {
     "name": "stdout",
     "output_type": "stream",
     "text": [
      "(9972, 49, 26, 1)\n",
      "(3323, 49, 26, 1)\n",
      "(3323, 49, 26, 1)\n"
     ]
    }
   ],
   "source": [
    "# CNN for TF expects (batch, height, width, channels)\n",
    "# So we reshape the input tensors with a \"color\" channel of 1\n",
    "x_train = x_train.reshape(x_train.shape[0], \n",
    "                          x_train.shape[1], \n",
    "                          x_train.shape[2], \n",
    "                          1)\n",
    "x_val = x_val.reshape(x_val.shape[0], \n",
    "                      x_val.shape[1], \n",
    "                      x_val.shape[2], \n",
    "                      1)\n",
    "x_test = x_test.reshape(x_test.shape[0], \n",
    "                        x_test.shape[1], \n",
    "                        x_test.shape[2], \n",
    "                        1)\n",
    "print(x_train.shape)\n",
    "print(x_val.shape)\n",
    "print(x_test.shape)"
   ]
  },
  {
   "cell_type": "code",
   "execution_count": 64,
   "metadata": {
    "colab": {
     "base_uri": "https://localhost:8080/"
    },
    "executionInfo": {
     "elapsed": 281,
     "status": "ok",
     "timestamp": 1623236074651,
     "user": {
      "displayName": "黃侯弼",
      "photoUrl": "",
      "userId": "02394864078410571973"
     },
     "user_tz": -480
    },
    "id": "Ge2MCNusDuC_",
    "outputId": "7c995061-d01d-4a96-a14f-fbee6804b4d4"
   },
   "outputs": [
    {
     "name": "stdout",
     "output_type": "stream",
     "text": [
      "(49, 26, 1)\n"
     ]
    }
   ],
   "source": [
    "# Input shape for CNN is size of MFCC of 1 sample\n",
    "sample_shape = x_test.shape[1:]\n",
    "print(sample_shape)"
   ]
  },
  {
   "cell_type": "code",
   "execution_count": 68,
   "metadata": {
    "colab": {
     "base_uri": "https://localhost:8080/"
    },
    "executionInfo": {
     "elapsed": 264,
     "status": "ok",
     "timestamp": 1623237350948,
     "user": {
      "displayName": "黃侯弼",
      "photoUrl": "",
      "userId": "02394864078410571973"
     },
     "user_tz": -480
    },
    "id": "2JqUOHp9DuDA",
    "outputId": "cc676686-8778-47c0-d5eb-183d137369d2"
   },
   "outputs": [
    {
     "name": "stdout",
     "output_type": "stream",
     "text": [
      "Model: \"sequential_1\"\n",
      "_________________________________________________________________\n",
      "Layer (type)                 Output Shape              Param #   \n",
      "=================================================================\n",
      "conv2d_3 (Conv2D)            (None, 48, 25, 32)        160       \n",
      "_________________________________________________________________\n",
      "max_pooling2d_3 (MaxPooling2 (None, 24, 12, 32)        0         \n",
      "_________________________________________________________________\n",
      "conv2d_4 (Conv2D)            (None, 23, 11, 64)        8256      \n",
      "_________________________________________________________________\n",
      "max_pooling2d_4 (MaxPooling2 (None, 11, 5, 64)         0         \n",
      "_________________________________________________________________\n",
      "conv2d_5 (Conv2D)            (None, 10, 4, 128)        32896     \n",
      "_________________________________________________________________\n",
      "max_pooling2d_5 (MaxPooling2 (None, 10, 4, 128)        0         \n",
      "_________________________________________________________________\n",
      "dropout_2 (Dropout)          (None, 10, 4, 128)        0         \n",
      "_________________________________________________________________\n",
      "flatten_1 (Flatten)          (None, 5120)              0         \n",
      "_________________________________________________________________\n",
      "dense_2 (Dense)              (None, 64)                327744    \n",
      "_________________________________________________________________\n",
      "dropout_3 (Dropout)          (None, 64)                0         \n",
      "_________________________________________________________________\n",
      "dense_3 (Dense)              (None, 14)                910       \n",
      "=================================================================\n",
      "Total params: 369,966\n",
      "Trainable params: 369,966\n",
      "Non-trainable params: 0\n",
      "_________________________________________________________________\n"
     ]
    }
   ],
   "source": [
    "model = models.Sequential()\n",
    "model.add(layers.Conv2D(32, (2, 2), activation='relu',input_shape=sample_shape))\n",
    "model.add(layers.MaxPooling2D(pool_size=(2, 2)))\n",
    "\n",
    "model.add(layers.Conv2D(64, (2, 2), activation='relu'))\n",
    "model.add(layers.MaxPooling2D(pool_size=(2, 2)))\n",
    "\n",
    "model.add(layers.Conv2D(128, (2, 2), activation='relu'))\n",
    "model.add(layers.MaxPooling2D(pool_size=(1, 1)))\n",
    "model.add(layers.Dropout(0.2))\n",
    "\n",
    "# Classifier\n",
    "model.add(layers.Flatten())\n",
    "model.add(layers.Dense(64, activation='relu'))\n",
    "model.add(layers.Dropout(0.2))\n",
    "model.add(layers.Dense(14, activation='softmax'))\n",
    "# Display model\n",
    "model.summary()\n"
   ]
  },
  {
   "cell_type": "code",
   "execution_count": 69,
   "metadata": {
    "colab": {
     "base_uri": "https://localhost:8080/"
    },
    "executionInfo": {
     "elapsed": 402,
     "status": "ok",
     "timestamp": 1623237353164,
     "user": {
      "displayName": "黃侯弼",
      "photoUrl": "",
      "userId": "02394864078410571973"
     },
     "user_tz": -480
    },
    "id": "sp5WfpkJDuDA",
    "outputId": "e7c65039-b132-4490-ce02-0897a4ca9bdc"
   },
   "outputs": [],
   "source": [
    "from tensorflow.keras import optimizers\n",
    "# Add training parameters to model\n",
    "model.compile(loss='sparse_categorical_crossentropy', \n",
    "              optimizer='adam',\n",
    "              metrics=['acc'])"
   ]
  },
  {
   "cell_type": "code",
   "execution_count": 70,
   "metadata": {
    "colab": {
     "base_uri": "https://localhost:8080/"
    },
    "executionInfo": {
     "elapsed": 6626,
     "status": "ok",
     "timestamp": 1623237360783,
     "user": {
      "displayName": "黃侯弼",
      "photoUrl": "",
      "userId": "02394864078410571973"
     },
     "user_tz": -480
    },
    "id": "s46KMbZbDuDB",
    "outputId": "ff0b8470-8926-4dd5-bd90-db3c765b1d90",
    "scrolled": true
   },
   "outputs": [
    {
     "name": "stdout",
     "output_type": "stream",
     "text": [
      "Epoch 1/50\n",
      "200/200 [==============================] - 4s 17ms/step - loss: 2.1709 - acc: 0.2786 - val_loss: 1.4453 - val_acc: 0.5408\n",
      "Epoch 2/50\n",
      "200/200 [==============================] - 3s 16ms/step - loss: 1.2480 - acc: 0.5818 - val_loss: 0.8280 - val_acc: 0.7505\n",
      "Epoch 3/50\n",
      "200/200 [==============================] - 3s 16ms/step - loss: 0.9256 - acc: 0.6882 - val_loss: 0.6393 - val_acc: 0.8011\n",
      "Epoch 4/50\n",
      "200/200 [==============================] - 3s 16ms/step - loss: 0.7601 - acc: 0.7390 - val_loss: 0.5182 - val_acc: 0.8324\n",
      "Epoch 5/50\n",
      "200/200 [==============================] - 3s 16ms/step - loss: 0.6610 - acc: 0.7719 - val_loss: 0.4792 - val_acc: 0.8444\n",
      "Epoch 6/50\n",
      "200/200 [==============================] - 3s 16ms/step - loss: 0.5866 - acc: 0.7983 - val_loss: 0.4346 - val_acc: 0.8559\n",
      "Epoch 7/50\n",
      "200/200 [==============================] - 3s 16ms/step - loss: 0.5302 - acc: 0.8144 - val_loss: 0.4026 - val_acc: 0.8643\n",
      "Epoch 8/50\n",
      "200/200 [==============================] - 3s 16ms/step - loss: 0.4964 - acc: 0.8247 - val_loss: 0.3387 - val_acc: 0.8926\n",
      "Epoch 9/50\n",
      "200/200 [==============================] - 3s 16ms/step - loss: 0.4335 - acc: 0.8480 - val_loss: 0.3160 - val_acc: 0.9022\n",
      "Epoch 10/50\n",
      "200/200 [==============================] - 3s 16ms/step - loss: 0.3848 - acc: 0.8651 - val_loss: 0.3087 - val_acc: 0.9022\n",
      "Epoch 11/50\n",
      "200/200 [==============================] - 3s 16ms/step - loss: 0.3681 - acc: 0.8696 - val_loss: 0.2867 - val_acc: 0.9049\n",
      "Epoch 12/50\n",
      "200/200 [==============================] - 3s 16ms/step - loss: 0.3483 - acc: 0.8742 - val_loss: 0.2660 - val_acc: 0.9133\n",
      "Epoch 13/50\n",
      "200/200 [==============================] - 3s 16ms/step - loss: 0.3299 - acc: 0.8837 - val_loss: 0.2555 - val_acc: 0.9193\n",
      "Epoch 14/50\n",
      "200/200 [==============================] - 3s 16ms/step - loss: 0.2884 - acc: 0.9013 - val_loss: 0.2508 - val_acc: 0.9203\n",
      "Epoch 15/50\n",
      "200/200 [==============================] - 3s 16ms/step - loss: 0.2674 - acc: 0.9027 - val_loss: 0.2595 - val_acc: 0.9242\n",
      "Epoch 16/50\n",
      "200/200 [==============================] - 3s 16ms/step - loss: 0.2627 - acc: 0.9097 - val_loss: 0.2394 - val_acc: 0.9287\n",
      "Epoch 17/50\n",
      "200/200 [==============================] - 3s 16ms/step - loss: 0.2383 - acc: 0.9166 - val_loss: 0.2572 - val_acc: 0.9200\n",
      "Epoch 18/50\n",
      "200/200 [==============================] - 3s 16ms/step - loss: 0.2332 - acc: 0.9155 - val_loss: 0.2457 - val_acc: 0.9347\n",
      "Epoch 19/50\n",
      "200/200 [==============================] - 3s 16ms/step - loss: 0.2178 - acc: 0.9229 - val_loss: 0.2248 - val_acc: 0.9338\n",
      "Epoch 20/50\n",
      "200/200 [==============================] - 3s 16ms/step - loss: 0.2065 - acc: 0.9257 - val_loss: 0.2261 - val_acc: 0.9329\n",
      "Epoch 21/50\n",
      "200/200 [==============================] - 3s 16ms/step - loss: 0.1900 - acc: 0.9299 - val_loss: 0.2308 - val_acc: 0.9347\n",
      "Epoch 22/50\n",
      "200/200 [==============================] - 3s 16ms/step - loss: 0.1702 - acc: 0.9376 - val_loss: 0.2416 - val_acc: 0.9290\n",
      "Epoch 23/50\n",
      "200/200 [==============================] - 3s 16ms/step - loss: 0.1768 - acc: 0.9384 - val_loss: 0.1946 - val_acc: 0.9437\n",
      "Epoch 24/50\n",
      "200/200 [==============================] - 3s 16ms/step - loss: 0.1598 - acc: 0.9435 - val_loss: 0.2180 - val_acc: 0.9365\n",
      "Epoch 25/50\n",
      "200/200 [==============================] - 3s 16ms/step - loss: 0.1580 - acc: 0.9433 - val_loss: 0.1899 - val_acc: 0.9422\n",
      "Epoch 26/50\n",
      "200/200 [==============================] - 3s 16ms/step - loss: 0.1501 - acc: 0.9439 - val_loss: 0.2269 - val_acc: 0.9335\n",
      "Epoch 27/50\n",
      "200/200 [==============================] - 3s 16ms/step - loss: 0.1458 - acc: 0.9454 - val_loss: 0.2179 - val_acc: 0.9407\n",
      "Epoch 28/50\n",
      "200/200 [==============================] - 3s 16ms/step - loss: 0.1471 - acc: 0.9465 - val_loss: 0.2284 - val_acc: 0.9428\n",
      "Epoch 29/50\n",
      "200/200 [==============================] - 3s 16ms/step - loss: 0.1329 - acc: 0.9537 - val_loss: 0.2003 - val_acc: 0.9422\n",
      "Epoch 30/50\n",
      "200/200 [==============================] - 3s 16ms/step - loss: 0.1436 - acc: 0.9491 - val_loss: 0.2000 - val_acc: 0.9455\n",
      "Epoch 31/50\n",
      "200/200 [==============================] - 3s 16ms/step - loss: 0.1326 - acc: 0.9510 - val_loss: 0.1941 - val_acc: 0.9425\n",
      "Epoch 32/50\n",
      "200/200 [==============================] - 3s 16ms/step - loss: 0.1267 - acc: 0.9552 - val_loss: 0.1820 - val_acc: 0.9525\n",
      "Epoch 33/50\n",
      "200/200 [==============================] - 3s 16ms/step - loss: 0.1136 - acc: 0.9596 - val_loss: 0.2403 - val_acc: 0.9365\n",
      "Epoch 34/50\n",
      "200/200 [==============================] - 3s 16ms/step - loss: 0.1136 - acc: 0.9603 - val_loss: 0.2084 - val_acc: 0.9431\n",
      "Epoch 35/50\n",
      "200/200 [==============================] - 3s 16ms/step - loss: 0.1220 - acc: 0.9551 - val_loss: 0.2162 - val_acc: 0.9419\n",
      "Epoch 36/50\n",
      "200/200 [==============================] - 3s 16ms/step - loss: 0.1118 - acc: 0.9602 - val_loss: 0.2078 - val_acc: 0.9437\n",
      "Epoch 37/50\n",
      "200/200 [==============================] - 3s 16ms/step - loss: 0.1170 - acc: 0.9592 - val_loss: 0.2200 - val_acc: 0.9395\n",
      "Epoch 38/50\n",
      "200/200 [==============================] - 3s 16ms/step - loss: 0.1019 - acc: 0.9631 - val_loss: 0.1963 - val_acc: 0.9488\n",
      "Epoch 39/50\n",
      "200/200 [==============================] - 3s 16ms/step - loss: 0.0996 - acc: 0.9638 - val_loss: 0.1779 - val_acc: 0.9488\n",
      "Epoch 40/50\n",
      "200/200 [==============================] - 3s 16ms/step - loss: 0.1004 - acc: 0.9650 - val_loss: 0.2077 - val_acc: 0.9479\n",
      "Epoch 41/50\n",
      "200/200 [==============================] - 3s 16ms/step - loss: 0.0884 - acc: 0.9685 - val_loss: 0.1829 - val_acc: 0.9525\n",
      "Epoch 42/50\n",
      "200/200 [==============================] - 3s 16ms/step - loss: 0.0902 - acc: 0.9669 - val_loss: 0.1766 - val_acc: 0.9543\n",
      "Epoch 43/50\n",
      "200/200 [==============================] - 3s 16ms/step - loss: 0.0972 - acc: 0.9665 - val_loss: 0.1875 - val_acc: 0.9519\n",
      "Epoch 44/50\n",
      "200/200 [==============================] - 3s 16ms/step - loss: 0.0862 - acc: 0.9713 - val_loss: 0.1736 - val_acc: 0.9543\n",
      "Epoch 45/50\n",
      "200/200 [==============================] - 3s 16ms/step - loss: 0.0834 - acc: 0.9690 - val_loss: 0.1704 - val_acc: 0.9564\n",
      "Epoch 46/50\n",
      "200/200 [==============================] - 3s 16ms/step - loss: 0.0874 - acc: 0.9694 - val_loss: 0.1889 - val_acc: 0.9540\n",
      "Epoch 47/50\n",
      "200/200 [==============================] - 3s 16ms/step - loss: 0.0768 - acc: 0.9721 - val_loss: 0.1875 - val_acc: 0.9482\n",
      "Epoch 48/50\n",
      "200/200 [==============================] - 3s 16ms/step - loss: 0.0841 - acc: 0.9712 - val_loss: 0.2119 - val_acc: 0.9467\n",
      "Epoch 49/50\n",
      "200/200 [==============================] - 3s 16ms/step - loss: 0.0822 - acc: 0.9717 - val_loss: 0.2203 - val_acc: 0.9488\n",
      "Epoch 50/50\n",
      "200/200 [==============================] - 3s 16ms/step - loss: 0.0821 - acc: 0.9713 - val_loss: 0.1899 - val_acc: 0.9561\n"
     ]
    }
   ],
   "source": [
    "# Train\n",
    "history = model.fit(x_train, \n",
    "                    y_train, \n",
    "                    epochs=50,\n",
    "                    batch_size=50,\n",
    "                    validation_data=(x_val, y_val))"
   ]
  },
  {
   "cell_type": "code",
   "execution_count": 71,
   "metadata": {
    "colab": {
     "base_uri": "https://localhost:8080/",
     "height": 545
    },
    "executionInfo": {
     "elapsed": 1003,
     "status": "ok",
     "timestamp": 1623237367971,
     "user": {
      "displayName": "黃侯弼",
      "photoUrl": "",
      "userId": "02394864078410571973"
     },
     "user_tz": -480
    },
    "id": "UHFvFGu9DuDB",
    "outputId": "d91020e9-a37e-47d8-c204-00bf612c2908"
   },
   "outputs": [
    {
     "data": {
      "image/png": "[encoded data removed]",
      "text/plain": [
       "<Figure size 432x288 with 1 Axes>"
      ]
     },
     "metadata": {
      "needs_background": "light"
     },
     "output_type": "display_data"
    },
    {
     "data": {
      "image/png": "[encoded data removed]",
      "text/plain": [
       "<Figure size 432x288 with 1 Axes>"
      ]
     },
     "metadata": {
      "needs_background": "light"
     },
     "output_type": "display_data"
    }
   ],
   "source": [
    "# Plot results\n",
    "\n",
    "\n",
    "acc = history.history['acc']\n",
    "val_acc = history.history['val_acc']\n",
    "loss = history.history['loss']\n",
    "val_loss = history.history['val_loss']\n",
    "\n",
    "epochs = range(1, len(acc) + 1)\n",
    "\n",
    "plt.plot(epochs, acc, 'bo', label='Training acc')\n",
    "plt.plot(epochs, val_acc, 'b', label='Validation acc')\n",
    "plt.title('Training and validation accuracy')\n",
    "plt.legend()\n",
    "\n",
    "plt.figure()\n",
    "\n",
    "plt.plot(epochs, loss, 'bo', label='Training loss')\n",
    "plt.plot(epochs, val_loss, 'b', label='Validation loss')\n",
    "plt.title('Training and validation loss')\n",
    "plt.legend()\n",
    "\n",
    "plt.show()"
   ]
  },
  {
   "cell_type": "code",
   "execution_count": 72,
   "metadata": {
    "executionInfo": {
     "elapsed": 263,
     "status": "ok",
     "timestamp": 1623237370995,
     "user": {
      "displayName": "黃侯弼",
      "photoUrl": "",
      "userId": "02394864078410571973"
     },
     "user_tz": -480
    },
    "id": "mKcsAPK-DuDB"
   },
   "outputs": [],
   "source": [
    "# Save the model as a file\n",
    "models.save_model(model, model_filename)"
   ]
  },
  {
   "cell_type": "code",
   "execution_count": 73,
   "metadata": {
    "colab": {
     "base_uri": "https://localhost:8080/"
    },
    "executionInfo": {
     "elapsed": 774,
     "status": "ok",
     "timestamp": 1623237372852,
     "user": {
      "displayName": "黃侯弼",
      "photoUrl": "",
      "userId": "02394864078410571973"
     },
     "user_tz": -480
    },
    "id": "rOAEZ7PKDuDC",
    "outputId": "ec42e9de-9b6c-4269-b804-bd8df580acf4",
    "scrolled": true
   },
   "outputs": [
    {
     "name": "stdout",
     "output_type": "stream",
     "text": [
      "Answer: 10.0  Prediction: [[7.9138390e-14 4.1642148e-09 1.8335514e-10 1.3205404e-12 2.5390633e-14\n",
      "  7.8136070e-17 3.4301359e-13 2.3478716e-08 5.4587733e-17 2.1299454e-17\n",
      "  9.9836248e-01 1.6374657e-03 4.2003182e-13 7.2087877e-16]]\n",
      "Answer: 1.0  Prediction: [[1.3022298e-19 1.0000000e+00 2.1738687e-11 1.0489520e-13 4.4648831e-14\n",
      "  8.5269447e-10 1.2673336e-12 6.0708640e-23 4.9040529e-21 7.7312608e-13\n",
      "  3.2257039e-13 7.6524558e-11 2.2639619e-14 2.1297440e-20]]\n",
      "Answer: 2.0  Prediction: [[5.7646526e-12 5.7211094e-09 9.9999809e-01 1.5981842e-08 1.9553408e-15\n",
      "  1.0335802e-09 1.1436968e-19 5.8099372e-14 1.8745098e-06 7.5668367e-15\n",
      "  9.5361366e-12 2.1985269e-13 1.5286514e-17 1.1674028e-11]]\n",
      "Answer: 11.0  Prediction: [[2.1285280e-18 1.0265041e-12 1.5288244e-12 5.1213719e-16 2.1517278e-12\n",
      "  1.4748529e-21 1.9141988e-16 1.0307605e-14 5.7104284e-23 1.4100253e-25\n",
      "  2.4462148e-09 1.0000000e+00 2.4688178e-16 4.7061820e-24]]\n",
      "Answer: 2.0  Prediction: [[6.08431178e-15 2.90030103e-17 1.00000000e+00 4.59495902e-22\n",
      "  4.76156094e-11 1.17166232e-13 1.02785351e-24 3.56950399e-15\n",
      "  6.89890991e-20 5.61988855e-09 1.01538996e-25 1.08783125e-16\n",
      "  6.58226217e-26 5.38688500e-23]]\n",
      "Answer: 11.0  Prediction: [[1.7801730e-08 1.7713306e-05 5.3110663e-05 1.5447050e-07 2.7315235e-05\n",
      "  1.0788264e-07 5.4728372e-07 2.4540095e-06 1.3506830e-08 2.7551644e-10\n",
      "  1.7392242e-04 9.9972457e-01 6.7190342e-08 1.2628941e-10]]\n",
      "Answer: 6.0  Prediction: [[2.5548831e-13 3.8939355e-12 7.6930338e-16 5.7649080e-11 8.3874229e-16\n",
      "  1.6411899e-09 9.9999428e-01 7.4118637e-12 6.1635897e-14 1.7798612e-07\n",
      "  2.9741348e-10 3.6387505e-13 5.2571127e-06 3.2550184e-07]]\n",
      "Answer: 6.0  Prediction: [[9.5461642e-12 7.4993189e-12 5.5945357e-15 4.7220259e-09 1.8929744e-15\n",
      "  2.5591916e-08 9.9996960e-01 1.7818458e-12 1.4285734e-11 1.1542911e-07\n",
      "  8.3668056e-10 2.8353125e-12 3.2543439e-06 2.7065109e-05]]\n",
      "Answer: 7.0  Prediction: [[1.5728687e-12 1.4795648e-19 3.1722882e-07 3.0228177e-15 1.1847947e-17\n",
      "  1.7295629e-18 2.5397683e-27 9.9999964e-01 2.0400400e-17 1.9617614e-23\n",
      "  2.1869926e-08 2.4516076e-14 2.2121964e-17 1.9576299e-13]]\n",
      "Answer: 11.0  Prediction: [[1.7005622e-19 2.9782559e-06 1.4713690e-11 1.1058270e-13 2.1002490e-13\n",
      "  3.9968769e-13 1.0825383e-11 6.8342794e-17 6.0467578e-17 6.0603699e-21\n",
      "  5.6146328e-09 9.9999702e-01 9.2760504e-17 3.1084154e-17]]\n"
     ]
    }
   ],
   "source": [
    "# TEST: Load model and run it against test set\n",
    "model = models.load_model(model_filename)\n",
    "for i in range(0, 10):\n",
    "    print('Answer:', y_test[i], ' Prediction:', model.predict(np.expand_dims(x_test[i], 0)))"
   ]
  },
  {
   "cell_type": "code",
   "execution_count": 74,
   "metadata": {
    "colab": {
     "base_uri": "https://localhost:8080/"
    },
    "executionInfo": {
     "elapsed": 257,
     "status": "ok",
     "timestamp": 1623237375540,
     "user": {
      "displayName": "黃侯弼",
      "photoUrl": "",
      "userId": "02394864078410571973"
     },
     "user_tz": -480
    },
    "id": "F2N7VEDnDuDC",
    "outputId": "76a7172d-b0aa-46a9-c7fb-45f582e96cb6",
    "scrolled": true
   },
   "outputs": [
    {
     "name": "stdout",
     "output_type": "stream",
     "text": [
      "104/104 [==============================] - 1s 6ms/step - loss: 0.2353 - acc: 0.9464\n"
     ]
    },
    {
     "data": {
      "text/plain": [
       "[0.23526084423065186, 0.946433961391449]"
      ]
     },
     "execution_count": 74,
     "metadata": {},
     "output_type": "execute_result"
    }
   ],
   "source": [
    "# Evaluate model with test set\n",
    "model.evaluate(x=x_test, y=y_test)"
   ]
  },
  {
   "cell_type": "code",
   "execution_count": 75,
   "metadata": {
    "scrolled": false
   },
   "outputs": [
    {
     "name": "stderr",
     "output_type": "stream",
     "text": [
      "C:\\Users\\r6017\\anaconda3\\lib\\site-packages\\matplotlib\\backends\\backend_agg.py:238: RuntimeWarning: Glyph 12559 missing from current font.\n",
      "  font.set_text(s, 0.0, flags=flags)\n",
      "C:\\Users\\r6017\\anaconda3\\lib\\site-packages\\matplotlib\\backends\\backend_agg.py:238: RuntimeWarning: Glyph 12583 missing from current font.\n",
      "  font.set_text(s, 0.0, flags=flags)\n",
      "C:\\Users\\r6017\\anaconda3\\lib\\site-packages\\matplotlib\\backends\\backend_agg.py:238: RuntimeWarning: Glyph 12577 missing from current font.\n",
      "  font.set_text(s, 0.0, flags=flags)\n",
      "C:\\Users\\r6017\\anaconda3\\lib\\site-packages\\matplotlib\\backends\\backend_agg.py:238: RuntimeWarning: Glyph 12575 missing from current font.\n",
      "  font.set_text(s, 0.0, flags=flags)\n",
      "C:\\Users\\r6017\\anaconda3\\lib\\site-packages\\matplotlib\\backends\\backend_agg.py:238: RuntimeWarning: Glyph 20182 missing from current font.\n",
      "  font.set_text(s, 0.0, flags=flags)\n",
      "C:\\Users\\r6017\\anaconda3\\lib\\site-packages\\matplotlib\\backends\\backend_agg.py:238: RuntimeWarning: Glyph 20320 missing from current font.\n",
      "  font.set_text(s, 0.0, flags=flags)\n",
      "C:\\Users\\r6017\\anaconda3\\lib\\site-packages\\matplotlib\\backends\\backend_agg.py:238: RuntimeWarning: Glyph 21564 missing from current font.\n",
      "  font.set_text(s, 0.0, flags=flags)\n",
      "C:\\Users\\r6017\\anaconda3\\lib\\site-packages\\matplotlib\\backends\\backend_agg.py:238: RuntimeWarning: Glyph 21862 missing from current font.\n",
      "  font.set_text(s, 0.0, flags=flags)\n",
      "C:\\Users\\r6017\\anaconda3\\lib\\site-packages\\matplotlib\\backends\\backend_agg.py:238: RuntimeWarning: Glyph 21999 missing from current font.\n",
      "  font.set_text(s, 0.0, flags=flags)\n",
      "C:\\Users\\r6017\\anaconda3\\lib\\site-packages\\matplotlib\\backends\\backend_agg.py:238: RuntimeWarning: Glyph 22909 missing from current font.\n",
      "  font.set_text(s, 0.0, flags=flags)\n",
      "C:\\Users\\r6017\\anaconda3\\lib\\site-packages\\matplotlib\\backends\\backend_agg.py:238: RuntimeWarning: Glyph 25105 missing from current font.\n",
      "  font.set_text(s, 0.0, flags=flags)\n",
      "C:\\Users\\r6017\\anaconda3\\lib\\site-packages\\matplotlib\\backends\\backend_agg.py:238: RuntimeWarning: Glyph 30340 missing from current font.\n",
      "  font.set_text(s, 0.0, flags=flags)\n",
      "C:\\Users\\r6017\\anaconda3\\lib\\site-packages\\matplotlib\\backends\\backend_agg.py:238: RuntimeWarning: Glyph 33879 missing from current font.\n",
      "  font.set_text(s, 0.0, flags=flags)\n",
      "C:\\Users\\r6017\\anaconda3\\lib\\site-packages\\matplotlib\\backends\\backend_agg.py:238: RuntimeWarning: Glyph 37027 missing from current font.\n",
      "  font.set_text(s, 0.0, flags=flags)\n",
      "C:\\Users\\r6017\\anaconda3\\lib\\site-packages\\matplotlib\\backends\\backend_agg.py:238: RuntimeWarning: Glyph 38463 missing from current font.\n",
      "  font.set_text(s, 0.0, flags=flags)\n",
      "C:\\Users\\r6017\\anaconda3\\lib\\site-packages\\matplotlib\\backends\\backend_agg.py:201: RuntimeWarning: Glyph 12559 missing from current font.\n",
      "  font.set_text(s, 0, flags=flags)\n",
      "C:\\Users\\r6017\\anaconda3\\lib\\site-packages\\matplotlib\\backends\\backend_agg.py:201: RuntimeWarning: Glyph 12583 missing from current font.\n",
      "  font.set_text(s, 0, flags=flags)\n",
      "C:\\Users\\r6017\\anaconda3\\lib\\site-packages\\matplotlib\\backends\\backend_agg.py:201: RuntimeWarning: Glyph 12577 missing from current font.\n",
      "  font.set_text(s, 0, flags=flags)\n",
      "C:\\Users\\r6017\\anaconda3\\lib\\site-packages\\matplotlib\\backends\\backend_agg.py:201: RuntimeWarning: Glyph 12575 missing from current font.\n",
      "  font.set_text(s, 0, flags=flags)\n",
      "C:\\Users\\r6017\\anaconda3\\lib\\site-packages\\matplotlib\\backends\\backend_agg.py:201: RuntimeWarning: Glyph 20182 missing from current font.\n",
      "  font.set_text(s, 0, flags=flags)\n",
      "C:\\Users\\r6017\\anaconda3\\lib\\site-packages\\matplotlib\\backends\\backend_agg.py:201: RuntimeWarning: Glyph 20320 missing from current font.\n",
      "  font.set_text(s, 0, flags=flags)\n",
      "C:\\Users\\r6017\\anaconda3\\lib\\site-packages\\matplotlib\\backends\\backend_agg.py:201: RuntimeWarning: Glyph 21564 missing from current font.\n",
      "  font.set_text(s, 0, flags=flags)\n",
      "C:\\Users\\r6017\\anaconda3\\lib\\site-packages\\matplotlib\\backends\\backend_agg.py:201: RuntimeWarning: Glyph 21862 missing from current font.\n",
      "  font.set_text(s, 0, flags=flags)\n",
      "C:\\Users\\r6017\\anaconda3\\lib\\site-packages\\matplotlib\\backends\\backend_agg.py:201: RuntimeWarning: Glyph 21999 missing from current font.\n",
      "  font.set_text(s, 0, flags=flags)\n",
      "C:\\Users\\r6017\\anaconda3\\lib\\site-packages\\matplotlib\\backends\\backend_agg.py:201: RuntimeWarning: Glyph 22909 missing from current font.\n",
      "  font.set_text(s, 0, flags=flags)\n",
      "C:\\Users\\r6017\\anaconda3\\lib\\site-packages\\matplotlib\\backends\\backend_agg.py:201: RuntimeWarning: Glyph 25105 missing from current font.\n",
      "  font.set_text(s, 0, flags=flags)\n",
      "C:\\Users\\r6017\\anaconda3\\lib\\site-packages\\matplotlib\\backends\\backend_agg.py:201: RuntimeWarning: Glyph 30340 missing from current font.\n",
      "  font.set_text(s, 0, flags=flags)\n",
      "C:\\Users\\r6017\\anaconda3\\lib\\site-packages\\matplotlib\\backends\\backend_agg.py:201: RuntimeWarning: Glyph 33879 missing from current font.\n",
      "  font.set_text(s, 0, flags=flags)\n",
      "C:\\Users\\r6017\\anaconda3\\lib\\site-packages\\matplotlib\\backends\\backend_agg.py:201: RuntimeWarning: Glyph 37027 missing from current font.\n",
      "  font.set_text(s, 0, flags=flags)\n",
      "C:\\Users\\r6017\\anaconda3\\lib\\site-packages\\matplotlib\\backends\\backend_agg.py:201: RuntimeWarning: Glyph 38463 missing from current font.\n",
      "  font.set_text(s, 0, flags=flags)\n"
     ]
    },
    {
     "data": {
      "image/png": "[encoded data removed]",
      "text/plain": [
       "<Figure size 576x576 with 2 Axes>"
      ]
     },
     "metadata": {
      "needs_background": "light"
     },
     "output_type": "display_data"
    }
   ],
   "source": [
    "# plot confusion matrix\n",
    "y = np.argmax(model.predict(x_val), axis=1)\n",
    "cm = confusion_matrix(y_val, y,  normalize=\"all\")\n",
    "%matplotlib inline\n",
    "plt.close()\n",
    "plt.figure(figsize = (8,8))\n",
    "plt.imshow(cm, cmap=plt.cm.Blues)\n",
    "plt.xlabel(\"Predicted labels\")\n",
    "plt.ylabel(\"True labels\")\n",
    "plt.xticks(np.arange(0, 14, 1), all_targets, rotation=90)\n",
    "plt.yticks(np.arange(0, 14, 1), all_targets)\n",
    "plt.tick_params(labelsize=12)\n",
    "plt.title('Confusion matrix ')\n",
    "plt.colorbar()\n",
    "plt.show()"
   ]
  },
  {
   "cell_type": "code",
   "execution_count": 76,
   "metadata": {},
   "outputs": [],
   "source": [
    "# compute MFCC features from audio signal\n",
    "def audio2feature(audio):\n",
    "    audio = audio.astype(np.float)\n",
    "    # normalize data\n",
    "    audio = (audio - audio.mean()) / (audio.max() - audio.min())\n",
    "    # compute MFCC coefficients\n",
    "    features = python_speech_features.base.logfbank(audio, samplerate=16000, winlen=0.025, winstep=0.01, nfilt=26, nfft=512, lowfreq=0, highfreq=None, preemph=0.97)\n",
    "    return features"
   ]
  },
  {
   "cell_type": "code",
   "execution_count": 77,
   "metadata": {},
   "outputs": [],
   "source": [
    "def extract_loudest_section(audio, length):\n",
    "    audio = audio[:, 0].astype(np.float) # to avoid integer overflow when squaring\n",
    "    audio_pw = audio**2 # power\n",
    "    window = np.ones((length, ))\n",
    "    conv = np.convolve(audio, window, mode=\"valid\")\n",
    "    begin_index = conv.argmax()\n",
    "    return audio[begin_index:begin_index+length]"
   ]
  },
  {
   "cell_type": "code",
   "execution_count": 82,
   "metadata": {},
   "outputs": [
    {
     "name": "stdout",
     "output_type": "stream",
     "text": [
      "[2.8753463e-10 3.9182536e-29 4.0036877e-11 1.4779015e-02 3.2432798e-23\n",
      " 5.9985078e-15 2.4821648e-19 1.2346031e-08 1.9921285e-07 1.5870718e-22\n",
      " 1.7050922e-13 1.4654118e-23 1.5007216e-11 9.8522079e-01]\n",
      "1.0\n",
      "candidates:\n",
      "-----------------------------\n",
      "1.)\t阿\t:\t98.5%\n",
      "2.)\t他\t:\t1.5%\n",
      "3.)\t好\t:\t0.0%\n",
      "-----------------------------\n",
      "feature computation time: 2.2 ms\n",
      "CNN model prediction time: 46.6 ms\n",
      "total time: 48.7 ms\n"
     ]
    },
    {
     "data": {
      "image/png": "[encoded data removed]",
      "text/plain": [
       "<Figure size 720x504 with 2 Axes>"
      ]
     },
     "metadata": {
      "needs_background": "light"
     },
     "output_type": "display_data"
    }
   ],
   "source": [
    "sd.default.samplerate = 16000\n",
    "sd.default.channels = 1, 2 # mono record, stereo playback\n",
    "\n",
    "recording = sd.rec(int(3*sd.default.samplerate), channels=1, samplerate=sd.default.samplerate, dtype=np.float, blocking=True)\n",
    "recording = extract_loudest_section(recording, int(0.5*sd.default.samplerate)) # extract 1s snippet with highest energy (only necessary if recording is >3s long)\n",
    "sd.play(recording, blocking=True)\n",
    "\n",
    "t1 = timer()\n",
    "recorded_feature = audio2feature(recording)\n",
    "t2 = timer()\n",
    "\n",
    "recorded_feature = np.float32(recorded_feature.reshape(1, recorded_feature.shape[0], recorded_feature.shape[1], 1))\n",
    "prediction = model.predict(recorded_feature).reshape((14, ))\n",
    "print(prediction)\n",
    "print(prediction.sum())\n",
    "t3 = timer()\n",
    "# normalize prediction output to get \"probabilities\"\n",
    "prediction /= prediction.sum()\n",
    "\n",
    "# print the 3 candidates with highest probability\n",
    "prediction_sorted_indices = prediction.argsort()\n",
    "print(\"candidates:\\n-----------------------------\")\n",
    "for k in range(3):\n",
    "    i = int(prediction_sorted_indices[-1-k])\n",
    "    print(\"%d.)\\t%s\\t:\\t%2.1f%%\" % (k+1, all_targets[i], prediction[i]*100))\n",
    "print(\"-----------------------------\")\n",
    "print(\"feature computation time: %2.1f ms\" % ((t2-t1)*1e3))\n",
    "print(\"CNN model prediction time: %2.1f ms\" % ((t3-t2)*1e3))\n",
    "print(\"total time: %2.1f ms\" % ((t3-t1)*1e3))\n",
    "\n",
    "plt.close()\n",
    "plt.figure(1, figsize=(10, 7))\n",
    "plt.subplot(211)\n",
    "plt.plot(recording)\n",
    "plt.subplot(212)\n",
    "plt.imshow(recorded_feature.reshape(49, 26).T, aspect=\"auto\")\n",
    "plt.show()"
   ]
  },
  {
   "cell_type": "code",
   "execution_count": null,
   "metadata": {},
   "outputs": [],
   "source": []
  }
 ],
 "metadata": {
  "accelerator": "GPU",
  "colab": {
   "collapsed_sections": [],
   "name": "Classifier.ipynb",
   "provenance": []
  },
  "kernelspec": {
   "display_name": "Python 3",
   "language": "python",
   "name": "python3"
  },
  "language_info": {
   "codemirror_mode": {
    "name": "ipython",
    "version": 3
   },
   "file_extension": ".py",
   "mimetype": "text/x-python",
   "name": "python",
   "nbconvert_exporter": "python",
   "pygments_lexer": "ipython3",
   "version": "3.8.8"
  }
 },
 "nbformat": 4,
 "nbformat_minor": 1
}
